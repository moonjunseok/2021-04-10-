{
  "nbformat": 4,
  "nbformat_minor": 0,
  "metadata": {
    "colab": {
      "name": "파이썬을 제대로2",
      "provenance": [],
      "authorship_tag": "ABX9TyNC3uEBlOTEOqmQsCEVupOS",
      "include_colab_link": true
    },
    "kernelspec": {
      "name": "python3",
      "display_name": "Python 3"
    },
    "language_info": {
      "name": "python"
    }
  },
  "cells": [
    {
      "cell_type": "markdown",
      "metadata": {
        "id": "view-in-github",
        "colab_type": "text"
      },
      "source": [
        "<a href=\"https://colab.research.google.com/github/moonjunseok/2021-04-10-/blob/main/%ED%8C%8C%EC%9D%B4%EC%8D%AC%EC%9D%84_%EC%A0%9C%EB%8C%80%EB%A1%9C2.ipynb\" target=\"_parent\"><img src=\"https://colab.research.google.com/assets/colab-badge.svg\" alt=\"Open In Colab\"/></a>"
      ]
    },
    {
      "cell_type": "markdown",
      "metadata": {
        "id": "zMIoOQO0PJ_R"
      },
      "source": [
        "**함수**\n",
        "\n",
        "제가 생각했을땐 만능 키 같은 존재?\n",
        "내가 무슨 공식을 넣든 모든 입력값을 그 함수를 이용해 계산해주는거 같아요.\n",
        "\n",
        "**def** 함수이름(함수인자):\n",
        "       \n",
        "          수행할 문장1\n",
        "          수행할 문장2\n",
        "          return 반환값"
      ]
    },
    {
      "cell_type": "markdown",
      "metadata": {
        "id": "omMuGuL6Prjh"
      },
      "source": [
        "def 함수이름(파라미터):\n",
        "      \n",
        "      함수의 내용\n",
        "      return 반환값\n",
        "\n",
        "함수이름: 사용자가 정의하는 함수이름. 기존에 사용되는 함수나 예약어는 불가능\n",
        "\n",
        "파라미터: 함수 안에서 사용할 변수들 (생략 가능)\n",
        "\n",
        "retrun: 함수 안에서 모든 연산을 마친 후 반환할 값 (생략 가능)"
      ]
    },
    {
      "cell_type": "code",
      "metadata": {
        "id": "dvNLG2xrO8vb"
      },
      "source": [
        " #매개변수와 return값이 모두 있는 함수인 경우.\n",
        "\n",
        "def add(a,b):    \n",
        "  result = a+b\n",
        "  return result  "
      ],
      "execution_count": null,
      "outputs": []
    },
    {
      "cell_type": "code",
      "metadata": {
        "colab": {
          "base_uri": "https://localhost:8080/"
        },
        "id": "PMB1D8svSHkX",
        "outputId": "53923c1f-316c-4eb3-c938-be483352fd73"
      },
      "source": [
        "c=add(3,5)\n",
        "c"
      ],
      "execution_count": null,
      "outputs": [
        {
          "output_type": "execute_result",
          "data": {
            "text/plain": [
              "8"
            ]
          },
          "metadata": {
            "tags": []
          },
          "execution_count": 2
        }
      ]
    },
    {
      "cell_type": "code",
      "metadata": {
        "id": "jZYu9vj3SKhN"
      },
      "source": [
        "#return값이 비어있는 함수\n",
        "\n",
        "def sub(a,b):\n",
        "  print('뺄셈의 결과는 %d 입니다.'%(a-b))\n",
        "  return"
      ],
      "execution_count": null,
      "outputs": []
    },
    {
      "cell_type": "code",
      "metadata": {
        "colab": {
          "base_uri": "https://localhost:8080/"
        },
        "id": "3K2HCApQT1RF",
        "outputId": "593da79d-1fce-4dc7-d23c-0afe9fa260d4"
      },
      "source": [
        "d=sub(1,2)"
      ],
      "execution_count": null,
      "outputs": [
        {
          "output_type": "stream",
          "text": [
            "뺄셈의 결과는 -1 입니다.\n"
          ],
          "name": "stdout"
        }
      ]
    },
    {
      "cell_type": "code",
      "metadata": {
        "colab": {
          "base_uri": "https://localhost:8080/"
        },
        "id": "IRW66DrWT3LN",
        "outputId": "aeffd0f0-5e40-43b4-cf45-403f26e11e9f"
      },
      "source": [
        "print(d)  #값은 할당 되지 않는다."
      ],
      "execution_count": null,
      "outputs": [
        {
          "output_type": "stream",
          "text": [
            "None\n"
          ],
          "name": "stdout"
        }
      ]
    },
    {
      "cell_type": "code",
      "metadata": {
        "id": "-v6H4KpqT4xo"
      },
      "source": [
        "#return이 없는 함수\n",
        "\n",
        "def mul(a,b):\n",
        "  print('%d와 %d의 곱은 %d입니다.'%(a,b,a*b))"
      ],
      "execution_count": null,
      "outputs": []
    },
    {
      "cell_type": "code",
      "metadata": {
        "colab": {
          "base_uri": "https://localhost:8080/"
        },
        "id": "IiFCEsf1UQ2x",
        "outputId": "0b25a12b-a7dc-4acc-b0e2-f8fe74cff408"
      },
      "source": [
        "mul(3,2)"
      ],
      "execution_count": null,
      "outputs": [
        {
          "output_type": "stream",
          "text": [
            "3와 2의 곱은 6입니다.\n"
          ],
          "name": "stdout"
        }
      ]
    },
    {
      "cell_type": "code",
      "metadata": {
        "id": "gjWXZ1bIUSUa"
      },
      "source": [
        "#매개변수와 return값이 모두 없는 함수\n",
        "\n",
        "def start():\n",
        "  print('hello word!')"
      ],
      "execution_count": null,
      "outputs": []
    },
    {
      "cell_type": "code",
      "metadata": {
        "colab": {
          "base_uri": "https://localhost:8080/"
        },
        "id": "Eublp87tUoea",
        "outputId": "c685cfbc-5b88-4297-f6e8-063f57f74882"
      },
      "source": [
        "start()"
      ],
      "execution_count": null,
      "outputs": [
        {
          "output_type": "stream",
          "text": [
            "hello word!\n"
          ],
          "name": "stdout"
        }
      ]
    },
    {
      "cell_type": "code",
      "metadata": {
        "id": "2EVzhBkKUpjI"
      },
      "source": [
        "#매개변수의 초기값 미리 설정하기\n",
        "\n",
        "def function(a,n=2):\n",
        "  print('%d의 제곱은 %d 입니다.'%(a,a**n))"
      ],
      "execution_count": null,
      "outputs": []
    },
    {
      "cell_type": "code",
      "metadata": {
        "colab": {
          "base_uri": "https://localhost:8080/"
        },
        "id": "fX66hHFtd4ZY",
        "outputId": "2f08e64b-2644-4aa9-e9b3-e7acb22fcd26"
      },
      "source": [
        "function(4)"
      ],
      "execution_count": null,
      "outputs": [
        {
          "output_type": "stream",
          "text": [
            "4의 제곱은 16 입니다.\n"
          ],
          "name": "stdout"
        }
      ]
    },
    {
      "cell_type": "code",
      "metadata": {
        "id": "BS-L8uiXd6VK"
      },
      "source": [
        "#매개변수가 몇개가 필요할지 모를때\n",
        "def test(*args):   #args는 튜플로 출력이된다.\n",
        "  print(args)"
      ],
      "execution_count": null,
      "outputs": []
    },
    {
      "cell_type": "code",
      "metadata": {
        "colab": {
          "base_uri": "https://localhost:8080/"
        },
        "id": "igtMFvHQeLUX",
        "outputId": "7360ffa2-6980-4b58-d312-6f48593e8147"
      },
      "source": [
        "test(1,2,3,4,5,6,7,8,9,10)"
      ],
      "execution_count": null,
      "outputs": [
        {
          "output_type": "stream",
          "text": [
            "(1, 2, 3, 4, 5, 6, 7, 8, 9, 10)\n"
          ],
          "name": "stdout"
        }
      ]
    },
    {
      "cell_type": "code",
      "metadata": {
        "colab": {
          "base_uri": "https://localhost:8080/"
        },
        "id": "HzpP_zeFeP3b",
        "outputId": "897406ee-c613-4fc7-bac4-8969a713ef11"
      },
      "source": [
        "test([1,2],3)"
      ],
      "execution_count": null,
      "outputs": [
        {
          "output_type": "stream",
          "text": [
            "([1, 2], 3)\n"
          ],
          "name": "stdout"
        }
      ]
    },
    {
      "cell_type": "code",
      "metadata": {
        "id": "6vjYMjP-eTOs"
      },
      "source": [
        "def add(**kwargs):  #kwargs는 dict로 묶어준다.\n",
        "  print(kwargs)"
      ],
      "execution_count": null,
      "outputs": []
    },
    {
      "cell_type": "code",
      "metadata": {
        "colab": {
          "base_uri": "https://localhost:8080/"
        },
        "id": "rRLMueoLejok",
        "outputId": "265c3ed5-a23a-446a-f677-13a49fc0f68b"
      },
      "source": [
        "add(a=1,b=2,c=3)"
      ],
      "execution_count": null,
      "outputs": [
        {
          "output_type": "stream",
          "text": [
            "{'a': 1, 'b': 2, 'c': 3}\n"
          ],
          "name": "stdout"
        }
      ]
    }
  ]
}