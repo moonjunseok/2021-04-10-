{
  "nbformat": 4,
  "nbformat_minor": 0,
  "metadata": {
    "colab": {
      "name": "머신러닝을 위한 파이썬1",
      "provenance": [],
      "collapsed_sections": [],
      "authorship_tag": "ABX9TyMWHklStzimtp59fkh/JvKi",
      "include_colab_link": true
    },
    "kernelspec": {
      "name": "python3",
      "display_name": "Python 3"
    },
    "language_info": {
      "name": "python"
    }
  },
  "cells": [
    {
      "cell_type": "markdown",
      "metadata": {
        "id": "view-in-github",
        "colab_type": "text"
      },
      "source": [
        "<a href=\"https://colab.research.google.com/github/moonjunseok/moon-python/blob/main/%EB%A8%B8%EC%8B%A0%EB%9F%AC%EB%8B%9D%EC%9D%84_%EC%9C%84%ED%95%9C_%ED%8C%8C%EC%9D%B4%EC%8D%AC1.ipynb\" target=\"_parent\"><img src=\"https://colab.research.google.com/assets/colab-badge.svg\" alt=\"Open In Colab\"/></a>"
      ]
    },
    {
      "cell_type": "markdown",
      "metadata": {
        "id": "dGFliFy0F1BJ"
      },
      "source": [
        "여러 단어들을 하나로 붙일 때"
      ]
    },
    {
      "cell_type": "code",
      "metadata": {
        "id": "o2VhJVZlFxKo"
      },
      "source": [
        "colors = ['red','blue','green','yellow']\n",
        "result=''\n",
        "for s in colors:\n",
        "  result += s"
      ],
      "execution_count": 1,
      "outputs": []
    },
    {
      "cell_type": "code",
      "metadata": {
        "colab": {
          "base_uri": "https://localhost:8080/"
        },
        "id": "cDa_sIuMGHNd",
        "outputId": "0a2f8d75-ee22-4bdc-bd9d-d3f1cc4746d5"
      },
      "source": [
        "print(result)"
      ],
      "execution_count": 4,
      "outputs": [
        {
          "output_type": "stream",
          "text": [
            "redbluegreenyellow\n"
          ],
          "name": "stdout"
        }
      ]
    },
    {
      "cell_type": "code",
      "metadata": {
        "colab": {
          "base_uri": "https://localhost:8080/",
          "height": 35
        },
        "id": "EltgsFfjGPGN",
        "outputId": "f6cfa07a-8e75-48f6-bbcc-0506f2ea51bb"
      },
      "source": [
        "result = ''.join(colors)\n",
        "result"
      ],
      "execution_count": 5,
      "outputs": [
        {
          "output_type": "execute_result",
          "data": {
            "application/vnd.google.colaboratory.intrinsic+json": {
              "type": "string"
            },
            "text/plain": [
              "'redbluegreenyellow'"
            ]
          },
          "metadata": {
            "tags": []
          },
          "execution_count": 5
        }
      ]
    },
    {
      "cell_type": "markdown",
      "metadata": {
        "id": "ZdOIWjF3GtuX"
      },
      "source": [
        "**Python Code**\n",
        "\n",
        "Split & Join\n",
        "\n",
        "ListComprehension\n",
        "\n",
        "Enumerate & Zip"
      ]
    },
    {
      "cell_type": "markdown",
      "metadata": {
        "id": "QK2Rx-Z0HTyN"
      },
      "source": [
        "**Split 함수**\n",
        "- String Type의 값을 나눠서 List 형태로 변환"
      ]
    },
    {
      "cell_type": "code",
      "metadata": {
        "colab": {
          "base_uri": "https://localhost:8080/"
        },
        "id": "CtC6wgOFHgHA",
        "outputId": "ca1a735c-983b-49fd-c7df-9094271ad9fd"
      },
      "source": [
        "items = 'zero one two three'.split()  #빈칸을 기준으로 문자열 나누기\n",
        "print(items)  #뉴스데이"
      ],
      "execution_count": 6,
      "outputs": [
        {
          "output_type": "stream",
          "text": [
            "['zero', 'one', 'two', 'three']\n"
          ],
          "name": "stdout"
        }
      ]
    },
    {
      "cell_type": "code",
      "metadata": {
        "colab": {
          "base_uri": "https://localhost:8080/"
        },
        "id": "ay4Lr05KHnOb",
        "outputId": "1dfc0531-c182-4af3-f264-4c7bc5fccefb"
      },
      "source": [
        "example = 'python,jquery,javascript' # ,을 기준으로 문자열 나누기\n",
        "example.split(',')"
      ],
      "execution_count": 7,
      "outputs": [
        {
          "output_type": "execute_result",
          "data": {
            "text/plain": [
              "['python', 'jquery', 'javascript']"
            ]
          },
          "metadata": {
            "tags": []
          },
          "execution_count": 7
        }
      ]
    },
    {
      "cell_type": "code",
      "metadata": {
        "id": "nqxdZItMJEu5"
      },
      "source": [
        "a,b,c = example.split(',')  # 리스트에 있는 각 값을 a,b,c 변수로 unpacking"
      ],
      "execution_count": 8,
      "outputs": []
    },
    {
      "cell_type": "code",
      "metadata": {
        "colab": {
          "base_uri": "https://localhost:8080/"
        },
        "id": "_hYrpmicJMnM",
        "outputId": "731f78ca-d03b-4044-a77a-288ab134eb89"
      },
      "source": [
        "print(example)"
      ],
      "execution_count": 9,
      "outputs": [
        {
          "output_type": "stream",
          "text": [
            "python,jquery,javascript\n"
          ],
          "name": "stdout"
        }
      ]
    },
    {
      "cell_type": "code",
      "metadata": {
        "colab": {
          "base_uri": "https://localhost:8080/"
        },
        "id": "jH77clqmJRb8",
        "outputId": "d88fc5ed-efd0-4bff-fdd3-0e4c0b16dbc8"
      },
      "source": [
        "print(a)\n",
        "print(b)\n",
        "print(c)"
      ],
      "execution_count": 11,
      "outputs": [
        {
          "output_type": "stream",
          "text": [
            "python\n",
            "jquery\n",
            "javascript\n"
          ],
          "name": "stdout"
        }
      ]
    },
    {
      "cell_type": "code",
      "metadata": {
        "id": "l_j3ztxuJTkF"
      },
      "source": [
        "example = 'cs50.gachon.edu'\n",
        "subdomain,domain,tld = example.split('.')  # '.' 을 기준으로 문자열 나누기 -> unpacking"
      ],
      "execution_count": 13,
      "outputs": []
    },
    {
      "cell_type": "code",
      "metadata": {
        "colab": {
          "base_uri": "https://localhost:8080/"
        },
        "id": "8MLH0FyaL6MD",
        "outputId": "4917d669-b659-447a-a2ca-f9936458dd71"
      },
      "source": [
        "print(example)"
      ],
      "execution_count": 14,
      "outputs": [
        {
          "output_type": "stream",
          "text": [
            "cs50.gachon.edu\n"
          ],
          "name": "stdout"
        }
      ]
    },
    {
      "cell_type": "code",
      "metadata": {
        "colab": {
          "base_uri": "https://localhost:8080/",
          "height": 35
        },
        "id": "-1stfWEaMgiz",
        "outputId": "afd1ae52-19be-45e9-f3b6-625510e91508"
      },
      "source": [
        "subdomain"
      ],
      "execution_count": 15,
      "outputs": [
        {
          "output_type": "execute_result",
          "data": {
            "application/vnd.google.colaboratory.intrinsic+json": {
              "type": "string"
            },
            "text/plain": [
              "'cs50'"
            ]
          },
          "metadata": {
            "tags": []
          },
          "execution_count": 15
        }
      ]
    },
    {
      "cell_type": "markdown",
      "metadata": {
        "id": "QPpg1sD2NB4n"
      },
      "source": [
        "**join 함수**\n",
        "- String List를 합쳐 하나의 String으로 반환할 때 사용"
      ]
    },
    {
      "cell_type": "code",
      "metadata": {
        "colab": {
          "base_uri": "https://localhost:8080/",
          "height": 35
        },
        "id": "gKhURt4oMi0W",
        "outputId": "5682429d-5773-4ee7-e6f7-32794434a98d"
      },
      "source": [
        "colors = ['red','blue','green','yellow']\n",
        "result = ''.join(colors)\n",
        "result"
      ],
      "execution_count": 16,
      "outputs": [
        {
          "output_type": "execute_result",
          "data": {
            "application/vnd.google.colaboratory.intrinsic+json": {
              "type": "string"
            },
            "text/plain": [
              "'redbluegreenyellow'"
            ]
          },
          "metadata": {
            "tags": []
          },
          "execution_count": 16
        }
      ]
    },
    {
      "cell_type": "code",
      "metadata": {
        "colab": {
          "base_uri": "https://localhost:8080/",
          "height": 35
        },
        "id": "6Yr_MKkEOVL4",
        "outputId": "b1395e06-1fe9-4e5e-d21c-eb15f3045520"
      },
      "source": [
        "result = ' '.join(colors)   #연결 시 빈칸 1칸으로 연결\n",
        "result"
      ],
      "execution_count": 18,
      "outputs": [
        {
          "output_type": "execute_result",
          "data": {
            "application/vnd.google.colaboratory.intrinsic+json": {
              "type": "string"
            },
            "text/plain": [
              "'red blue green yellow'"
            ]
          },
          "metadata": {
            "tags": []
          },
          "execution_count": 18
        }
      ]
    },
    {
      "cell_type": "code",
      "metadata": {
        "colab": {
          "base_uri": "https://localhost:8080/",
          "height": 35
        },
        "id": "k2QRskF0PJ1Q",
        "outputId": "be7d15e0-8d64-4a2f-995f-70dce96e9206"
      },
      "source": [
        "result = ','.join(colors)  #연결 시 ',' 으로 연결\n",
        "result  "
      ],
      "execution_count": 19,
      "outputs": [
        {
          "output_type": "execute_result",
          "data": {
            "application/vnd.google.colaboratory.intrinsic+json": {
              "type": "string"
            },
            "text/plain": [
              "'red,blue,green,yellow'"
            ]
          },
          "metadata": {
            "tags": []
          },
          "execution_count": 19
        }
      ]
    },
    {
      "cell_type": "code",
      "metadata": {
        "colab": {
          "base_uri": "https://localhost:8080/",
          "height": 35
        },
        "id": "Cnejw8PXPZFf",
        "outputId": "733577c3-0ebc-40ae-96e3-6bb38c9f72c6"
      },
      "source": [
        "result = '-'.join(colors)  #연결 시 '-' 으로 연결\n",
        "result  "
      ],
      "execution_count": 20,
      "outputs": [
        {
          "output_type": "execute_result",
          "data": {
            "application/vnd.google.colaboratory.intrinsic+json": {
              "type": "string"
            },
            "text/plain": [
              "'red-blue-green-yellow'"
            ]
          },
          "metadata": {
            "tags": []
          },
          "execution_count": 20
        }
      ]
    },
    {
      "cell_type": "markdown",
      "metadata": {
        "id": "wtEySKxsP5cg"
      },
      "source": [
        "**ListComprehensions**\n",
        "\n",
        "\n",
        "*   기존 list 를 사용하여 간단히 다른 list를 만드는 기법\n",
        "*   포괄적인 list, 포함되는 리스트라는 의미로 사용됨\n",
        "*   일반적으로 for + append 보다 속도가 빠름\n",
        "\n"
      ]
    },
    {
      "cell_type": "code",
      "metadata": {
        "id": "UlUATOrPPd5z"
      },
      "source": [
        "result=[]\n",
        "for i in range(10):\n",
        "  result.append(i)"
      ],
      "execution_count": 21,
      "outputs": []
    },
    {
      "cell_type": "code",
      "metadata": {
        "colab": {
          "base_uri": "https://localhost:8080/"
        },
        "id": "aNwkbLMGQVnA",
        "outputId": "83374972-ebe1-4888-9264-e7c0963326f9"
      },
      "source": [
        "result"
      ],
      "execution_count": 22,
      "outputs": [
        {
          "output_type": "execute_result",
          "data": {
            "text/plain": [
              "[0, 1, 2, 3, 4, 5, 6, 7, 8, 9]"
            ]
          },
          "metadata": {
            "tags": []
          },
          "execution_count": 22
        }
      ]
    },
    {
      "cell_type": "code",
      "metadata": {
        "colab": {
          "base_uri": "https://localhost:8080/"
        },
        "id": "9ZnGkZ4xQWfJ",
        "outputId": "9d17ee30-e763-47d5-cd6b-c6072bd7c809"
      },
      "source": [
        "result=[i for i in range(10)]\n",
        "result"
      ],
      "execution_count": 23,
      "outputs": [
        {
          "output_type": "execute_result",
          "data": {
            "text/plain": [
              "[0, 1, 2, 3, 4, 5, 6, 7, 8, 9]"
            ]
          },
          "metadata": {
            "tags": []
          },
          "execution_count": 23
        }
      ]
    },
    {
      "cell_type": "code",
      "metadata": {
        "colab": {
          "base_uri": "https://localhost:8080/"
        },
        "id": "ZUduJ1tGQcXt",
        "outputId": "2739f7dc-8246-4672-b609-92e806cd77c8"
      },
      "source": [
        "result = [i for i in range(10) if i %2 == 0]\n",
        "result"
      ],
      "execution_count": 24,
      "outputs": [
        {
          "output_type": "execute_result",
          "data": {
            "text/plain": [
              "[0, 2, 4, 6, 8]"
            ]
          },
          "metadata": {
            "tags": []
          },
          "execution_count": 24
        }
      ]
    },
    {
      "cell_type": "code",
      "metadata": {
        "colab": {
          "base_uri": "https://localhost:8080/"
        },
        "id": "DBhty7wAQlHH",
        "outputId": "12e8e45b-1615-478f-a61e-5287756eeba3"
      },
      "source": [
        "word_1='Hello'\n",
        "word_2='World'\n",
        "result = [i+j for i in word_1 for j in word_2]\n",
        "print(result)   # Nested for loop"
      ],
      "execution_count": 36,
      "outputs": [
        {
          "output_type": "stream",
          "text": [
            "['HW', 'Ho', 'Hr', 'Hl', 'Hd', 'eW', 'eo', 'er', 'el', 'ed', 'lW', 'lo', 'lr', 'll', 'ld', 'lW', 'lo', 'lr', 'll', 'ld', 'oW', 'oo', 'or', 'ol', 'od']\n"
          ],
          "name": "stdout"
        }
      ]
    },
    {
      "cell_type": "code",
      "metadata": {
        "colab": {
          "base_uri": "https://localhost:8080/"
        },
        "id": "reECgi3wUDYK",
        "outputId": "f9a7af39-c996-474f-d924-101c76637b16"
      },
      "source": [
        "case_1 = ['A','B','C']\n",
        "case_2 = ['D','E','A']\n",
        "result = [i+j for i in case_1 for j in case_2]\n",
        "result"
      ],
      "execution_count": 26,
      "outputs": [
        {
          "output_type": "execute_result",
          "data": {
            "text/plain": [
              "['AD', 'AE', 'AA', 'BD', 'BE', 'BA', 'CD', 'CE', 'CA']"
            ]
          },
          "metadata": {
            "tags": []
          },
          "execution_count": 26
        }
      ]
    },
    {
      "cell_type": "code",
      "metadata": {
        "colab": {
          "base_uri": "https://localhost:8080/"
        },
        "id": "E-bOl1H4VeE-",
        "outputId": "dfb55e79-1571-48eb-bf6e-095834c1cffb"
      },
      "source": [
        "result = [i+j for i in case_1 for j in case_2 if not(i==j)]  # if문을 Filter : i랑 j과 같다면 List에 추가하지 않음\n",
        "result"
      ],
      "execution_count": 27,
      "outputs": [
        {
          "output_type": "execute_result",
          "data": {
            "text/plain": [
              "['AD', 'AE', 'BD', 'BE', 'BA', 'CD', 'CE', 'CA']"
            ]
          },
          "metadata": {
            "tags": []
          },
          "execution_count": 27
        }
      ]
    },
    {
      "cell_type": "code",
      "metadata": {
        "colab": {
          "base_uri": "https://localhost:8080/"
        },
        "id": "zGLAU0DOVtn6",
        "outputId": "95bbff87-e71f-4093-ce5a-435e02c32e78"
      },
      "source": [
        "result.sort()\n",
        "result"
      ],
      "execution_count": 28,
      "outputs": [
        {
          "output_type": "execute_result",
          "data": {
            "text/plain": [
              "['AD', 'AE', 'BA', 'BD', 'BE', 'CA', 'CD', 'CE']"
            ]
          },
          "metadata": {
            "tags": []
          },
          "execution_count": 28
        }
      ]
    },
    {
      "cell_type": "code",
      "metadata": {
        "colab": {
          "base_uri": "https://localhost:8080/"
        },
        "id": "XJ4G5LWoWCl1",
        "outputId": "937b6609-bda8-4085-e164-80e64da78c85"
      },
      "source": [
        "words = 'The quick brown fox jumps over the lazy dog'.split()\n",
        "# 문장을 빈칸 기준으로 나눠 list로 변환\n",
        "print(words)"
      ],
      "execution_count": 39,
      "outputs": [
        {
          "output_type": "stream",
          "text": [
            "['The', 'quick', 'brown', 'fox', 'jumps', 'over', 'the', 'lazy', 'dog']\n"
          ],
          "name": "stdout"
        }
      ]
    },
    {
      "cell_type": "code",
      "metadata": {
        "id": "JdUNIp7CWcX4"
      },
      "source": [
        "stuff=[[w.upper(),w.lower(),len(w)]for w in words]\n",
        "# list의 각 elemente들을 대문자, 소문자, 길이로 변환하여 two dimensional list로 변환"
      ],
      "execution_count": 37,
      "outputs": []
    },
    {
      "cell_type": "code",
      "metadata": {
        "colab": {
          "base_uri": "https://localhost:8080/"
        },
        "id": "ANxm9kuyW6Yu",
        "outputId": "ea858ee2-fcf8-4924-c5c1-8be445260444"
      },
      "source": [
        "stuff"
      ],
      "execution_count": 38,
      "outputs": [
        {
          "output_type": "execute_result",
          "data": {
            "text/plain": [
              "[['THE', 'the', 3],\n",
              " ['QUICK', 'quick', 5],\n",
              " ['BROWN', 'brown', 5],\n",
              " ['FOX', 'fox', 3],\n",
              " ['JUMPS', 'jumps', 5],\n",
              " ['OVER', 'over', 4],\n",
              " ['THE', 'the', 3],\n",
              " ['LAZY', 'lazy', 4],\n",
              " ['DOG', 'dog', 3]]"
            ]
          },
          "metadata": {
            "tags": []
          },
          "execution_count": 38
        }
      ]
    },
    {
      "cell_type": "markdown",
      "metadata": {
        "id": "44A3F0lWtVg_"
      },
      "source": [
        "Enumerate\n",
        "- list의 element를 추출할 때 번호를 붙여서 추출"
      ]
    },
    {
      "cell_type": "code",
      "metadata": {
        "colab": {
          "base_uri": "https://localhost:8080/"
        },
        "id": "Kh4-u3c1XTzw",
        "outputId": "74c0a66b-fbf1-4e05-9ebb-c6ecdc8f97e3"
      },
      "source": [
        "for i ,v in enumerate(['tic','tac','toe']):\n",
        "  #list의 있는 index와 값을 unpacking\n",
        "  print(i,v)"
      ],
      "execution_count": 1,
      "outputs": [
        {
          "output_type": "stream",
          "text": [
            "0 tic\n",
            "1 tac\n",
            "2 toe\n"
          ],
          "name": "stdout"
        }
      ]
    },
    {
      "cell_type": "code",
      "metadata": {
        "colab": {
          "base_uri": "https://localhost:8080/"
        },
        "id": "kBCeszYNt8Ol",
        "outputId": "4db43701-a9c8-49d2-c069-581a4aff7540"
      },
      "source": [
        "mylist = ['a','b','c','d']\n",
        "list(enumerate(mylist))  #list에 있는 index와 값을 unpacking하여 list로 저장"
      ],
      "execution_count": 3,
      "outputs": [
        {
          "output_type": "execute_result",
          "data": {
            "text/plain": [
              "[(0, 'a'), (1, 'b'), (2, 'c'), (3, 'd')]"
            ]
          },
          "metadata": {
            "tags": []
          },
          "execution_count": 3
        }
      ]
    },
    {
      "cell_type": "code",
      "metadata": {
        "colab": {
          "base_uri": "https://localhost:8080/"
        },
        "id": "v83lJmHouLoi",
        "outputId": "0fa98823-49aa-4ef3-e8f2-86ad32afe7a4"
      },
      "source": [
        "{i:j for i,j in enumerate('Gachon University is an academic institute located in south korea.'.split())}\n",
        "# 문장을 list로 만들고 list의 index와 값을 unpacking하여 dict로 저장"
      ],
      "execution_count": 4,
      "outputs": [
        {
          "output_type": "execute_result",
          "data": {
            "text/plain": [
              "{0: 'Gachon',\n",
              " 1: 'University',\n",
              " 2: 'is',\n",
              " 3: 'an',\n",
              " 4: 'academic',\n",
              " 5: 'institute',\n",
              " 6: 'located',\n",
              " 7: 'in',\n",
              " 8: 'south',\n",
              " 9: 'korea.'}"
            ]
          },
          "metadata": {
            "tags": []
          },
          "execution_count": 4
        }
      ]
    },
    {
      "cell_type": "markdown",
      "metadata": {
        "id": "dU6ydDjcz00u"
      },
      "source": [
        "**Zip**\n",
        "- 두 개의 list의 값을 병렬적으로 추출함"
      ]
    },
    {
      "cell_type": "code",
      "metadata": {
        "colab": {
          "base_uri": "https://localhost:8080/"
        },
        "id": "d_IrHPYzuvaE",
        "outputId": "32e81b2b-ba34-4e2d-ebd9-d01669de7e54"
      },
      "source": [
        "alist = ['a1','a2','a3']\n",
        "blist = ['b1','b2','b3']\n",
        "for a,b in zip(alist,blist): # 병렬적으로 값을 추출\n",
        "  print(a,b)"
      ],
      "execution_count": 5,
      "outputs": [
        {
          "output_type": "stream",
          "text": [
            "a1 b1\n",
            "a2 b2\n",
            "a3 b3\n"
          ],
          "name": "stdout"
        }
      ]
    },
    {
      "cell_type": "code",
      "metadata": {
        "id": "HMreNH8c0Q-p"
      },
      "source": [
        "a,b,c=zip((1,2,3),(10,20,30),(100,200,300))\n",
        "# 각 튜플의 같은 index끼리 묶음"
      ],
      "execution_count": 6,
      "outputs": []
    },
    {
      "cell_type": "code",
      "metadata": {
        "colab": {
          "base_uri": "https://localhost:8080/"
        },
        "id": "Ly_-nYbE0lQ6",
        "outputId": "05515770-4e52-46bf-d179-7e29a2e57bbc"
      },
      "source": [
        "a,b"
      ],
      "execution_count": 8,
      "outputs": [
        {
          "output_type": "execute_result",
          "data": {
            "text/plain": [
              "((1, 10, 100), (2, 20, 200))"
            ]
          },
          "metadata": {
            "tags": []
          },
          "execution_count": 8
        }
      ]
    },
    {
      "cell_type": "code",
      "metadata": {
        "colab": {
          "base_uri": "https://localhost:8080/"
        },
        "id": "G3v0t8xg0nIZ",
        "outputId": "650f4f96-6d10-4bf9-e447-1838af7661c8"
      },
      "source": [
        "[sum(x) for x in zip((1,2,3),(10,20,30),(100,200,300))]\n",
        "# 각 튜플 같은 index를 묶어 합을 list로 변환"
      ],
      "execution_count": 9,
      "outputs": [
        {
          "output_type": "execute_result",
          "data": {
            "text/plain": [
              "[111, 222, 333]"
            ]
          },
          "metadata": {
            "tags": []
          },
          "execution_count": 9
        }
      ]
    },
    {
      "cell_type": "markdown",
      "metadata": {
        "id": "vFhWgZGo1jxs"
      },
      "source": [
        "Enumerate & zip"
      ]
    },
    {
      "cell_type": "code",
      "metadata": {
        "colab": {
          "base_uri": "https://localhost:8080/"
        },
        "id": "QSgDkMqY0x4_",
        "outputId": "17c13536-8f60-441e-cea8-8bdcf24cb3a9"
      },
      "source": [
        "alist = ['a1','a2','a3']\n",
        "blist = ['b1','b2','b3']\n",
        "\n",
        "for i, (a,b) in enumerate(zip(alist,blist)):\n",
        "  print(i,a,b) # index alist[index] blist[index] 표시"
      ],
      "execution_count": 10,
      "outputs": [
        {
          "output_type": "stream",
          "text": [
            "0 a1 b1\n",
            "1 a2 b2\n",
            "2 a3 b3\n"
          ],
          "name": "stdout"
        }
      ]
    },
    {
      "cell_type": "code",
      "metadata": {
        "id": "_o4jceBv1-CA"
      },
      "source": [
        ""
      ],
      "execution_count": null,
      "outputs": []
    }
  ]
}