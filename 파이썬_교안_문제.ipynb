{
  "nbformat": 4,
  "nbformat_minor": 0,
  "metadata": {
    "colab": {
      "name": "파이썬 교안 문제",
      "provenance": [],
      "collapsed_sections": [],
      "authorship_tag": "ABX9TyPaRNzjzWX5ulXc7cLZi7S7",
      "include_colab_link": true
    },
    "kernelspec": {
      "name": "python3",
      "display_name": "Python 3"
    },
    "language_info": {
      "name": "python"
    }
  },
  "cells": [
    {
      "cell_type": "markdown",
      "metadata": {
        "id": "view-in-github",
        "colab_type": "text"
      },
      "source": [
        "<a href=\"https://colab.research.google.com/github/moonjunseok/moon-python/blob/main/%ED%8C%8C%EC%9D%B4%EC%8D%AC_%EA%B5%90%EC%95%88_%EB%AC%B8%EC%A0%9C.ipynb\" target=\"_parent\"><img src=\"https://colab.research.google.com/assets/colab-badge.svg\" alt=\"Open In Colab\"/></a>"
      ]
    },
    {
      "cell_type": "markdown",
      "metadata": {
        "id": "rakzWURngLnu"
      },
      "source": [
        "**'아메리카노를 많이많이많이 좋아한다.' 를 나오게 하세요.**"
      ]
    },
    {
      "cell_type": "code",
      "metadata": {
        "id": "0srkCatCfvCh"
      },
      "source": [
        "a='아메리카노를'\n",
        "b='좋아한다.'\n",
        "c='많이'"
      ],
      "execution_count": null,
      "outputs": []
    },
    {
      "cell_type": "code",
      "metadata": {
        "colab": {
          "base_uri": "https://localhost:8080/",
          "height": 35
        },
        "id": "TK7_7zdaf6sl",
        "outputId": "dcd0fddb-446f-4620-a257-edd51427503b"
      },
      "source": [
        "a+(3*c)+b"
      ],
      "execution_count": null,
      "outputs": [
        {
          "output_type": "execute_result",
          "data": {
            "application/vnd.google.colaboratory.intrinsic+json": {
              "type": "string"
            },
            "text/plain": [
              "'아메리카노를많이많이많이좋아한다.'"
            ]
          },
          "metadata": {
            "tags": []
          },
          "execution_count": 2
        }
      ]
    },
    {
      "cell_type": "markdown",
      "metadata": {
        "id": "-NT-J2nUgTN1"
      },
      "source": [
        "**좋아하는 음식 5개를 food라는 리스트에 담아보자.**"
      ]
    },
    {
      "cell_type": "code",
      "metadata": {
        "colab": {
          "base_uri": "https://localhost:8080/"
        },
        "id": "Kkk-_FjcgHtp",
        "outputId": "4dad64de-0afc-490e-d2af-767739746733"
      },
      "source": [
        "food=['피자','라면','햄버거','삼겹살','파스타']\n",
        "food"
      ],
      "execution_count": null,
      "outputs": [
        {
          "output_type": "execute_result",
          "data": {
            "text/plain": [
              "['피자', '라면', '햄버거', '삼겹살', '파스타']"
            ]
          },
          "metadata": {
            "tags": []
          },
          "execution_count": 4
        }
      ]
    },
    {
      "cell_type": "markdown",
      "metadata": {
        "id": "CrTgT-mJgjtN"
      },
      "source": [
        "**리스트 food 가장 앞에 파이썬이, 가장 뒤에는 집이라는 단어가 오도록 수정하자.**"
      ]
    },
    {
      "cell_type": "code",
      "metadata": {
        "colab": {
          "base_uri": "https://localhost:8080/"
        },
        "id": "xGWuaMhMgsev",
        "outputId": "8e269f4a-5c77-4123-ea37-6ea0998c8501"
      },
      "source": [
        "food.insert(0,'파이썬')\n",
        "food.append('집')\n",
        "food"
      ],
      "execution_count": null,
      "outputs": [
        {
          "output_type": "execute_result",
          "data": {
            "text/plain": [
              "['파이썬', '파이썬', '피자', '라면', '햄버거', '삼겹살', '파스타', '집']"
            ]
          },
          "metadata": {
            "tags": []
          },
          "execution_count": 7
        }
      ]
    },
    {
      "cell_type": "markdown",
      "metadata": {
        "id": "VWKrffuihfzv"
      },
      "source": [
        "**pop을 이용하여 파이썬을 삭제해보자**"
      ]
    },
    {
      "cell_type": "code",
      "metadata": {
        "colab": {
          "base_uri": "https://localhost:8080/"
        },
        "id": "DRC-QVIHgs9-",
        "outputId": "54001847-1cd7-440e-a3a3-c967202cb29c"
      },
      "source": [
        "food.pop(0)  #pop은 인덱스(위치) 가 명시되어야 한다.\n",
        "food"
      ],
      "execution_count": null,
      "outputs": [
        {
          "output_type": "execute_result",
          "data": {
            "text/plain": [
              "['피자', '라면', '햄버거', '삼겹살', '파스타', '집']"
            ]
          },
          "metadata": {
            "tags": []
          },
          "execution_count": 12
        }
      ]
    },
    {
      "cell_type": "markdown",
      "metadata": {
        "id": "YLiQ_zXxskPb"
      },
      "source": [
        "**사용자로 점수를 3개 입력받아 점수가 65점보다 클 경우 True 아닐경우 False를 출력하세요.**"
      ]
    },
    {
      "cell_type": "code",
      "metadata": {
        "colab": {
          "base_uri": "https://localhost:8080/"
        },
        "id": "r6rXDVugsvMs",
        "outputId": "fe07edc2-9cc9-4423-e277-e59912182d3c"
      },
      "source": [
        "a=[63,70,64]\n",
        "print(a[0]>65) and (a[1]>65) and (a[2]>65)"
      ],
      "execution_count": null,
      "outputs": [
        {
          "output_type": "stream",
          "text": [
            "False\n"
          ],
          "name": "stdout"
        }
      ]
    },
    {
      "cell_type": "markdown",
      "metadata": {
        "id": "HTce4a6yvxdd"
      },
      "source": [
        "국어, 영어, 수학 점수가 키로 하는 딕셔너리를 만들어보자. 각각의 점수는 다음과 같다.\n",
        "\n",
        "국어:87, 영어:88, 수학:82"
      ]
    },
    {
      "cell_type": "code",
      "metadata": {
        "colab": {
          "base_uri": "https://localhost:8080/"
        },
        "id": "23_nBuN5guiy",
        "outputId": "3cd086bb-8cd8-4263-f49b-9a905b717260"
      },
      "source": [
        "score={'국어':87,'영어':88,'수학':82}\n",
        "print(score)"
      ],
      "execution_count": null,
      "outputs": [
        {
          "output_type": "stream",
          "text": [
            "{'국어': 87, '영어': 88, '수학': 82}\n"
          ],
          "name": "stdout"
        }
      ]
    },
    {
      "cell_type": "markdown",
      "metadata": {
        "id": "Ilh4O_bY7PWN"
      },
      "source": [
        "b로 a를 나눈 나머지가 3초과면 실패, 3이면 무승부, 3미만이면 성공이 출력 되도록 만들어보자"
      ]
    },
    {
      "cell_type": "code",
      "metadata": {
        "id": "KYHBGtkwgurU"
      },
      "source": [
        "a=34\n",
        "b=4"
      ],
      "execution_count": null,
      "outputs": []
    },
    {
      "cell_type": "code",
      "metadata": {
        "id": "7sxdq-HFguvO"
      },
      "source": [
        "c=a%b"
      ],
      "execution_count": null,
      "outputs": []
    },
    {
      "cell_type": "code",
      "metadata": {
        "colab": {
          "base_uri": "https://localhost:8080/"
        },
        "id": "H02m3FSRguzZ",
        "outputId": "72cff114-da17-45fe-d409-62ffc631f198"
      },
      "source": [
        "if c>3:\n",
        "  print('실패')\n",
        "elif c==3:\n",
        "  print('무승부')\n",
        "else:\n",
        "  print('성공')"
      ],
      "execution_count": null,
      "outputs": [
        {
          "output_type": "stream",
          "text": [
            "성공\n"
          ],
          "name": "stdout"
        }
      ]
    },
    {
      "cell_type": "markdown",
      "metadata": {
        "id": "Vu1P8u4G8hqJ"
      },
      "source": [
        "사용자로 점수를 3개 입력받아 모든 점수가 65점보다 클 경우 합격 아닐 경우 불합격을 출력하세요. 단, 0~100이 아닌 숫자가 입력된 경우 \"잘못된 점수가 입력되었습니다\"를 출력하세요.\n",
        "\n"
      ]
    },
    {
      "cell_type": "code",
      "metadata": {
        "colab": {
          "base_uri": "https://localhost:8080/"
        },
        "id": "1tzdbMr-gu45",
        "outputId": "8090abbe-a28a-4fc8-cc48-5ab97f99f335"
      },
      "source": [
        "a=int(input())\n",
        "b=int(input())\n",
        "c=int(input())\n",
        "\n",
        "# if 100>=a>65 and 100>=b>65 and 100>=c>65 :\n",
        "#   print(\"합격\")\n",
        "# elif (0>=a and a>=100) and (0>=b and b>=100) and (0>=c and c>=100) :\n",
        "#   print(\"잘못된 점수가 입력되었습니다.\")\n",
        "# else:\n",
        "  # print('불합격')\n",
        "\n",
        "if 65<a<=100 and 65<b<=100 and 65<c<=100 :\n",
        "  print(\"합격\")\n",
        "elif 0<=a<=100 and 0<=b<=100 and 0<=c<=100 :\n",
        "  print(\"불합격\")\n",
        "else:\n",
        "   print(\"잘못된 점수가 입력되었습니다.\")\n"
      ],
      "execution_count": null,
      "outputs": [
        {
          "output_type": "stream",
          "text": [
            "80\n",
            "80\n",
            "80\n",
            "합격\n"
          ],
          "name": "stdout"
        }
      ]
    },
    {
      "cell_type": "markdown",
      "metadata": {
        "id": "MdBM-azhgz7f"
      },
      "source": [
        "사용자로부터 정수를 하나 입력받아 입력한 \n",
        "\n",
        "정수가 홀수인지 짝수인지 판별하여라 "
      ]
    },
    {
      "cell_type": "code",
      "metadata": {
        "id": "kGT9s0fZgu8P",
        "colab": {
          "base_uri": "https://localhost:8080/"
        },
        "outputId": "e5981f5f-7b4f-4c25-f796-69894fea5811"
      },
      "source": [
        "x = int(input('정수를 입력해주세요:'))\n",
        "if (x%2)==1:\n",
        "  print('입력하신 %d는 홀수입니다.'%x)\n",
        "else :\n",
        "  print('입력하신 %d는 짝수입니다.'%x)\n",
        "\n",
        "# a= int(input('정수를 입력해주세요 :'))\n",
        "# if a%2 == 0:\n",
        "#   print('입력하신' %d '는 짝수 입니다.' %a )\n",
        "# else:\n",
        "#   print('입력하신'a'는 홀수 입니다.')"
      ],
      "execution_count": null,
      "outputs": [
        {
          "output_type": "stream",
          "text": [
            "정수를 입력해주세요5\n",
            "입력하신 5는 홀수입니다.\n"
          ],
          "name": "stdout"
        }
      ]
    },
    {
      "cell_type": "markdown",
      "metadata": {
        "id": "XwxXoxPrg9_Y"
      },
      "source": [
        "양의 정수 하나를 입력받아 이 정수가 2의 배수인지 3의 배수인지 작성하시오."
      ]
    },
    {
      "cell_type": "code",
      "metadata": {
        "id": "pM7jhsL8gvAH",
        "colab": {
          "base_uri": "https://localhost:8080/"
        },
        "outputId": "efc1a2e1-8a8d-427b-bc56-3a5d2e28228e"
      },
      "source": [
        "a=int(input())\n",
        "\n",
        "if a%6==0:\n",
        "  print('이 정수는 2와 3의 배수입니다.')\n",
        "elif a%2 == 0:\n",
        "  print('이 정수는 2의 배수입니다.')\n",
        "elif a%3 == 0:\n",
        "  print('이 정수는 3의 배수입니다.')\n",
        "else:\n",
        "  pass"
      ],
      "execution_count": null,
      "outputs": [
        {
          "output_type": "stream",
          "text": [
            "13\n"
          ],
          "name": "stdout"
        }
      ]
    },
    {
      "cell_type": "markdown",
      "metadata": {
        "id": "eBiHcptjuCc2"
      },
      "source": [
        "1부터 10까지 합을 구하시오.(range 함수를 이용하시오)"
      ]
    },
    {
      "cell_type": "code",
      "metadata": {
        "id": "9xdIuoPxgvfc",
        "colab": {
          "base_uri": "https://localhost:8080/"
        },
        "outputId": "6813494a-e711-41a7-fc1d-76f65951d838"
      },
      "source": [
        "a=0\n",
        "\n",
        "for b in range(1,11): #1\n",
        "  a=a+b\n",
        "  print(a)"
      ],
      "execution_count": null,
      "outputs": [
        {
          "output_type": "stream",
          "text": [
            "1\n",
            "3\n",
            "6\n",
            "10\n",
            "15\n",
            "21\n",
            "28\n",
            "36\n",
            "45\n",
            "55\n"
          ],
          "name": "stdout"
        }
      ]
    },
    {
      "cell_type": "markdown",
      "metadata": {
        "id": "hW3zmc8UzLuA"
      },
      "source": [
        "사용자로부터 정수를 입력받아, 해당 정수만큼 '안녕'을 출력해주세요.\n",
        "\n",
        "정수를 입력해주세요:5\n",
        "\n",
        "안녕\n",
        "\n",
        "안녕\n",
        "\n",
        "안녕\n",
        "\n",
        "안녕\n",
        "\n",
        "안녕"
      ]
    },
    {
      "cell_type": "code",
      "metadata": {
        "id": "tQ3otiiRgviu",
        "colab": {
          "base_uri": "https://localhost:8080/"
        },
        "outputId": "5e470cd5-1b5e-49f9-b4e7-3504346c57c3"
      },
      "source": [
        "a=int(input('정수를 입력해주세요:'))\n",
        "\n",
        "for i in range(a):\n",
        "  print('안녕')"
      ],
      "execution_count": null,
      "outputs": [
        {
          "output_type": "stream",
          "text": [
            "정수를 입력해주세요:5\n",
            "안녕\n",
            "안녕\n",
            "안녕\n",
            "안녕\n",
            "안녕\n"
          ],
          "name": "stdout"
        }
      ]
    },
    {
      "cell_type": "markdown",
      "metadata": {
        "id": "npirXej60yhf"
      },
      "source": [
        "정수를 입력해주세요 :5\n",
        "\n",
        "*\n",
        "\n",
        "**\n",
        "\n",
        "'***\n",
        "\n",
        "'****\n",
        "\n",
        "'*****"
      ]
    },
    {
      "cell_type": "code",
      "metadata": {
        "id": "FwQvy8LigvpG",
        "colab": {
          "base_uri": "https://localhost:8080/"
        },
        "outputId": "f5e5a60e-7412-45ed-ebf4-23b2853871ee"
      },
      "source": [
        "a=int(input('정수를 입력해주세요:'))\n",
        "\n",
        "for i in range(a):\n",
        "  print('*'*(i+1))  #0부터 시작하니깐 "
      ],
      "execution_count": null,
      "outputs": [
        {
          "output_type": "stream",
          "text": [
            "정수를 입력해주세요:5\n",
            "*\n",
            "**\n",
            "***\n",
            "****\n",
            "*****\n"
          ],
          "name": "stdout"
        }
      ]
    },
    {
      "cell_type": "markdown",
      "metadata": {
        "id": "oAM7ja9u6Ay8"
      },
      "source": [
        "사용자로부터 정수를 입력받아, 입력된 정수 만큼 별 찍기(역순)"
      ]
    },
    {
      "cell_type": "code",
      "metadata": {
        "id": "_pnVCoxlgvwg",
        "colab": {
          "base_uri": "https://localhost:8080/"
        },
        "outputId": "dc876a93-c69e-4e43-b87d-edd1e331ddc2"
      },
      "source": [
        "a=int(input('정수를 입력해주세요:'))\n",
        "\n",
        "for i in range(a,0,-1):\n",
        "  print('*'*(i))"
      ],
      "execution_count": null,
      "outputs": [
        {
          "output_type": "stream",
          "text": [
            "정수를 입력해주세요:5\n",
            "*****\n",
            "****\n",
            "***\n",
            "**\n",
            "*\n"
          ],
          "name": "stdout"
        }
      ]
    },
    {
      "cell_type": "markdown",
      "metadata": {
        "id": "yZpjSQIQ9u4w"
      },
      "source": [
        "1.  x=[3,6,9,20,-7,5]의 값의 모든 요소에 10을 곱한뒤 출력하세요.\n",
        "\n",
        "심화:출력과 리스트 x의 값에도 모두 10을 곱해주세요."
      ]
    },
    {
      "cell_type": "code",
      "metadata": {
        "id": "Eq9k8rPegv0d",
        "colab": {
          "base_uri": "https://localhost:8080/"
        },
        "outputId": "2a8f629a-c4e5-498b-c5a7-5f2406603d3d"
      },
      "source": [
        "x=[3,6,9,20,-7,5]\n",
        "\n",
        "# for i in x:\n",
        "#   print(i*10,end=',')   # end=',' : ,를 붙혀주고 옆에다가 나열\n",
        "\n",
        "for i in range(len(x)):      #  range(len(x)): x안에 갯수만큼, 즉 x는 6개이므로 range(6)이 된다.\n",
        "  x[i]=x[i]*10\n",
        "  print(x)"
      ],
      "execution_count": null,
      "outputs": [
        {
          "output_type": "stream",
          "text": [
            "[30, 6, 9, 20, -7, 5]\n",
            "[30, 60, 9, 20, -7, 5]\n",
            "[30, 60, 90, 20, -7, 5]\n",
            "[30, 60, 90, 200, -7, 5]\n",
            "[30, 60, 90, 200, -70, 5]\n",
            "[30, 60, 90, 200, -70, 50]\n"
          ],
          "name": "stdout"
        }
      ]
    },
    {
      "cell_type": "markdown",
      "metadata": {
        "id": "sypWL0GID-rW"
      },
      "source": [
        "y={'math':70,'science':80,'english':20}의 값의 모든 요소에 10을 더한뒤 출력하세요."
      ]
    },
    {
      "cell_type": "code",
      "metadata": {
        "id": "rNuoHhHNgv6n",
        "colab": {
          "base_uri": "https://localhost:8080/"
        },
        "outputId": "64753ad1-6af9-425a-a97f-ecf79760cec7"
      },
      "source": [
        "y={'math':70,'science':80,'english':20}\n",
        "\n",
        "for key in y:\n",
        "  val=y[key]\n",
        "  val= y[key]+10\n",
        "  print('%s:%d'%(key,val))  "
      ],
      "execution_count": null,
      "outputs": [
        {
          "output_type": "stream",
          "text": [
            "math:80\n",
            "science:90\n",
            "english:30\n"
          ],
          "name": "stdout"
        }
      ]
    },
    {
      "cell_type": "code",
      "metadata": {
        "id": "sen8GWdCEicj",
        "colab": {
          "base_uri": "https://localhost:8080/",
          "height": 134
        },
        "outputId": "dbc502c1-1b5a-41fc-a940-3f1e718fb3c3"
      },
      "source": [
        "y={'math':70,'science':80,'english':20}\n",
        "\n",
        "# for a in y:\n",
        "#   val=y[a]\n",
        "#   print(val)\n",
        "a=y[]"
      ],
      "execution_count": null,
      "outputs": [
        {
          "output_type": "error",
          "ename": "SyntaxError",
          "evalue": "ignored",
          "traceback": [
            "\u001b[0;36m  File \u001b[0;32m\"<ipython-input-8-bcbfa8213aa2>\"\u001b[0;36m, line \u001b[0;32m6\u001b[0m\n\u001b[0;31m    a=y[]\u001b[0m\n\u001b[0m        ^\u001b[0m\n\u001b[0;31mSyntaxError\u001b[0m\u001b[0;31m:\u001b[0m invalid syntax\n"
          ]
        }
      ]
    },
    {
      "cell_type": "markdown",
      "metadata": {
        "id": "iag2zE1K0YcQ"
      },
      "source": [
        "숫자를 입력받고 입력받은 정수의 구구단을 출력하세요."
      ]
    },
    {
      "cell_type": "code",
      "metadata": {
        "colab": {
          "base_uri": "https://localhost:8080/"
        },
        "id": "CfOI640luVvj",
        "outputId": "dcff3db4-b1d2-4350-f85d-72879a82959e"
      },
      "source": [
        "a=int(input('정수를 입력해주세요:'))\n",
        "for b in range(1,11):\n",
        "  print('%d*%d=%d'%(a,b,a*b))"
      ],
      "execution_count": null,
      "outputs": [
        {
          "output_type": "stream",
          "text": [
            "정수를 입력해주세요:5\n",
            "5*1=5\n",
            "5*2=10\n",
            "5*3=15\n",
            "5*4=20\n",
            "5*5=25\n",
            "5*6=30\n",
            "5*7=35\n",
            "5*8=40\n",
            "5*9=45\n",
            "5*10=50\n"
          ],
          "name": "stdout"
        }
      ]
    },
    {
      "cell_type": "markdown",
      "metadata": {
        "id": "Y7WUd_rK0Nj7"
      },
      "source": [
        "(1) word=['school','game','piano','science','hotel','mountain'] 중 \n",
        "\n",
        "글자수가 6글자 이상인 문자를 모아 새로운 리스트를 생성 하세요.\n"
      ]
    },
    {
      "cell_type": "code",
      "metadata": {
        "colab": {
          "base_uri": "https://localhost:8080/"
        },
        "id": "5z5d4ffqzxbk",
        "outputId": "eac17ce1-6368-4ad0-fce6-c9f87ec52389"
      },
      "source": [
        "word=['school','game','piano','science','hotel','mountain']\n",
        "\n",
        "a=[]\n",
        "for i in range(len(word)):\n",
        "  if len(word[i])>=6:\n",
        "    a.append(word[i])\n",
        "print(a)"
      ],
      "execution_count": null,
      "outputs": [
        {
          "output_type": "stream",
          "text": [
            "['school', 'science', 'mountain']\n"
          ],
          "name": "stdout"
        }
      ]
    },
    {
      "cell_type": "markdown",
      "metadata": {
        "id": "ttnhAVny-vB3"
      },
      "source": [
        "구구단을 1단부터 9단까지 출력"
      ]
    },
    {
      "cell_type": "code",
      "metadata": {
        "colab": {
          "base_uri": "https://localhost:8080/"
        },
        "id": "a1AsE9P_zxgb",
        "outputId": "98e436a3-99a5-4641-eb2e-2c18f7b5319c"
      },
      "source": [
        "for a in range(1,10):\n",
        "  for b in range(1,10):\n",
        "    print('%d*%d : %d'%(a,b,a*b))"
      ],
      "execution_count": null,
      "outputs": [
        {
          "output_type": "stream",
          "text": [
            "1*1 : 1\n",
            "1*2 : 2\n",
            "1*3 : 3\n",
            "1*4 : 4\n",
            "1*5 : 5\n",
            "1*6 : 6\n",
            "1*7 : 7\n",
            "1*8 : 8\n",
            "1*9 : 9\n",
            "2*1 : 2\n",
            "2*2 : 4\n",
            "2*3 : 6\n",
            "2*4 : 8\n",
            "2*5 : 10\n",
            "2*6 : 12\n",
            "2*7 : 14\n",
            "2*8 : 16\n",
            "2*9 : 18\n",
            "3*1 : 3\n",
            "3*2 : 6\n",
            "3*3 : 9\n",
            "3*4 : 12\n",
            "3*5 : 15\n",
            "3*6 : 18\n",
            "3*7 : 21\n",
            "3*8 : 24\n",
            "3*9 : 27\n",
            "4*1 : 4\n",
            "4*2 : 8\n",
            "4*3 : 12\n",
            "4*4 : 16\n",
            "4*5 : 20\n",
            "4*6 : 24\n",
            "4*7 : 28\n",
            "4*8 : 32\n",
            "4*9 : 36\n",
            "5*1 : 5\n",
            "5*2 : 10\n",
            "5*3 : 15\n",
            "5*4 : 20\n",
            "5*5 : 25\n",
            "5*6 : 30\n",
            "5*7 : 35\n",
            "5*8 : 40\n",
            "5*9 : 45\n",
            "6*1 : 6\n",
            "6*2 : 12\n",
            "6*3 : 18\n",
            "6*4 : 24\n",
            "6*5 : 30\n",
            "6*6 : 36\n",
            "6*7 : 42\n",
            "6*8 : 48\n",
            "6*9 : 54\n",
            "7*1 : 7\n",
            "7*2 : 14\n",
            "7*3 : 21\n",
            "7*4 : 28\n",
            "7*5 : 35\n",
            "7*6 : 42\n",
            "7*7 : 49\n",
            "7*8 : 56\n",
            "7*9 : 63\n",
            "8*1 : 8\n",
            "8*2 : 16\n",
            "8*3 : 24\n",
            "8*4 : 32\n",
            "8*5 : 40\n",
            "8*6 : 48\n",
            "8*7 : 56\n",
            "8*8 : 64\n",
            "8*9 : 72\n",
            "9*1 : 9\n",
            "9*2 : 18\n",
            "9*3 : 27\n",
            "9*4 : 36\n",
            "9*5 : 45\n",
            "9*6 : 54\n",
            "9*7 : 63\n",
            "9*8 : 72\n",
            "9*9 : 81\n"
          ],
          "name": "stdout"
        }
      ]
    },
    {
      "cell_type": "code",
      "metadata": {
        "colab": {
          "base_uri": "https://localhost:8080/"
        },
        "id": "7t8XFALpzxk0",
        "outputId": "60d7d189-942a-40ab-9075-47e80cdf85be"
      },
      "source": [
        "b=int(input('입력하세요:'))\n",
        "\n",
        "for i in range(1,b+1):\n",
        "  if (i%15)==0:\n",
        "    print('3과 5의 공배수')\n",
        "  elif (i%3)==0:\n",
        "    print('3의 배수')\n",
        "  elif (i%5)==0:\n",
        "    print('5의 배수')\n",
        "  else:\n",
        "    print(i)"
      ],
      "execution_count": null,
      "outputs": [
        {
          "output_type": "stream",
          "text": [
            "입력하세요:21\n",
            "1\n",
            "2\n",
            "3의 배수\n",
            "4\n",
            "5의 배수\n",
            "3의 배수\n",
            "7\n",
            "8\n",
            "3의 배수\n",
            "5의 배수\n",
            "11\n",
            "3의 배수\n",
            "13\n",
            "14\n",
            "3과 5의 공배수\n",
            "16\n",
            "17\n",
            "3의 배수\n",
            "19\n",
            "5의 배수\n",
            "3의 배수\n"
          ],
          "name": "stdout"
        }
      ]
    },
    {
      "cell_type": "code",
      "metadata": {
        "colab": {
          "base_uri": "https://localhost:8080/"
        },
        "id": "7V5WQH-Zzxp5",
        "outputId": "de130b07-b447-4d9d-d312-1a6793ccdf5b"
      },
      "source": [
        "#사용자로부터 숫자를 계속 입력 받다가 s or S 를 입력하면 합계출력\n",
        "\n",
        "c=0\n",
        "d=1\n",
        "while (d==1):\n",
        "  a=(input())\n",
        "  if (a=='s' or a=='S'):\n",
        "    d=0\n",
        "  else:\n",
        "    a=int(a)\n",
        "    c+=a\n",
        "print(c)"
      ],
      "execution_count": null,
      "outputs": [
        {
          "output_type": "stream",
          "text": [
            "5\n",
            "5\n",
            "5\n",
            "s\n",
            "15\n"
          ],
          "name": "stdout"
        }
      ]
    },
    {
      "cell_type": "code",
      "metadata": {
        "id": "Mtv3Kzpdzxty"
      },
      "source": [
        "#두개의 숫자를 input으로 받으면 앞의 숫자를 뒤의 숫자로 나누는 함수이다.\n",
        "#나눗셈을 한 후에는 몫과 나머지 순으로 된 튜플 값을 반환한다."
      ],
      "execution_count": null,
      "outputs": []
    },
    {
      "cell_type": "code",
      "metadata": {
        "id": "G6MkAJlszxy_"
      },
      "source": [
        "def div(a,b):\n",
        "  result=(a//b,a%b)\n",
        "  return result"
      ],
      "execution_count": null,
      "outputs": []
    },
    {
      "cell_type": "code",
      "metadata": {
        "id": "7Bm05S9Hzx4J",
        "colab": {
          "base_uri": "https://localhost:8080/"
        },
        "outputId": "01aa6731-a94d-472d-9a22-a3492ff952ee"
      },
      "source": [
        "c=div(3,5)\n",
        "c"
      ],
      "execution_count": null,
      "outputs": [
        {
          "output_type": "execute_result",
          "data": {
            "text/plain": [
              "(0, 3)"
            ]
          },
          "metadata": {
            "tags": []
          },
          "execution_count": 20
        }
      ]
    },
    {
      "cell_type": "code",
      "metadata": {
        "id": "jraddWKCzx70",
        "colab": {
          "base_uri": "https://localhost:8080/"
        },
        "outputId": "cd53461e-ce96-4775-ded4-973211ad099b"
      },
      "source": [
        "type(c)"
      ],
      "execution_count": null,
      "outputs": [
        {
          "output_type": "execute_result",
          "data": {
            "text/plain": [
              "tuple"
            ]
          },
          "metadata": {
            "tags": []
          },
          "execution_count": 21
        }
      ]
    },
    {
      "cell_type": "code",
      "metadata": {
        "colab": {
          "base_uri": "https://localhost:8080/"
        },
        "id": "FcgYZG91XV_4",
        "outputId": "1917bca3-9495-492c-bc1f-e601bfcc0f43"
      },
      "source": [
        "#이 함수는 두개의 숫자를 input으로 받으면 작은 수로 큰 수를 나눈 몫과 나머지를 반환하는 함수이다.\n",
        "#반환 값은 튜플로 되어 있으며 몫, 나머지 순으로 되어 있다.\n",
        "#단, 0으로 나누는 것은 불가하기 때문에 두 수 중에 작은 수가 0이라면 화면에 '0은 사용할 수 없습니다'를 출력하고 종료되어야 한다.\n",
        "\n",
        "a=int(input())\n",
        "b=int(input())\n",
        "\n",
        "def div(a,b):\n",
        "  if(a<b):\n",
        "    result=(a//b,a%b)\n",
        "  elif a==0 or b==0 :\n",
        "    print('0은 사용할수 없습니다')\n",
        "  else:\n",
        "    pass  \n",
        "    return result\n"
      ],
      "execution_count": null,
      "outputs": [
        {
          "output_type": "stream",
          "text": [
            "5\n",
            "7\n"
          ],
          "name": "stdout"
        }
      ]
    },
    {
      "cell_type": "code",
      "metadata": {
        "colab": {
          "base_uri": "https://localhost:8080/"
        },
        "id": "DdqoDebub5F2",
        "outputId": "8991669d-11fb-4c90-caae-c90c3e21fe8b"
      },
      "source": [
        "#어떠한 string을 받으면 일정한 단위로 끊어서 화면에 출력하는 함수를 짜보자\n",
        "#끊는 단위는 따로 정하지 않으면 2로 설정해보자.\n",
        "\n",
        "def func(string,unit):  #string 은 매개변수 , unit\n",
        "  i=0\n",
        "  while i < len(string):\n",
        "    print(string[i:i+unit])\n",
        "    i+=unit\n",
        "func('테스트를 위한 문장입니다.',2)"
      ],
      "execution_count": null,
      "outputs": [
        {
          "output_type": "stream",
          "text": [
            "테스\n",
            "트를\n",
            " 위\n",
            "한 \n",
            "문장\n",
            "입니\n",
            "다.\n"
          ],
          "name": "stdout"
        }
      ]
    },
    {
      "cell_type": "code",
      "metadata": {
        "id": "RTzqo9A0fXDW"
      },
      "source": [
        "#add_all함수를 짜봅시다.\n",
        "# add_all(1,2,3,4,5,6,7,8,9,10) -> 55\n",
        "\n",
        "def add_all(*a):  #add_all이라는 함수를 쓰고, (*a) 는 안에 있는걸 모두 곱해준다.\n",
        "  s= 0            #s는 0이다.\n",
        "  for i in range(len(a)):  # i에다가 len(a)=9, 즉 9까지를 i에 차례대로 넣을꺼다.\n",
        "    s+=a[i]   # s = s+a[i], 누적 합을 구한다.\n",
        "  return s #add_all은 s를 값으로 나타낸다."
      ],
      "execution_count": null,
      "outputs": []
    },
    {
      "cell_type": "code",
      "metadata": {
        "colab": {
          "base_uri": "https://localhost:8080/"
        },
        "id": "sPghddI5pn8e",
        "outputId": "3958da58-af5d-4140-b9b4-de1e67267ed7"
      },
      "source": [
        "add_all(1,2,3,4,5,6,7,8,9,10)"
      ],
      "execution_count": null,
      "outputs": [
        {
          "output_type": "execute_result",
          "data": {
            "text/plain": [
              "55"
            ]
          },
          "metadata": {
            "tags": []
          },
          "execution_count": 47
        }
      ]
    },
    {
      "cell_type": "code",
      "metadata": {
        "id": "RAFfSfnRqhN6"
      },
      "source": [
        ""
      ],
      "execution_count": null,
      "outputs": []
    }
  ]
}