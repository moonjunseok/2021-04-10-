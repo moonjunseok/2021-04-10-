{
  "nbformat": 4,
  "nbformat_minor": 0,
  "metadata": {
    "colab": {
      "name": "Numpy2",
      "provenance": [],
      "collapsed_sections": [],
      "authorship_tag": "ABX9TyOsrLEKmUWfXCuc5/3gwT4B",
      "include_colab_link": true
    },
    "kernelspec": {
      "name": "python3",
      "display_name": "Python 3"
    },
    "language_info": {
      "name": "python"
    }
  },
  "cells": [
    {
      "cell_type": "markdown",
      "metadata": {
        "id": "view-in-github",
        "colab_type": "text"
      },
      "source": [
        "<a href=\"https://colab.research.google.com/github/moonjunseok/moon-python/blob/main/Numpy2.ipynb\" target=\"_parent\"><img src=\"https://colab.research.google.com/assets/colab-badge.svg\" alt=\"Open In Colab\"/></a>"
      ]
    },
    {
      "cell_type": "code",
      "metadata": {
        "colab": {
          "base_uri": "https://localhost:8080/"
        },
        "id": "grFiaVf7qbp-",
        "outputId": "ceaaff52-ef49-4b26-cbd3-5203b9994f5e"
      },
      "source": [
        "import random\n",
        "n=int(input('로또 번호를 몇개 생성할까요?>'))\n"
      ],
      "execution_count": null,
      "outputs": [
        {
          "output_type": "stream",
          "text": [
            "로또 번호를 몇개 생성할까요?>4\n",
            "[22, 23, 33, 40, 43, 45]\n"
          ],
          "name": "stdout"
        }
      ]
    },
    {
      "cell_type": "code",
      "metadata": {
        "colab": {
          "base_uri": "https://localhost:8080/"
        },
        "id": "-rXawYO3qbk_",
        "outputId": "6073bad0-96be-4b6c-ce32-03648aeae3a8"
      },
      "source": [
        "import numpy as np\n",
        "n=int(input('로또 번호를 몇개 생성할까요?>'))\n",
        "def lotto(n):\n",
        "  for i in range(1,n+1):\n",
        "    print(f'{i}. 로또번호 :{np.random.choice(46,6,replace=False)}')\n",
        "lotto(n)"
      ],
      "execution_count": null,
      "outputs": [
        {
          "output_type": "stream",
          "text": [
            "로또 번호를 몇개 생성할까요?>0\n"
          ],
          "name": "stdout"
        }
      ]
    },
    {
      "cell_type": "code",
      "metadata": {
        "id": "WsDF4aVwqbc0"
      },
      "source": [
        ""
      ],
      "execution_count": null,
      "outputs": []
    },
    {
      "cell_type": "markdown",
      "metadata": {
        "id": "H-rkcE88hOwt"
      },
      "source": [
        "**랜덤 함수**\n",
        "\n",
        "random은 난수를 발생시키는 모듈. 모듈에는 여러 함수가 존재\n",
        "\n",
        "\n",
        "\n"
      ]
    },
    {
      "cell_type": "code",
      "metadata": {
        "id": "_3MYNW7ehEnf"
      },
      "source": [
        "import random  #random module 설치해주고"
      ],
      "execution_count": null,
      "outputs": []
    },
    {
      "cell_type": "markdown",
      "metadata": {
        "id": "_mGCp8mnrMUD"
      },
      "source": [
        "**random.random() **\n",
        "\n",
        "0.0에서부터 1,0 사이의 실수(float)를 반환합니다.\n",
        "\n",
        "(정확한 범위는 1.0을 포함하지 않는 범위입니다. (0.0 <= x < 1.0)\n"
      ]
    },
    {
      "cell_type": "code",
      "metadata": {
        "colab": {
          "base_uri": "https://localhost:8080/"
        },
        "id": "KiepWOurhZg_",
        "outputId": "6709cca3-1ca8-4fbd-9fa2-62a1735482c0"
      },
      "source": [
        "x=random.random()\n",
        "print(x)"
      ],
      "execution_count": null,
      "outputs": [
        {
          "output_type": "stream",
          "text": [
            "0.9204158103895553\n"
          ],
          "name": "stdout"
        }
      ]
    },
    {
      "cell_type": "markdown",
      "metadata": {
        "id": "uO9X2YZPrpvU"
      },
      "source": [
        "**random.uniform(a,b)**\n",
        "\n",
        "인자로 들어온 a~b 사이의 실수(float)를 반환합니다. \n",
        "\n",
        "uniform 함수의 랜덤 범위는 a<= x <= b 입니다."
      ]
    },
    {
      "cell_type": "code",
      "metadata": {
        "colab": {
          "base_uri": "https://localhost:8080/"
        },
        "id": "invPBGDpsFaz",
        "outputId": "604cd739-ecf3-492c-ef81-2602784c80e6"
      },
      "source": [
        "x = random.uniform(10, 20)\n",
        "print(x)"
      ],
      "execution_count": null,
      "outputs": [
        {
          "output_type": "stream",
          "text": [
            "15.955597014962006\n"
          ],
          "name": "stdout"
        }
      ]
    },
    {
      "cell_type": "markdown",
      "metadata": {
        "id": "_n7H7k5_sEaO"
      },
      "source": [
        "**random.randint(a,b)**\n",
        "\n",
        "인자로 들어온 a,b 사이의 랜덤한 정수(int)를 반환합니다.\n",
        "\n",
        "반환하는 x는 a,b를 포함한 범위입니다. (a<=x<=b)\n",
        "\n",
        "randrange 함수에 a,b+1을 넣은것과 동일하게 동작합니다."
      ]
    },
    {
      "cell_type": "code",
      "metadata": {
        "colab": {
          "base_uri": "https://localhost:8080/"
        },
        "id": "nCRzoWelrnvb",
        "outputId": "7b24b75e-a39c-46f2-cd70-71b662887fcd"
      },
      "source": [
        "x=random.randint(10,20)\n",
        "print(x)"
      ],
      "execution_count": null,
      "outputs": [
        {
          "output_type": "stream",
          "text": [
            "13\n"
          ],
          "name": "stdout"
        }
      ]
    },
    {
      "cell_type": "markdown",
      "metadata": {
        "id": "ei4r3XbcwRW5"
      },
      "source": [
        "**random.randrange(a,b),  random.randrange(b)**\n",
        "\n",
        "매개변수 1개 버전, 2개 버전이 존재합니다.\n",
        "\n",
        "randrange(a,b)는 a<= x <=b 의 범위내에서 정수(int)를 반환합니다.(b를 포함하지 않습니다.)\n",
        "\n",
        "randrange(b) 는 0<= x < b 의 범위 내에서의 랜덤한 정수(int)를 반환합니다.(b를 포함하지 않습니다.)"
      ]
    },
    {
      "cell_type": "code",
      "metadata": {
        "colab": {
          "base_uri": "https://localhost:8080/"
        },
        "id": "I0V84IfutB2b",
        "outputId": "17c779d3-03fa-45a4-9054-641494c68f09"
      },
      "source": [
        "x1 = random.randrange(10, 20)\n",
        "\n",
        "print(x1)    # 10 <= x < 20 사이의 랜덤한 int 반환\n",
        "\n",
        "x2 = random.randrange(20)\n",
        "\n",
        "print(x2)    # 0 <= x < 20 사이의 랜덤한 int 반환"
      ],
      "execution_count": null,
      "outputs": [
        {
          "output_type": "stream",
          "text": [
            "14\n",
            "4\n"
          ],
          "name": "stdout"
        }
      ]
    },
    {
      "cell_type": "markdown",
      "metadata": {
        "id": "DWhSrlIhze3C"
      },
      "source": [
        "**random.choice(seq)**\n",
        "\n",
        "choice 함수는 매개변수로 seq 타입을 받습니다. 시퀀스 데이터 타입은 문자열, 튜플, range, 리스트 타입들을 말합니다.\n",
        "\n",
        "시퀀스 함수는 인자로 받은 리스트, 튜플, 문자열, range 에서 무작위로 하나의 원소를 뽑습니다.\n",
        "\n",
        "만약, 비어있는 시퀀스 타입의 객체를 인자로 넣는다면 (ex. 리스트가 비어있다면) indexError 의 예외가 발생합니다."
      ]
    },
    {
      "cell_type": "code",
      "metadata": {
        "colab": {
          "base_uri": "https://localhost:8080/",
          "height": 383
        },
        "id": "FNhk-iyVzb3d",
        "outputId": "1b457ee9-c602-4b8e-b952-818a62c07fb7"
      },
      "source": [
        "x1 = random.choice('BlockDMask')\n",
        "\n",
        "print(x1)    # 'BlockDMask' 문자열중 랜덤한 문자를 반환\n",
        "\n",
        "x2 = random.choice('')\n",
        "\n",
        "print(x2)    # indexError 발생"
      ],
      "execution_count": null,
      "outputs": [
        {
          "output_type": "stream",
          "text": [
            "a\n"
          ],
          "name": "stdout"
        },
        {
          "output_type": "error",
          "ename": "IndexError",
          "evalue": "ignored",
          "traceback": [
            "\u001b[0;31m---------------------------------------------------------------------------\u001b[0m",
            "\u001b[0;31mIndexError\u001b[0m                                Traceback (most recent call last)",
            "\u001b[0;32m<ipython-input-10-4e3ff8de212c>\u001b[0m in \u001b[0;36m<module>\u001b[0;34m()\u001b[0m\n\u001b[1;32m      3\u001b[0m \u001b[0mprint\u001b[0m\u001b[0;34m(\u001b[0m\u001b[0mx1\u001b[0m\u001b[0;34m)\u001b[0m    \u001b[0;31m# 'BlockDMask' 문자열중 랜덤한 문자를 반환\u001b[0m\u001b[0;34m\u001b[0m\u001b[0;34m\u001b[0m\u001b[0m\n\u001b[1;32m      4\u001b[0m \u001b[0;34m\u001b[0m\u001b[0m\n\u001b[0;32m----> 5\u001b[0;31m \u001b[0mx2\u001b[0m \u001b[0;34m=\u001b[0m \u001b[0mrandom\u001b[0m\u001b[0;34m.\u001b[0m\u001b[0mchoice\u001b[0m\u001b[0;34m(\u001b[0m\u001b[0;34m''\u001b[0m\u001b[0;34m)\u001b[0m\u001b[0;34m\u001b[0m\u001b[0;34m\u001b[0m\u001b[0m\n\u001b[0m\u001b[1;32m      6\u001b[0m \u001b[0;34m\u001b[0m\u001b[0m\n\u001b[1;32m      7\u001b[0m \u001b[0mprint\u001b[0m\u001b[0;34m(\u001b[0m\u001b[0mx2\u001b[0m\u001b[0;34m)\u001b[0m    \u001b[0;31m# indexError 발생\u001b[0m\u001b[0;34m\u001b[0m\u001b[0;34m\u001b[0m\u001b[0m\n",
            "\u001b[0;32m/usr/lib/python3.7/random.py\u001b[0m in \u001b[0;36mchoice\u001b[0;34m(self, seq)\u001b[0m\n\u001b[1;32m    259\u001b[0m             \u001b[0mi\u001b[0m \u001b[0;34m=\u001b[0m \u001b[0mself\u001b[0m\u001b[0;34m.\u001b[0m\u001b[0m_randbelow\u001b[0m\u001b[0;34m(\u001b[0m\u001b[0mlen\u001b[0m\u001b[0;34m(\u001b[0m\u001b[0mseq\u001b[0m\u001b[0;34m)\u001b[0m\u001b[0;34m)\u001b[0m\u001b[0;34m\u001b[0m\u001b[0;34m\u001b[0m\u001b[0m\n\u001b[1;32m    260\u001b[0m         \u001b[0;32mexcept\u001b[0m \u001b[0mValueError\u001b[0m\u001b[0;34m:\u001b[0m\u001b[0;34m\u001b[0m\u001b[0;34m\u001b[0m\u001b[0m\n\u001b[0;32m--> 261\u001b[0;31m             \u001b[0;32mraise\u001b[0m \u001b[0mIndexError\u001b[0m\u001b[0;34m(\u001b[0m\u001b[0;34m'Cannot choose from an empty sequence'\u001b[0m\u001b[0;34m)\u001b[0m \u001b[0;32mfrom\u001b[0m \u001b[0;32mNone\u001b[0m\u001b[0;34m\u001b[0m\u001b[0;34m\u001b[0m\u001b[0m\n\u001b[0m\u001b[1;32m    262\u001b[0m         \u001b[0;32mreturn\u001b[0m \u001b[0mseq\u001b[0m\u001b[0;34m[\u001b[0m\u001b[0mi\u001b[0m\u001b[0;34m]\u001b[0m\u001b[0;34m\u001b[0m\u001b[0;34m\u001b[0m\u001b[0m\n\u001b[1;32m    263\u001b[0m \u001b[0;34m\u001b[0m\u001b[0m\n",
            "\u001b[0;31mIndexError\u001b[0m: Cannot choose from an empty sequence"
          ]
        }
      ]
    },
    {
      "cell_type": "markdown",
      "metadata": {
        "id": "lGNu5r8iny9_"
      },
      "source": [
        "**random.shuffle(seq)**\n",
        "\n",
        "셔플 함수는 데이터의 순서를 무작위로 랜덤하게 바꾸어 주는 함수 입니다.\n",
        "\n",
        "매개변수 x에는 시퀀스 데이터 타입이 들어가게 됩니다. 하지만 내부의 값을 무작위로 바꿔야 하기 때문에 \n",
        "\n",
        "내부인자를 변경할 수 있는 리스트만 가능하게 됩니다. (문자열, 튜플 및 range(a,b)는 불가능)"
      ]
    },
    {
      "cell_type": "code",
      "metadata": {
        "id": "EZ_jujzs0aPX",
        "colab": {
          "base_uri": "https://localhost:8080/"
        },
        "outputId": "9a7dbb8b-aea0-4f05-ef57-f11a9fddc98f"
      },
      "source": [
        "arr = [1, 2, 3, 4, 5, 6, 7, 8, 9, 10]\n",
        "\n",
        "print(arr)    # [1, 2, 3, 4, 5, 6, 7, 8, 9, 10]"
      ],
      "execution_count": null,
      "outputs": [
        {
          "output_type": "stream",
          "text": [
            "[1, 2, 3, 4, 5, 6, 7, 8, 9, 10]\n"
          ],
          "name": "stdout"
        }
      ]
    },
    {
      "cell_type": "code",
      "metadata": {
        "id": "IA-A-Cxv0EyW"
      },
      "source": [
        "random.shuffle(arr)"
      ],
      "execution_count": null,
      "outputs": []
    },
    {
      "cell_type": "code",
      "metadata": {
        "id": "FiGTRyEbz5th",
        "colab": {
          "base_uri": "https://localhost:8080/"
        },
        "outputId": "329ca23b-65e2-48bc-ef62-77bec2b2d543"
      },
      "source": [
        "print(arr) "
      ],
      "execution_count": null,
      "outputs": [
        {
          "output_type": "stream",
          "text": [
            "[8, 6, 3, 2, 1, 4, 9, 10, 7, 5]\n"
          ],
          "name": "stdout"
        }
      ]
    },
    {
      "cell_type": "code",
      "metadata": {
        "colab": {
          "base_uri": "https://localhost:8080/"
        },
        "id": "OjlkVOlcoPp_",
        "outputId": "588f05e6-0d51-4567-ab7c-d18935437845"
      },
      "source": [
        "# Flatten\n",
        "\n",
        "# N dim -> 1 dim\n",
        "\n",
        "arr=np.zeros((3,2))   # 3행 2열 \n",
        "arr.ndim"
      ],
      "execution_count": null,
      "outputs": [
        {
          "output_type": "execute_result",
          "data": {
            "text/plain": [
              "2"
            ]
          },
          "metadata": {
            "tags": []
          },
          "execution_count": 17
        }
      ]
    },
    {
      "cell_type": "code",
      "metadata": {
        "colab": {
          "base_uri": "https://localhost:8080/"
        },
        "id": "S4j62VKhomGP",
        "outputId": "2e45de67-a627-4027-93c1-c30adb3eb7d3"
      },
      "source": [
        "arr.flatten()  #1차원으로 바꿔준다."
      ],
      "execution_count": null,
      "outputs": [
        {
          "output_type": "execute_result",
          "data": {
            "text/plain": [
              "array([0., 0., 0., 0., 0., 0.])"
            ]
          },
          "metadata": {
            "tags": []
          },
          "execution_count": 21
        }
      ]
    },
    {
      "cell_type": "code",
      "metadata": {
        "colab": {
          "base_uri": "https://localhost:8080/"
        },
        "id": "V1521sSIqAb3",
        "outputId": "580cc748-3a64-49bd-cf4e-79f4a53b287d"
      },
      "source": [
        "arr.ndim  # 아예 바꿔주는건 아닌가보다."
      ],
      "execution_count": null,
      "outputs": [
        {
          "output_type": "execute_result",
          "data": {
            "text/plain": [
              "2"
            ]
          },
          "metadata": {
            "tags": []
          },
          "execution_count": 22
        }
      ]
    },
    {
      "cell_type": "code",
      "metadata": {
        "id": "psJUXMbwrIMv"
      },
      "source": [
        ""
      ],
      "execution_count": null,
      "outputs": []
    }
  ]
}