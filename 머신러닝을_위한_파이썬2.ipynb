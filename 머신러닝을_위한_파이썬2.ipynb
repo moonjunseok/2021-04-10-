{
  "nbformat": 4,
  "nbformat_minor": 0,
  "metadata": {
    "colab": {
      "name": "머신러닝을 위한 파이썬2",
      "provenance": [],
      "collapsed_sections": [],
      "authorship_tag": "ABX9TyNmP5Zc2TYqobuzePnETyLG",
      "include_colab_link": true
    },
    "kernelspec": {
      "name": "python3",
      "display_name": "Python 3"
    },
    "language_info": {
      "name": "python"
    }
  },
  "cells": [
    {
      "cell_type": "markdown",
      "metadata": {
        "id": "view-in-github",
        "colab_type": "text"
      },
      "source": [
        "<a href=\"https://colab.research.google.com/github/moonjunseok/moon-python/blob/main/%EB%A8%B8%EC%8B%A0%EB%9F%AC%EB%8B%9D%EC%9D%84_%EC%9C%84%ED%95%9C_%ED%8C%8C%EC%9D%B4%EC%8D%AC2.ipynb\" target=\"_parent\"><img src=\"https://colab.research.google.com/assets/colab-badge.svg\" alt=\"Open In Colab\"/></a>"
      ]
    },
    {
      "cell_type": "markdown",
      "metadata": {
        "id": "5oVbDa9VMj1D"
      },
      "source": [
        "**Lambda**\n",
        "- 함수 이름 없이, 함수처럼 쓸 수 있는 익명함수\n",
        "- 수학의 람다 대수에서 유래함"
      ]
    },
    {
      "cell_type": "code",
      "metadata": {
        "colab": {
          "base_uri": "https://localhost:8080/"
        },
        "id": "8Bh53wc9Mf41",
        "outputId": "3577accb-3260-4c37-e54f-0b11b8ba0c7a"
      },
      "source": [
        "# General function\n",
        "\n",
        "def f(x,y):\n",
        "  return x+y\n",
        "\n",
        "print(f(1,4))"
      ],
      "execution_count": null,
      "outputs": [
        {
          "output_type": "stream",
          "text": [
            "5\n"
          ],
          "name": "stdout"
        }
      ]
    },
    {
      "cell_type": "code",
      "metadata": {
        "colab": {
          "base_uri": "https://localhost:8080/"
        },
        "id": "t11Qgx8EM2lT",
        "outputId": "57e0750b-f6a6-45d0-fc27-8d3344dac760"
      },
      "source": [
        "# Lambda function\n",
        "\n",
        "f = lambda x,y : x+y\n",
        "print(f(1,4))"
      ],
      "execution_count": null,
      "outputs": [
        {
          "output_type": "stream",
          "text": [
            "5\n"
          ],
          "name": "stdout"
        }
      ]
    },
    {
      "cell_type": "code",
      "metadata": {
        "colab": {
          "base_uri": "https://localhost:8080/"
        },
        "id": "AwXxRw1JNqDk",
        "outputId": "28e24819-0a60-4767-8285-c3d226e95239"
      },
      "source": [
        "f=lambda x: x**2\n",
        "print(f(3))"
      ],
      "execution_count": null,
      "outputs": [
        {
          "output_type": "stream",
          "text": [
            "9\n"
          ],
          "name": "stdout"
        }
      ]
    },
    {
      "cell_type": "code",
      "metadata": {
        "colab": {
          "base_uri": "https://localhost:8080/"
        },
        "id": "XVxyhLGUOC-a",
        "outputId": "d91476f1-f5a7-4a86-b576-1b8fb9cf4f23"
      },
      "source": [
        "f=lambda x:x/2\n",
        "print(f(3))"
      ],
      "execution_count": null,
      "outputs": [
        {
          "output_type": "stream",
          "text": [
            "1.5\n"
          ],
          "name": "stdout"
        }
      ]
    },
    {
      "cell_type": "code",
      "metadata": {
        "colab": {
          "base_uri": "https://localhost:8080/"
        },
        "id": "zcOmLSCYOHga",
        "outputId": "10e42d5d-2128-4275-cfbd-f665e757eb32"
      },
      "source": [
        "print((lambda x: x+1)(5))"
      ],
      "execution_count": null,
      "outputs": [
        {
          "output_type": "stream",
          "text": [
            "6\n"
          ],
          "name": "stdout"
        }
      ]
    },
    {
      "cell_type": "markdown",
      "metadata": {
        "id": "K4fq_ZxKQKWG"
      },
      "source": [
        "**Map function**\n",
        "- Sequence 자료형 각 element에 동일한 function을 적용함\n",
        "- map(function_name,list"
      ]
    },
    {
      "cell_type": "code",
      "metadata": {
        "colab": {
          "base_uri": "https://localhost:8080/"
        },
        "id": "ZVhqVvNVOQcB",
        "outputId": "a4a30d93-c88a-42fd-d6c3-0bb5a9e14a7a"
      },
      "source": [
        "ex=[1,2,3,4,5]\n",
        "f=lambda x:x**2\n",
        "print(list(map(f,ex)))  #map 앞에 꼭list를 써야지만 작동가능"
      ],
      "execution_count": null,
      "outputs": [
        {
          "output_type": "stream",
          "text": [
            "[1, 4, 9, 16, 25]\n"
          ],
          "name": "stdout"
        }
      ]
    },
    {
      "cell_type": "code",
      "metadata": {
        "colab": {
          "base_uri": "https://localhost:8080/"
        },
        "id": "dPOg1HegQkh8",
        "outputId": "2c2b6dfa-7940-447c-b7e2-379ff407c377"
      },
      "source": [
        "f=lambda x,y: x+y\n",
        "print(list(map(f,ex,ex)))"
      ],
      "execution_count": null,
      "outputs": [
        {
          "output_type": "stream",
          "text": [
            "[2, 4, 6, 8, 10]\n"
          ],
          "name": "stdout"
        }
      ]
    },
    {
      "cell_type": "code",
      "metadata": {
        "colab": {
          "base_uri": "https://localhost:8080/"
        },
        "id": "761uqeEbRcyD",
        "outputId": "1475551d-b581-401d-b5f0-9316f758030f"
      },
      "source": [
        "list(map(lambda x : x**2 if x%2 == 0 else x,ex)) # 만족하지 않을때의 값, 즉 else값을 써줘야한다."
      ],
      "execution_count": null,
      "outputs": [
        {
          "output_type": "execute_result",
          "data": {
            "text/plain": [
              "[1, 4, 3, 16, 5]"
            ]
          },
          "metadata": {
            "tags": []
          },
          "execution_count": 8
        }
      ]
    },
    {
      "cell_type": "code",
      "metadata": {
        "colab": {
          "base_uri": "https://localhost:8080/"
        },
        "id": "lmf5wjFHRw7K",
        "outputId": "6b4598b6-b7ef-481c-ca00-1a633b9dee8c"
      },
      "source": [
        "[value**2 for value in ex]"
      ],
      "execution_count": null,
      "outputs": [
        {
          "output_type": "execute_result",
          "data": {
            "text/plain": [
              "[1, 4, 9, 16, 25]"
            ]
          },
          "metadata": {
            "tags": []
          },
          "execution_count": 9
        }
      ]
    },
    {
      "cell_type": "markdown",
      "metadata": {
        "id": "6DVzZaAGTbGK"
      },
      "source": [
        "**Reduce function**\n",
        "- map function과 달리 list에 똑같은 함수를 적용해서 통합"
      ]
    },
    {
      "cell_type": "code",
      "metadata": {
        "id": "I9SkXWfASgLV"
      },
      "source": [
        "from functools import reduce"
      ],
      "execution_count": null,
      "outputs": []
    },
    {
      "cell_type": "code",
      "metadata": {
        "colab": {
          "base_uri": "https://localhost:8080/"
        },
        "id": "qBoSc0QKUe6r",
        "outputId": "1df82c08-3818-4a0c-ad94-889720bb48f8"
      },
      "source": [
        "print(reduce(lambda x,y: x+y,[1,2,3,4,5]))"
      ],
      "execution_count": null,
      "outputs": [
        {
          "output_type": "stream",
          "text": [
            "15\n"
          ],
          "name": "stdout"
        }
      ]
    },
    {
      "cell_type": "code",
      "metadata": {
        "id": "9ObWa-Y0UlBx"
      },
      "source": [
        "def factorial(n):\n",
        "  return reduce(\n",
        "      lambda x, y: x*y, range(1,n+1)) s"
      ],
      "execution_count": null,
      "outputs": []
    },
    {
      "cell_type": "code",
      "metadata": {
        "colab": {
          "base_uri": "https://localhost:8080/"
        },
        "id": "-oiJBCpDU3HK",
        "outputId": "1a196b02-8c3b-4c9f-f0af-6c78b4ab17f2"
      },
      "source": [
        "factorial(5)"
      ],
      "execution_count": null,
      "outputs": [
        {
          "output_type": "execute_result",
          "data": {
            "text/plain": [
              "120"
            ]
          },
          "metadata": {
            "tags": []
          },
          "execution_count": 13
        }
      ]
    },
    {
      "cell_type": "markdown",
      "metadata": {
        "id": "r34XWuvyA6oA"
      },
      "source": [
        "Asterisk\n",
        "- 흔히 알고 있는 *를 의미함\n",
        "- 단순 곱셈, 제곱연산, 가변 인자 활용 등 다양하게 사용됨"
      ]
    },
    {
      "cell_type": "code",
      "metadata": {
        "colab": {
          "base_uri": "https://localhost:8080/"
        },
        "id": "m_nUSntDU47C",
        "outputId": "773aa7c3-480a-4f57-ab43-4b64d2fd8528"
      },
      "source": [
        "# *args : 여러개 값들을 한 번에 받아라\n",
        "def asterisk_test(a,*args):\n",
        "  print(a,args)\n",
        "  print(type(args))\n",
        "\n",
        "asterisk_test(1,2,3,4,5,6)"
      ],
      "execution_count": null,
      "outputs": [
        {
          "output_type": "stream",
          "text": [
            "1 (2, 3, 4, 5, 6)\n",
            "<class 'tuple'>\n"
          ],
          "name": "stdout"
        }
      ]
    },
    {
      "cell_type": "code",
      "metadata": {
        "colab": {
          "base_uri": "https://localhost:8080/"
        },
        "id": "C5AvfkJoBVu6",
        "outputId": "a8be07c4-8d67-4a5c-edf2-ad3135c613f5"
      },
      "source": [
        "# **kargs : 여러개 값들을 한 번에 받아라\n",
        "def asterisk_test(a,**kargs):\n",
        "  print(a,kargs)\n",
        "  print(type(kargs))\n",
        "\n",
        "asterisk_test(1,b=2,c=3,d=4,e=5,f=6)"
      ],
      "execution_count": null,
      "outputs": [
        {
          "output_type": "stream",
          "text": [
            "1 {'b': 2, 'c': 3, 'd': 4, 'e': 5, 'f': 6}\n",
            "<class 'dict'>\n"
          ],
          "name": "stdout"
        }
      ]
    },
    {
      "cell_type": "markdown",
      "metadata": {
        "id": "cVKke655DDOp"
      },
      "source": [
        "Asterisk - unpacking a container"
      ]
    },
    {
      "cell_type": "code",
      "metadata": {
        "colab": {
          "base_uri": "https://localhost:8080/"
        },
        "id": "nFGOmeB2B8nC",
        "outputId": "be6b4b90-28c3-4998-eb14-f2acfec6662b"
      },
      "source": [
        "a,b,c = ([1,2],[3,4],[5,6])\n",
        "print(a,b,c)"
      ],
      "execution_count": null,
      "outputs": [
        {
          "output_type": "stream",
          "text": [
            "[1, 2] [3, 4] [5, 6]\n"
          ],
          "name": "stdout"
        }
      ]
    },
    {
      "cell_type": "code",
      "metadata": {
        "colab": {
          "base_uri": "https://localhost:8080/"
        },
        "id": "dVNqd-b4DO3q",
        "outputId": "45bac09d-fef6-4e3f-854f-4a733b245ec1"
      },
      "source": [
        "data = ([1,2],[3,4],[5,6])\n",
        "print(*data)"
      ],
      "execution_count": null,
      "outputs": [
        {
          "output_type": "stream",
          "text": [
            "[1, 2] [3, 4] [5, 6]\n"
          ],
          "name": "stdout"
        }
      ]
    },
    {
      "cell_type": "code",
      "metadata": {
        "colab": {
          "base_uri": "https://localhost:8080/"
        },
        "id": "HTYfKJSHDT_Y",
        "outputId": "9eb2692a-2c6c-4c60-c0a0-52f682297ef5"
      },
      "source": [
        "def asterisk_test(a,b,c,d):\n",
        "  print(a,b,c,d)\n",
        "data = {'b':1,'c':2,'d':3}\n",
        "asterisk_test(10,**data)"
      ],
      "execution_count": null,
      "outputs": [
        {
          "output_type": "stream",
          "text": [
            "10 1 2 3\n"
          ],
          "name": "stdout"
        }
      ]
    },
    {
      "cell_type": "code",
      "metadata": {
        "colab": {
          "base_uri": "https://localhost:8080/"
        },
        "id": "3GY5mdehDm75",
        "outputId": "790a0697-0ef3-46f9-e641-be2f01e8089c"
      },
      "source": [
        "for data in zip(*([1,2],[3,4],[5,6])):\n",
        "  print(data)"
      ],
      "execution_count": null,
      "outputs": [
        {
          "output_type": "stream",
          "text": [
            "(1, 3, 5)\n",
            "(2, 4, 6)\n"
          ],
          "name": "stdout"
        }
      ]
    },
    {
      "cell_type": "code",
      "metadata": {
        "colab": {
          "base_uri": "https://localhost:8080/"
        },
        "id": "pV31ICg9DtLS",
        "outputId": "ab4ca684-b608-4a49-bf81-fc41482eb773"
      },
      "source": [
        "def asterisk_test(a,b,c,d,e=0):\n",
        "  print(a,b,c,d,e)\n",
        "\n",
        "data = {'d':1,\"c\":2,'b':3,'e':56}\n",
        "asterisk_test(10,**data)"
      ],
      "execution_count": null,
      "outputs": [
        {
          "output_type": "stream",
          "text": [
            "10 3 2 1 56\n"
          ],
          "name": "stdout"
        }
      ]
    },
    {
      "cell_type": "code",
      "metadata": {
        "id": "lNMXrsUUEfKB"
      },
      "source": [
        ""
      ],
      "execution_count": null,
      "outputs": []
    }
  ]
}