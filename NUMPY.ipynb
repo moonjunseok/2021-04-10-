{
  "nbformat": 4,
  "nbformat_minor": 0,
  "metadata": {
    "colab": {
      "name": "NUMPY",
      "provenance": [],
      "collapsed_sections": [],
      "authorship_tag": "ABX9TyNQLsK88JRBGynWo6PAh3lb",
      "include_colab_link": true
    },
    "kernelspec": {
      "name": "python3",
      "display_name": "Python 3"
    },
    "language_info": {
      "name": "python"
    }
  },
  "cells": [
    {
      "cell_type": "markdown",
      "metadata": {
        "id": "view-in-github",
        "colab_type": "text"
      },
      "source": [
        "<a href=\"https://colab.research.google.com/github/moonjunseok/moon-python/blob/main/NUMPY.ipynb\" target=\"_parent\"><img src=\"https://colab.research.google.com/assets/colab-badge.svg\" alt=\"Open In Colab\"/></a>"
      ]
    },
    {
      "cell_type": "markdown",
      "metadata": {
        "id": "9QyFaYOaQq84"
      },
      "source": [
        "**Numpy**\n",
        "\n",
        "기본적으로 array라는 단위로 데이터를 관리하며, 이에 대해 연산을 수행합니다.\n",
        "\n",
        "array는 말 그대로 행렬이라는 개념입니다.\n"
      ]
    },
    {
      "cell_type": "code",
      "metadata": {
        "id": "-jDtWq0fQWwK"
      },
      "source": [
        "# numpy 설치\n",
        "\n",
        "import numpy as np"
      ],
      "execution_count": null,
      "outputs": []
    },
    {
      "cell_type": "code",
      "metadata": {
        "id": "vR_MGliZQ_Zw"
      },
      "source": [
        "# arry 정의 및 사용하기\n",
        "\n",
        "data1=[1,2,3,4,5]\n",
        "data2=[1,2,3,3.5,4]"
      ],
      "execution_count": null,
      "outputs": []
    },
    {
      "cell_type": "code",
      "metadata": {
        "colab": {
          "base_uri": "https://localhost:8080/"
        },
        "id": "_1uFihR8RPF_",
        "outputId": "b0f35aa8-7d51-45e7-d8f0-0c971acfa309"
      },
      "source": [
        "arr1 = np.array(data1)\n",
        "arr1"
      ],
      "execution_count": null,
      "outputs": [
        {
          "output_type": "execute_result",
          "data": {
            "text/plain": [
              "array([1, 2, 3, 4, 5])"
            ]
          },
          "metadata": {
            "tags": []
          },
          "execution_count": 3
        }
      ]
    },
    {
      "cell_type": "code",
      "metadata": {
        "colab": {
          "base_uri": "https://localhost:8080/"
        },
        "id": "1mHc5zUURUzX",
        "outputId": "36dac76a-eb93-4c24-df1a-7a63eb33c7f8"
      },
      "source": [
        "type(arr1)"
      ],
      "execution_count": null,
      "outputs": [
        {
          "output_type": "execute_result",
          "data": {
            "text/plain": [
              "numpy.ndarray"
            ]
          },
          "metadata": {
            "tags": []
          },
          "execution_count": 4
        }
      ]
    },
    {
      "cell_type": "code",
      "metadata": {
        "colab": {
          "base_uri": "https://localhost:8080/"
        },
        "id": "XhEQH55NRYm_",
        "outputId": "1d5478f9-ed84-4ca7-e8f4-511cb71b1a4a"
      },
      "source": [
        "# shape : array의 형태(크기)를 확인할 수 있다.\n",
        "arr1.shape  # (5,) <- 1행 5열"
      ],
      "execution_count": null,
      "outputs": [
        {
          "output_type": "execute_result",
          "data": {
            "text/plain": [
              "(5,)"
            ]
          },
          "metadata": {
            "tags": []
          },
          "execution_count": 5
        }
      ]
    },
    {
      "cell_type": "code",
      "metadata": {
        "colab": {
          "base_uri": "https://localhost:8080/"
        },
        "id": "zihL8j1pRm2_",
        "outputId": "ba2ac507-f696-45c3-8628-1daf1414140d"
      },
      "source": [
        "# array 의 자료형을 확인 할 수 있다.\n",
        "arr1.dtype"
      ],
      "execution_count": null,
      "outputs": [
        {
          "output_type": "execute_result",
          "data": {
            "text/plain": [
              "dtype('int64')"
            ]
          },
          "metadata": {
            "tags": []
          },
          "execution_count": 6
        }
      ]
    },
    {
      "cell_type": "code",
      "metadata": {
        "colab": {
          "base_uri": "https://localhost:8080/"
        },
        "id": "9eGgyqV7SWhh",
        "outputId": "7be968e7-06c0-4774-cc97-fcadb739affd"
      },
      "source": [
        "arr2 = np.array(data2)\n",
        "arr2"
      ],
      "execution_count": null,
      "outputs": [
        {
          "output_type": "execute_result",
          "data": {
            "text/plain": [
              "array([1. , 2. , 3. , 3.5, 4. ])"
            ]
          },
          "metadata": {
            "tags": []
          },
          "execution_count": 13
        }
      ]
    },
    {
      "cell_type": "code",
      "metadata": {
        "colab": {
          "base_uri": "https://localhost:8080/"
        },
        "id": "14_uCn69SysB",
        "outputId": "fc0c41cd-bdf1-4fc9-c10a-2fe470163081"
      },
      "source": [
        "arr2.dtype  # data2 "
      ],
      "execution_count": null,
      "outputs": [
        {
          "output_type": "execute_result",
          "data": {
            "text/plain": [
              "dtype('float64')"
            ]
          },
          "metadata": {
            "tags": []
          },
          "execution_count": 14
        }
      ]
    },
    {
      "cell_type": "code",
      "metadata": {
        "colab": {
          "base_uri": "https://localhost:8080/"
        },
        "id": "LVI-_vjDTD9H",
        "outputId": "62136063-3ed8-4133-8481-6d3de7f620c7"
      },
      "source": [
        "arr3 = np.array([[1,2,3],[4,5,6],[7,8,9],[10,11,12]])\n",
        "arr3"
      ],
      "execution_count": null,
      "outputs": [
        {
          "output_type": "execute_result",
          "data": {
            "text/plain": [
              "array([[ 1,  2,  3],\n",
              "       [ 4,  5,  6],\n",
              "       [ 7,  8,  9],\n",
              "       [10, 11, 12]])"
            ]
          },
          "metadata": {
            "tags": []
          },
          "execution_count": 15
        }
      ]
    },
    {
      "cell_type": "code",
      "metadata": {
        "colab": {
          "base_uri": "https://localhost:8080/"
        },
        "id": "DZXeAJMfTdMH",
        "outputId": "a83a6b1c-3855-46d3-cbd7-cd7205842993"
      },
      "source": [
        "arr3.shape # 4행 3열"
      ],
      "execution_count": null,
      "outputs": [
        {
          "output_type": "execute_result",
          "data": {
            "text/plain": [
              "(4, 3)"
            ]
          },
          "metadata": {
            "tags": []
          },
          "execution_count": 16
        }
      ]
    },
    {
      "cell_type": "code",
      "metadata": {
        "id": "QzeDoP2KTjwY"
      },
      "source": [
        "# Ndarray는 각 원소별로 동일한 데이터 타입으로 처리 할 수 있습니다.\n",
        "# array([원소,원소,...,n개 , dtype= ]) 이런식으로 하면 모든 원소를 같은 타입으로 변경이 가능합니다."
      ],
      "execution_count": null,
      "outputs": []
    },
    {
      "cell_type": "code",
      "metadata": {
        "colab": {
          "base_uri": "https://localhost:8080/"
        },
        "id": "e6DpZ_eYZJx1",
        "outputId": "4f1572d3-3d14-4a5b-d8ff-487dd06f3a33"
      },
      "source": [
        "A=[1,2,3,4]\n",
        "\n",
        "a=np.array(A, np.int)\n",
        "print(type(a))\n",
        "print(a)"
      ],
      "execution_count": null,
      "outputs": [
        {
          "output_type": "stream",
          "text": [
            "<class 'numpy.ndarray'>\n",
            "[1 2 3 4]\n"
          ],
          "name": "stdout"
        }
      ]
    },
    {
      "cell_type": "code",
      "metadata": {
        "colab": {
          "base_uri": "https://localhost:8080/"
        },
        "id": "cdT3nUnqZXOV",
        "outputId": "cc5074ae-2c1b-4f9b-bd11-053cd74e693b"
      },
      "source": [
        "b=np.array(A,np.str)\n",
        "print(type(b))\n",
        "print(b)"
      ],
      "execution_count": null,
      "outputs": [
        {
          "output_type": "stream",
          "text": [
            "<class 'numpy.ndarray'>\n",
            "['1' '2' '3' '4']\n"
          ],
          "name": "stdout"
        }
      ]
    },
    {
      "cell_type": "code",
      "metadata": {
        "colab": {
          "base_uri": "https://localhost:8080/"
        },
        "id": "t1jXBYe7Zgs8",
        "outputId": "743eb60d-727e-4515-efa4-7e019d93f1f8"
      },
      "source": [
        "c=np.array(A,np.float)\n",
        "print(type(c))\n",
        "print(c)"
      ],
      "execution_count": null,
      "outputs": [
        {
          "output_type": "stream",
          "text": [
            "<class 'numpy.ndarray'>\n",
            "[1. 2. 3. 4.]\n"
          ],
          "name": "stdout"
        }
      ]
    },
    {
      "cell_type": "code",
      "metadata": {
        "id": "2nBWfTn_Zubl",
        "colab": {
          "base_uri": "https://localhost:8080/"
        },
        "outputId": "eb23058d-ebae-45d8-aa11-9feda40251c9"
      },
      "source": [
        "# Ndarray 타입을 검색하거나 슬라이싱은 참조만 할당하므로 변경을 방지하기 위해서는 \n",
        "# 새로운 ndarray로 만들어 사용할때는 .copy 메소드가 필요합니다.\n",
        "\n",
        "# 주소를 공유하는 것이 아닌, 새로운 주소를 할당하여 배열을 복사하고 싶다면 .copy 사용\n",
        "\n",
        "arr = np.array([1,2,3])\n",
        "arr  "
      ],
      "execution_count": null,
      "outputs": [
        {
          "output_type": "execute_result",
          "data": {
            "text/plain": [
              "array([1, 2, 3])"
            ]
          },
          "metadata": {
            "tags": []
          },
          "execution_count": 20
        }
      ]
    },
    {
      "cell_type": "code",
      "metadata": {
        "colab": {
          "base_uri": "https://localhost:8080/"
        },
        "id": "2wBrnkqrcZJt",
        "outputId": "ac655de6-2620-40a2-8fa4-f07d5761c627"
      },
      "source": [
        "new = arr.copy()\n",
        "new"
      ],
      "execution_count": null,
      "outputs": [
        {
          "output_type": "execute_result",
          "data": {
            "text/plain": [
              "array([1, 2, 3])"
            ]
          },
          "metadata": {
            "tags": []
          },
          "execution_count": 22
        }
      ]
    },
    {
      "cell_type": "code",
      "metadata": {
        "id": "db_gQN-7ccBG"
      },
      "source": [
        "new[0] = 3  #이렇게 카피한 new 배열에 [0]에 3을 넣어줍니다."
      ],
      "execution_count": null,
      "outputs": []
    },
    {
      "cell_type": "code",
      "metadata": {
        "colab": {
          "base_uri": "https://localhost:8080/"
        },
        "id": "yxrZH8s7cfqz",
        "outputId": "91c94806-614e-4f9d-afaa-a5ebbdd2b069"
      },
      "source": [
        "arr   # 카피당한 arr에는 1,2,3 이 계속 있고"
      ],
      "execution_count": null,
      "outputs": [
        {
          "output_type": "execute_result",
          "data": {
            "text/plain": [
              "array([1, 2, 3])"
            ]
          },
          "metadata": {
            "tags": []
          },
          "execution_count": 25
        }
      ]
    },
    {
      "cell_type": "code",
      "metadata": {
        "colab": {
          "base_uri": "https://localhost:8080/"
        },
        "id": "IAP1pL8wcvyL",
        "outputId": "45095f0f-c84a-4d25-8e85-795ac4b60dc6"
      },
      "source": [
        "new   # 카피한 new에는 3,2,3이 나온다. "
      ],
      "execution_count": null,
      "outputs": [
        {
          "output_type": "execute_result",
          "data": {
            "text/plain": [
              "array([3, 2, 3])"
            ]
          },
          "metadata": {
            "tags": []
          },
          "execution_count": 26
        }
      ]
    },
    {
      "cell_type": "markdown",
      "metadata": {
        "id": "DIun-gu2eJwz"
      },
      "source": [
        "**벡터화**: 배열은 for문을 작성하지 않고 데이터를 일괄 처리 \n",
        "하는것\n",
        "\n",
        "*   같은 크기의 배열 간의 산술 연산은 배열의 각 원소 단위로 적용됨\n"
      ]
    },
    {
      "cell_type": "code",
      "metadata": {
        "colab": {
          "base_uri": "https://localhost:8080/"
        },
        "id": "zQYoJ7FZcyPj",
        "outputId": "468adf7b-c5f5-4af5-b4d9-ee5a511e035d"
      },
      "source": [
        "arr=np.array([[1,2,3],[4,5,6]])\n",
        "arr"
      ],
      "execution_count": null,
      "outputs": [
        {
          "output_type": "execute_result",
          "data": {
            "text/plain": [
              "array([[1, 2, 3],\n",
              "       [4, 5, 6]])"
            ]
          },
          "metadata": {
            "tags": []
          },
          "execution_count": 27
        }
      ]
    },
    {
      "cell_type": "code",
      "metadata": {
        "colab": {
          "base_uri": "https://localhost:8080/"
        },
        "id": "jXDJc1z8emlW",
        "outputId": "25290f29-2f27-487a-d19a-6f75ed56c870"
      },
      "source": [
        "arr.shape  # 2행 3열"
      ],
      "execution_count": null,
      "outputs": [
        {
          "output_type": "execute_result",
          "data": {
            "text/plain": [
              "(2, 3)"
            ]
          },
          "metadata": {
            "tags": []
          },
          "execution_count": 28
        }
      ]
    },
    {
      "cell_type": "code",
      "metadata": {
        "colab": {
          "base_uri": "https://localhost:8080/"
        },
        "id": "VmTyeXcPepks",
        "outputId": "1bca36b5-8030-452a-db7f-106a4a8ca72f"
      },
      "source": [
        "arr + arr"
      ],
      "execution_count": null,
      "outputs": [
        {
          "output_type": "execute_result",
          "data": {
            "text/plain": [
              "array([[ 2,  4,  6],\n",
              "       [ 8, 10, 12]])"
            ]
          },
          "metadata": {
            "tags": []
          },
          "execution_count": 29
        }
      ]
    },
    {
      "cell_type": "code",
      "metadata": {
        "colab": {
          "base_uri": "https://localhost:8080/"
        },
        "id": "-Yj1SzxxewS7",
        "outputId": "def97ffc-a376-4a29-b5a0-65b3956b8680"
      },
      "source": [
        "arr/arr"
      ],
      "execution_count": null,
      "outputs": [
        {
          "output_type": "execute_result",
          "data": {
            "text/plain": [
              "array([[1., 1., 1.],\n",
              "       [1., 1., 1.]])"
            ]
          },
          "metadata": {
            "tags": []
          },
          "execution_count": 30
        }
      ]
    },
    {
      "cell_type": "markdown",
      "metadata": {
        "id": "uIHROe_weztD"
      },
      "source": [
        "**브로드캐스팅**\n",
        "\n",
        "*   다른 모양의 배연 간의 산술 연산을 수행 할 수 있도록 해주는 numpy의 기능\n",
        "*   브로드 캐스팅이 가능하려면 연산을 수행하는 축을 제외한 나머지 축의 shape이 일치하거나 둘 중 하나의 길이가 1이여야함.\n",
        "*  다른 배열들 간의 연산이 어떤 조건을 만족했을 때 가능해지도록 배열을 자동적으로 변환하는 것\n",
        "\n"
      ]
    },
    {
      "cell_type": "code",
      "metadata": {
        "colab": {
          "base_uri": "https://localhost:8080/"
        },
        "id": "_fY9J94iex-j",
        "outputId": "38655172-f5ea-4c17-db86-35a66d5c31a8"
      },
      "source": [
        "arr1=np.array([[1,2,3],[4,5,6]])\n",
        "arr1"
      ],
      "execution_count": null,
      "outputs": [
        {
          "output_type": "execute_result",
          "data": {
            "text/plain": [
              "array([[1, 2, 3],\n",
              "       [4, 5, 6]])"
            ]
          },
          "metadata": {
            "tags": []
          },
          "execution_count": 33
        }
      ]
    },
    {
      "cell_type": "code",
      "metadata": {
        "colab": {
          "base_uri": "https://localhost:8080/"
        },
        "id": "YpDRZssgfkB9",
        "outputId": "b7fe89de-e13d-4383-c567-9a8148a15e76"
      },
      "source": [
        "arr1.shape"
      ],
      "execution_count": null,
      "outputs": [
        {
          "output_type": "execute_result",
          "data": {
            "text/plain": [
              "(2, 3)"
            ]
          },
          "metadata": {
            "tags": []
          },
          "execution_count": 34
        }
      ]
    },
    {
      "cell_type": "code",
      "metadata": {
        "colab": {
          "base_uri": "https://localhost:8080/"
        },
        "id": "6dnmIDX-fmtC",
        "outputId": "cd173752-1563-4bd8-8814-54adc4212f7c"
      },
      "source": [
        "arr2=np.array([10,11,12])\n",
        "arr2"
      ],
      "execution_count": null,
      "outputs": [
        {
          "output_type": "execute_result",
          "data": {
            "text/plain": [
              "array([10, 11, 12])"
            ]
          },
          "metadata": {
            "tags": []
          },
          "execution_count": 35
        }
      ]
    },
    {
      "cell_type": "code",
      "metadata": {
        "colab": {
          "base_uri": "https://localhost:8080/"
        },
        "id": "9BiEUlXFf1Qa",
        "outputId": "36c8841f-8c57-4d16-d3dd-90c930e1dac7"
      },
      "source": [
        "arr2.shape"
      ],
      "execution_count": null,
      "outputs": [
        {
          "output_type": "execute_result",
          "data": {
            "text/plain": [
              "(3,)"
            ]
          },
          "metadata": {
            "tags": []
          },
          "execution_count": 36
        }
      ]
    },
    {
      "cell_type": "code",
      "metadata": {
        "colab": {
          "base_uri": "https://localhost:8080/"
        },
        "id": "4rtkXt-Mf3VB",
        "outputId": "2d5c5587-5055-459a-a32e-45439ca63497"
      },
      "source": [
        "# 두 배열의 행렬이 다르지만 계산이 가능하다. 브로드캐스팅 때문에\n",
        "\n",
        "arr1+arr2    "
      ],
      "execution_count": null,
      "outputs": [
        {
          "output_type": "execute_result",
          "data": {
            "text/plain": [
              "array([[11, 13, 15],\n",
              "       [14, 16, 18]])"
            ]
          },
          "metadata": {
            "tags": []
          },
          "execution_count": 37
        }
      ]
    },
    {
      "cell_type": "code",
      "metadata": {
        "colab": {
          "base_uri": "https://localhost:8080/"
        },
        "id": "GUdQtcPPgAEb",
        "outputId": "ed4cfb9c-4356-4b8d-dd18-676e76de326c"
      },
      "source": [
        "a=arr1*arr2\n",
        "a"
      ],
      "execution_count": null,
      "outputs": [
        {
          "output_type": "execute_result",
          "data": {
            "text/plain": [
              "array([[10, 22, 36],\n",
              "       [40, 55, 72]])"
            ]
          },
          "metadata": {
            "tags": []
          },
          "execution_count": 39
        }
      ]
    },
    {
      "cell_type": "code",
      "metadata": {
        "colab": {
          "base_uri": "https://localhost:8080/"
        },
        "id": "bLPvOt5FgK8r",
        "outputId": "5e669c3f-4ef8-4db7-f744-2fa11d1a961c"
      },
      "source": [
        "a.shape"
      ],
      "execution_count": null,
      "outputs": [
        {
          "output_type": "execute_result",
          "data": {
            "text/plain": [
              "(2, 3)"
            ]
          },
          "metadata": {
            "tags": []
          },
          "execution_count": 40
        }
      ]
    },
    {
      "cell_type": "code",
      "metadata": {
        "colab": {
          "base_uri": "https://localhost:8080/"
        },
        "id": "XNMcZUf2gSQi",
        "outputId": "156a8ee3-878d-4f09-a2ae-52e8574bbf6c"
      },
      "source": [
        "# 하나의 array에 스칼라 연산(각 원소 하나하나 씩에 계산)도 가능하다.\n",
        "arr1 * 10  "
      ],
      "execution_count": null,
      "outputs": [
        {
          "output_type": "execute_result",
          "data": {
            "text/plain": [
              "array([[10, 20, 30],\n",
              "       [40, 50, 60]])"
            ]
          },
          "metadata": {
            "tags": []
          },
          "execution_count": 42
        }
      ]
    },
    {
      "cell_type": "code",
      "metadata": {
        "colab": {
          "base_uri": "https://localhost:8080/"
        },
        "id": "9mD-iyirgkwm",
        "outputId": "1504ba76-6958-4728-8a49-2aa8e41ddb03"
      },
      "source": [
        "arr1**2"
      ],
      "execution_count": null,
      "outputs": [
        {
          "output_type": "execute_result",
          "data": {
            "text/plain": [
              "array([[ 1,  4,  9],\n",
              "       [16, 25, 36]])"
            ]
          },
          "metadata": {
            "tags": []
          },
          "execution_count": 43
        }
      ]
    },
    {
      "cell_type": "code",
      "metadata": {
        "colab": {
          "base_uri": "https://localhost:8080/"
        },
        "id": "L_VniyNRgzk9",
        "outputId": "0a0c34b6-21be-4461-f38b-424d4c2330bb"
      },
      "source": [
        "# dtype\n",
        "\n",
        "arr=np.array([10,20,30,40])\n",
        "arr"
      ],
      "execution_count": null,
      "outputs": [
        {
          "output_type": "execute_result",
          "data": {
            "text/plain": [
              "array([10, 20, 30, 40])"
            ]
          },
          "metadata": {
            "tags": []
          },
          "execution_count": 44
        }
      ]
    },
    {
      "cell_type": "code",
      "metadata": {
        "colab": {
          "base_uri": "https://localhost:8080/"
        },
        "id": "9JWc5Qo5hbGr",
        "outputId": "6efcca5e-2782-425d-b296-c868f388141f"
      },
      "source": [
        "# .astype(np.float64)\n",
        "float_arr=arr.astype(np.float64)\n",
        "float_arr"
      ],
      "execution_count": null,
      "outputs": [
        {
          "output_type": "execute_result",
          "data": {
            "text/plain": [
              "array([10., 20., 30., 40.])"
            ]
          },
          "metadata": {
            "tags": []
          },
          "execution_count": 45
        }
      ]
    },
    {
      "cell_type": "code",
      "metadata": {
        "colab": {
          "base_uri": "https://localhost:8080/"
        },
        "id": "CJxAcDzhh6N6",
        "outputId": "991433e7-87f6-4700-dccd-3a65932fdbc8"
      },
      "source": [
        "arr1"
      ],
      "execution_count": null,
      "outputs": [
        {
          "output_type": "execute_result",
          "data": {
            "text/plain": [
              "array([[1, 2, 3],\n",
              "       [4, 5, 6]])"
            ]
          },
          "metadata": {
            "tags": []
          },
          "execution_count": 48
        }
      ]
    },
    {
      "cell_type": "code",
      "metadata": {
        "colab": {
          "base_uri": "https://localhost:8080/"
        },
        "id": "_riVgDtFhi1E",
        "outputId": "618f5376-090b-45b1-fca8-8210aa476b62"
      },
      "source": [
        "arr1.size  #.size : 배열에 있는 원소의 전체 갯수"
      ],
      "execution_count": null,
      "outputs": [
        {
          "output_type": "execute_result",
          "data": {
            "text/plain": [
              "6"
            ]
          },
          "metadata": {
            "tags": []
          },
          "execution_count": 47
        }
      ]
    },
    {
      "cell_type": "code",
      "metadata": {
        "colab": {
          "base_uri": "https://localhost:8080/"
        },
        "id": "kmqLfdtah3N7",
        "outputId": "c88e8bbd-1861-4201-9c7a-7185f47ad00b"
      },
      "source": [
        "arr1.ndim  # .ndim : 배열의 차원의 갯수"
      ],
      "execution_count": null,
      "outputs": [
        {
          "output_type": "execute_result",
          "data": {
            "text/plain": [
              "2"
            ]
          },
          "metadata": {
            "tags": []
          },
          "execution_count": 49
        }
      ]
    },
    {
      "cell_type": "code",
      "metadata": {
        "colab": {
          "base_uri": "https://localhost:8080/"
        },
        "id": "dWZ7jXBUiDSB",
        "outputId": "b7dc4c16-3a7b-432b-ea7c-79122a032241"
      },
      "source": [
        "a= np.array(10)\n",
        "print(a)\n",
        "print(a.shape)\n",
        "print(a.ndim)"
      ],
      "execution_count": null,
      "outputs": [
        {
          "output_type": "stream",
          "text": [
            "10\n",
            "()\n",
            "0\n"
          ],
          "name": "stdout"
        }
      ]
    },
    {
      "cell_type": "markdown",
      "metadata": {
        "id": "NVjiPW1SkDTa"
      },
      "source": [
        "ndarray attributes"
      ]
    },
    {
      "cell_type": "code",
      "metadata": {
        "colab": {
          "base_uri": "https://localhost:8080/"
        },
        "id": "pg5l9k9diWK5",
        "outputId": "fc0a26f2-7bde-4679-aaaf-193cfbf8d49d"
      },
      "source": [
        "# zeros\n",
        "\n",
        "np.zeros((5))"
      ],
      "execution_count": null,
      "outputs": [
        {
          "output_type": "execute_result",
          "data": {
            "text/plain": [
              "array([0., 0., 0., 0., 0.])"
            ]
          },
          "metadata": {
            "tags": []
          },
          "execution_count": 55
        }
      ]
    },
    {
      "cell_type": "code",
      "metadata": {
        "colab": {
          "base_uri": "https://localhost:8080/"
        },
        "id": "XC6-EhgHkLB1",
        "outputId": "7d9ae3e7-85d7-42f4-c1e5-b4f713931f0f"
      },
      "source": [
        "# ones\n",
        "\n",
        "np.ones((3,3))"
      ],
      "execution_count": null,
      "outputs": [
        {
          "output_type": "execute_result",
          "data": {
            "text/plain": [
              "array([[1., 1., 1.],\n",
              "       [1., 1., 1.],\n",
              "       [1., 1., 1.]])"
            ]
          },
          "metadata": {
            "tags": []
          },
          "execution_count": 57
        }
      ]
    },
    {
      "cell_type": "code",
      "metadata": {
        "colab": {
          "base_uri": "https://localhost:8080/"
        },
        "id": "CynxmsrPluH4",
        "outputId": "b4ddc350-ed31-488a-c1b6-e61fddcd48ec"
      },
      "source": [
        "# full\n",
        "\n",
        "np.full((4),5)"
      ],
      "execution_count": null,
      "outputs": [
        {
          "output_type": "execute_result",
          "data": {
            "text/plain": [
              "array([5, 5, 5, 5])"
            ]
          },
          "metadata": {
            "tags": []
          },
          "execution_count": 83
        }
      ]
    },
    {
      "cell_type": "code",
      "metadata": {
        "colab": {
          "base_uri": "https://localhost:8080/"
        },
        "id": "m8ze9znkl8Bx",
        "outputId": "90cd844a-9ade-4bca-afbb-2add623f0fb3"
      },
      "source": [
        "# identity\n",
        "\n",
        "np.identity(5,dtype=int)  # N x N 정방행렬만 생성 가능"
      ],
      "execution_count": null,
      "outputs": [
        {
          "output_type": "execute_result",
          "data": {
            "text/plain": [
              "array([[1, 0, 0, 0, 0],\n",
              "       [0, 1, 0, 0, 0],\n",
              "       [0, 0, 1, 0, 0],\n",
              "       [0, 0, 0, 1, 0],\n",
              "       [0, 0, 0, 0, 1]])"
            ]
          },
          "metadata": {
            "tags": []
          },
          "execution_count": 85
        }
      ]
    },
    {
      "cell_type": "code",
      "metadata": {
        "colab": {
          "base_uri": "https://localhost:8080/"
        },
        "id": "IGjU8pHHmK85",
        "outputId": "0ca09a26-8e35-4783-a82c-b04938282ac0"
      },
      "source": [
        "# eye\n",
        "\n",
        "np.eye(5,dtype=int)        # N x M 행렬도 생성가능"
      ],
      "execution_count": null,
      "outputs": [
        {
          "output_type": "execute_result",
          "data": {
            "text/plain": [
              "array([[1, 0, 0, 0, 0],\n",
              "       [0, 1, 0, 0, 0],\n",
              "       [0, 0, 1, 0, 0],\n",
              "       [0, 0, 0, 1, 0],\n",
              "       [0, 0, 0, 0, 1]])"
            ]
          },
          "metadata": {
            "tags": []
          },
          "execution_count": 86
        }
      ]
    },
    {
      "cell_type": "code",
      "metadata": {
        "colab": {
          "base_uri": "https://localhost:8080/"
        },
        "id": "WFJO1fnmmaLM",
        "outputId": "4b0563a4-a5e3-4bab-bccb-7d9361addec9"
      },
      "source": [
        "# _like  : zeros_like, ones_like, full_like, empty_like\n",
        "# shape을 명시하지 않고 기존에 존재하는 배열을 인자로 넘겨준다.\n",
        "\n",
        "arr1 = np.array([[1,2,3,1],[2,4,5,6]])\n",
        "arr1"
      ],
      "execution_count": null,
      "outputs": [
        {
          "output_type": "execute_result",
          "data": {
            "text/plain": [
              "array([[1, 2, 3, 1],\n",
              "       [2, 4, 5, 6]])"
            ]
          },
          "metadata": {
            "tags": []
          },
          "execution_count": 87
        }
      ]
    },
    {
      "cell_type": "code",
      "metadata": {
        "colab": {
          "base_uri": "https://localhost:8080/"
        },
        "id": "5CvaR7y2nQh8",
        "outputId": "6f1c579e-caed-4e89-902e-da1119e8a7a1"
      },
      "source": [
        "arr2= np.ones_like(arr1)\n",
        "arr2"
      ],
      "execution_count": null,
      "outputs": [
        {
          "output_type": "execute_result",
          "data": {
            "text/plain": [
              "array([[1, 1, 1, 1],\n",
              "       [1, 1, 1, 1]])"
            ]
          },
          "metadata": {
            "tags": []
          },
          "execution_count": 88
        }
      ]
    },
    {
      "cell_type": "code",
      "metadata": {
        "colab": {
          "base_uri": "https://localhost:8080/"
        },
        "id": "eHunCn78nVPn",
        "outputId": "e201b0fb-33b5-428d-b879-91975c4b00b1"
      },
      "source": [
        "# arange : 내장 함수 range 와 유사한 역할, ndarray를 반환\n",
        "\n",
        "np.arange(-3,3)"
      ],
      "execution_count": null,
      "outputs": [
        {
          "output_type": "execute_result",
          "data": {
            "text/plain": [
              "array([ 3,  8, 13, 18, 23, 28, 33, 38, 43, 48])"
            ]
          },
          "metadata": {
            "tags": []
          },
          "execution_count": 90
        }
      ]
    },
    {
      "cell_type": "code",
      "metadata": {
        "colab": {
          "base_uri": "https://localhost:8080/"
        },
        "id": "XkQnIBiennOx",
        "outputId": "e43234d8-0a11-4eb4-a8bd-39608c5307a2"
      },
      "source": [
        "np.arange(3,50,3)"
      ],
      "execution_count": null,
      "outputs": [
        {
          "output_type": "execute_result",
          "data": {
            "text/plain": [
              "array([ 3,  6,  9, 12, 15, 18, 21, 24, 27, 30, 33, 36, 39, 42, 45, 48])"
            ]
          },
          "metadata": {
            "tags": []
          },
          "execution_count": 94
        }
      ]
    },
    {
      "cell_type": "markdown",
      "metadata": {
        "id": "74nNqlLeprPv"
      },
      "source": [
        "배열 결합 함수"
      ]
    },
    {
      "cell_type": "code",
      "metadata": {
        "id": "Yhq1qkNYnsIA"
      },
      "source": [
        "# Hstack, concatenate(axis=0)\n",
        "# 두 배열을 왼쪽에서 오른쪽으로 붙이기.\n",
        "\n",
        "a= np.array([1,2,3])\n",
        "\n",
        "b= np.array([4,5,6])"
      ],
      "execution_count": null,
      "outputs": []
    },
    {
      "cell_type": "code",
      "metadata": {
        "colab": {
          "base_uri": "https://localhost:8080/"
        },
        "id": "Kmhzwm3kp-TI",
        "outputId": "3eaabe7c-c886-4c7f-bdc3-3783083a5e0e"
      },
      "source": [
        "np.hstack([a,b])  "
      ],
      "execution_count": null,
      "outputs": [
        {
          "output_type": "execute_result",
          "data": {
            "text/plain": [
              "array([1, 2, 3, 4, 5, 6])"
            ]
          },
          "metadata": {
            "tags": []
          },
          "execution_count": 100
        }
      ]
    },
    {
      "cell_type": "code",
      "metadata": {
        "colab": {
          "base_uri": "https://localhost:8080/"
        },
        "id": "55mDnfu1p_u6",
        "outputId": "8f46ee99-6fe2-49e3-cf4d-71d926d739a0"
      },
      "source": [
        "np.concatenate((a,b),axis=0)"
      ],
      "execution_count": null,
      "outputs": [
        {
          "output_type": "execute_result",
          "data": {
            "text/plain": [
              "array([1, 2, 3, 4, 5, 6])"
            ]
          },
          "metadata": {
            "tags": []
          },
          "execution_count": 102
        }
      ]
    },
    {
      "cell_type": "code",
      "metadata": {
        "colab": {
          "base_uri": "https://localhost:8080/"
        },
        "id": "t1Zg2VBVqOwv",
        "outputId": "ecb697c4-eb2f-4548-bcd9-4d0221520143"
      },
      "source": [
        "# vstack, concatenate(axis=1)\n",
        "# 두 배열을 위에서 아래로 붙이기.\n",
        "\n",
        "np.vstack([a,b])"
      ],
      "execution_count": null,
      "outputs": [
        {
          "output_type": "execute_result",
          "data": {
            "text/plain": [
              "array([[1, 2, 3],\n",
              "       [4, 5, 6]])"
            ]
          },
          "metadata": {
            "tags": []
          },
          "execution_count": 103
        }
      ]
    },
    {
      "cell_type": "code",
      "metadata": {
        "colab": {
          "base_uri": "https://localhost:8080/",
          "height": 205
        },
        "id": "oJd98XX8qnnu",
        "outputId": "1725eca8-006b-4324-f0e9-85d5c5cfb505"
      },
      "source": [
        "np.concatenate((a,b),axis=1)  #concatenate((a,b),axis=1) 같은 경우는 2차원 이상부터만 가능능"
      ],
      "execution_count": null,
      "outputs": [
        {
          "output_type": "error",
          "ename": "AxisError",
          "evalue": "ignored",
          "traceback": [
            "\u001b[0;31m---------------------------------------------------------------------------\u001b[0m",
            "\u001b[0;31mAxisError\u001b[0m                                 Traceback (most recent call last)",
            "\u001b[0;32m<ipython-input-104-644816af0704>\u001b[0m in \u001b[0;36m<module>\u001b[0;34m()\u001b[0m\n\u001b[0;32m----> 1\u001b[0;31m \u001b[0mnp\u001b[0m\u001b[0;34m.\u001b[0m\u001b[0mconcatenate\u001b[0m\u001b[0;34m(\u001b[0m\u001b[0;34m(\u001b[0m\u001b[0ma\u001b[0m\u001b[0;34m,\u001b[0m\u001b[0mb\u001b[0m\u001b[0;34m)\u001b[0m\u001b[0;34m,\u001b[0m\u001b[0maxis\u001b[0m\u001b[0;34m=\u001b[0m\u001b[0;36m1\u001b[0m\u001b[0;34m)\u001b[0m\u001b[0;34m\u001b[0m\u001b[0;34m\u001b[0m\u001b[0m\n\u001b[0m",
            "\u001b[0;32m<__array_function__ internals>\u001b[0m in \u001b[0;36mconcatenate\u001b[0;34m(*args, **kwargs)\u001b[0m\n",
            "\u001b[0;31mAxisError\u001b[0m: axis 1 is out of bounds for array of dimension 1"
          ]
        }
      ]
    },
    {
      "cell_type": "code",
      "metadata": {
        "id": "FFOwhEcNuFwl"
      },
      "source": [
        ""
      ],
      "execution_count": null,
      "outputs": []
    }
  ]
}