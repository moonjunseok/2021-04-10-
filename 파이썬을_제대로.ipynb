{
  "nbformat": 4,
  "nbformat_minor": 0,
  "metadata": {
    "colab": {
      "name": "파이썬을 제대로",
      "provenance": [],
      "collapsed_sections": [],
      "authorship_tag": "ABX9TyPxiO52g7YXilpF/8va95Kr",
      "include_colab_link": true
    },
    "kernelspec": {
      "name": "python3",
      "display_name": "Python 3"
    },
    "language_info": {
      "name": "python"
    }
  },
  "cells": [
    {
      "cell_type": "markdown",
      "metadata": {
        "id": "view-in-github",
        "colab_type": "text"
      },
      "source": [
        "<a href=\"https://colab.research.google.com/github/moonjunseok/2021-04-10-/blob/main/%ED%8C%8C%EC%9D%B4%EC%8D%AC%EC%9D%84_%EC%A0%9C%EB%8C%80%EB%A1%9C.ipynb\" target=\"_parent\"><img src=\"https://colab.research.google.com/assets/colab-badge.svg\" alt=\"Open In Colab\"/></a>"
      ]
    },
    {
      "cell_type": "markdown",
      "metadata": {
        "id": "-7Wq35Nxi3uy"
      },
      "source": [
        "**천천히, 하나씩, 정확하게, 알아도 다시한번, 꾸준히**"
      ]
    },
    {
      "cell_type": "markdown",
      "metadata": {
        "id": "kWl-DsgnQi3C"
      },
      "source": [
        "문자열을 정수형으로 바꿀수도 있다."
      ]
    },
    {
      "cell_type": "code",
      "metadata": {
        "id": "O_4mtCQtQaqN"
      },
      "source": [
        "a=5\n",
        "b='5'"
      ],
      "execution_count": null,
      "outputs": []
    },
    {
      "cell_type": "code",
      "metadata": {
        "colab": {
          "base_uri": "https://localhost:8080/"
        },
        "id": "aI9IKIJSQaNz",
        "outputId": "62a2f9e8-3b49-47d4-e486-a548250e0887"
      },
      "source": [
        "type(a)"
      ],
      "execution_count": null,
      "outputs": [
        {
          "output_type": "execute_result",
          "data": {
            "text/plain": [
              "int"
            ]
          },
          "metadata": {
            "tags": []
          },
          "execution_count": 3
        }
      ]
    },
    {
      "cell_type": "code",
      "metadata": {
        "colab": {
          "base_uri": "https://localhost:8080/"
        },
        "id": "F2H7xr0NQaFi",
        "outputId": "425b6c04-fa9a-43ed-925c-e13e9fd158d0"
      },
      "source": [
        "type(b)"
      ],
      "execution_count": null,
      "outputs": [
        {
          "output_type": "execute_result",
          "data": {
            "text/plain": [
              "str"
            ]
          },
          "metadata": {
            "tags": []
          },
          "execution_count": 4
        }
      ]
    },
    {
      "cell_type": "code",
      "metadata": {
        "colab": {
          "base_uri": "https://localhost:8080/"
        },
        "id": "kD4nyTAmQZ9C",
        "outputId": "c6235ef6-0df2-4a10-d670-372ca106547c"
      },
      "source": [
        "c=str(a)\n",
        "type(c)"
      ],
      "execution_count": null,
      "outputs": [
        {
          "output_type": "execute_result",
          "data": {
            "text/plain": [
              "str"
            ]
          },
          "metadata": {
            "tags": []
          },
          "execution_count": 7
        }
      ]
    },
    {
      "cell_type": "markdown",
      "metadata": {
        "id": "zZakKZj9RCFy"
      },
      "source": [
        "**인덱싱**: 순서가 있는 변수의 특정 위치에 접근 할 수 있게 해줌.\n",
        "\n",
        "                       변수[위치]\n",
        "\n",
        "**슬라이싱** 변수의 일정 부분에 접근하여 잘라옴.\n",
        "\n",
        "                       변수[시작:끝:간격]"
      ]
    },
    {
      "cell_type": "markdown",
      "metadata": {
        "id": "BCttsfXlRhMB"
      },
      "source": [
        "**string의 method**"
      ]
    },
    {
      "cell_type": "code",
      "metadata": {
        "colab": {
          "base_uri": "https://localhost:8080/"
        },
        "id": "ZZyu6WFYQZ07",
        "outputId": "dfa287d4-3d46-4e88-cebd-dd32af576d26"
      },
      "source": [
        "#대소문자 변환 : lower, upper\n",
        "\n",
        "a='Alphabet'\n",
        "print(a.lower())"
      ],
      "execution_count": null,
      "outputs": [
        {
          "output_type": "stream",
          "text": [
            "alphabet\n"
          ],
          "name": "stdout"
        }
      ]
    },
    {
      "cell_type": "code",
      "metadata": {
        "colab": {
          "base_uri": "https://localhost:8080/"
        },
        "id": "wJW5-43IQZtf",
        "outputId": "bcbd7cbb-79c0-4a53-c04e-eb4bc6641fb7"
      },
      "source": [
        "print(a.upper())"
      ],
      "execution_count": null,
      "outputs": [
        {
          "output_type": "stream",
          "text": [
            "ALPHABET\n"
          ],
          "name": "stdout"
        }
      ]
    },
    {
      "cell_type": "code",
      "metadata": {
        "colab": {
          "base_uri": "https://localhost:8080/"
        },
        "id": "dfNQDTaCQZlK",
        "outputId": "3c98f274-edf4-4a5f-b1e1-29578373f99f"
      },
      "source": [
        "#해당 문자의 갯수 세기 : count\n",
        "a='Alphabet'\n",
        "a.count('a')  #count 는 대소문자를 구분함"
      ],
      "execution_count": null,
      "outputs": [
        {
          "output_type": "execute_result",
          "data": {
            "text/plain": [
              "1"
            ]
          },
          "metadata": {
            "tags": []
          },
          "execution_count": 11
        }
      ]
    },
    {
      "cell_type": "code",
      "metadata": {
        "colab": {
          "base_uri": "https://localhost:8080/"
        },
        "id": "HJRmgy7uQZcj",
        "outputId": "84adfc36-6809-4876-90db-5b8307237e9a"
      },
      "source": [
        "#문자열의 위치 찾기 : find , index\n",
        "a='Alphabet'\n",
        "a.find('t')   #찾는게 없으면 -1 반환"
      ],
      "execution_count": null,
      "outputs": [
        {
          "output_type": "execute_result",
          "data": {
            "text/plain": [
              "7"
            ]
          },
          "metadata": {
            "tags": []
          },
          "execution_count": 13
        }
      ]
    },
    {
      "cell_type": "code",
      "metadata": {
        "colab": {
          "base_uri": "https://localhost:8080/"
        },
        "id": "M1Mp07k3QZUI",
        "outputId": "e7cd260c-ff62-45e4-f2d1-e19b951445dd"
      },
      "source": [
        "a.index('t')   #찾는게 없으면 error 반환"
      ],
      "execution_count": null,
      "outputs": [
        {
          "output_type": "execute_result",
          "data": {
            "text/plain": [
              "7"
            ]
          },
          "metadata": {
            "tags": []
          },
          "execution_count": 14
        }
      ]
    },
    {
      "cell_type": "code",
      "metadata": {
        "colab": {
          "base_uri": "https://localhost:8080/",
          "height": 35
        },
        "id": "OjijoCB5QZKr",
        "outputId": "7d9ba1e5-6212-430f-c14c-a87a8eec5714"
      },
      "source": [
        "#문자열 바꾸기: replace (치환)\n",
        "a='life is c'\n",
        "a.replace('c','chicken')"
      ],
      "execution_count": null,
      "outputs": [
        {
          "output_type": "execute_result",
          "data": {
            "application/vnd.google.colaboratory.intrinsic+json": {
              "type": "string"
            },
            "text/plain": [
              "'life is chicken'"
            ]
          },
          "metadata": {
            "tags": []
          },
          "execution_count": 15
        }
      ]
    },
    {
      "cell_type": "code",
      "metadata": {
        "colab": {
          "base_uri": "https://localhost:8080/"
        },
        "id": "PAIT7hUIQY75",
        "outputId": "6dbd9646-9277-4a24-f1d9-e4437fca92b8"
      },
      "source": [
        "#문자열 나누기 : split\n",
        "a.split(' ')  #따옴표 '' 사이에 기준이 되는 문자를 넣기, 생략시 기준은 띄어쓰기"
      ],
      "execution_count": null,
      "outputs": [
        {
          "output_type": "execute_result",
          "data": {
            "text/plain": [
              "['life', 'is', 'c']"
            ]
          },
          "metadata": {
            "tags": []
          },
          "execution_count": 16
        }
      ]
    },
    {
      "cell_type": "code",
      "metadata": {
        "colab": {
          "base_uri": "https://localhost:8080/",
          "height": 35
        },
        "id": "-8_AQguuQYKe",
        "outputId": "a2e6adac-2c60-4985-aa6d-cd79a3ee1ae4"
      },
      "source": [
        "#문자열 삽입 : join\n",
        "a='abcd'\n",
        "','.join(a) #따옴표''사이에 삽입할 문자를 넣기"
      ],
      "execution_count": null,
      "outputs": [
        {
          "output_type": "execute_result",
          "data": {
            "application/vnd.google.colaboratory.intrinsic+json": {
              "type": "string"
            },
            "text/plain": [
              "'a,b,c,d'"
            ]
          },
          "metadata": {
            "tags": []
          },
          "execution_count": 17
        }
      ]
    },
    {
      "cell_type": "markdown",
      "metadata": {
        "id": "KKJoXbRlUxWr"
      },
      "source": [
        "**리스트(list)**\n",
        "\n",
        "*   모든 자료형을 담을 수 있음\n",
        "*   삽입, 수정, 삭제가 자유롭다.\n",
        "*   ,(콤마)로 구분한다.\n",
        "\n"
      ]
    },
    {
      "cell_type": "code",
      "metadata": {
        "id": "UaFZc6piTtja"
      },
      "source": [
        "a_1=['a','b','c']"
      ],
      "execution_count": null,
      "outputs": []
    },
    {
      "cell_type": "code",
      "metadata": {
        "colab": {
          "base_uri": "https://localhost:8080/"
        },
        "id": "e4oMo3-aTuOd",
        "outputId": "9d68dae7-7206-447c-cdb4-93eeef20b62d"
      },
      "source": [
        "a in a_1  # a_1 안의 'a'는 string이고 a 는 list여서 False이다."
      ],
      "execution_count": null,
      "outputs": [
        {
          "output_type": "execute_result",
          "data": {
            "text/plain": [
              "False"
            ]
          },
          "metadata": {
            "tags": []
          },
          "execution_count": 20
        }
      ]
    },
    {
      "cell_type": "markdown",
      "metadata": {
        "id": "GixWOM12Wpnu"
      },
      "source": [
        "**list의 메소드**"
      ]
    },
    {
      "cell_type": "code",
      "metadata": {
        "id": "FAAcMMqFTuTe"
      },
      "source": [
        "# 삽입: append, insert\n",
        "list2=['파이썬','c++','java']"
      ],
      "execution_count": null,
      "outputs": []
    },
    {
      "cell_type": "code",
      "metadata": {
        "colab": {
          "base_uri": "https://localhost:8080/"
        },
        "id": "Qhu_oKjjTuXa",
        "outputId": "35a7ef5e-156f-4529-b16f-99a0bc6e7fda"
      },
      "source": [
        "list2.append('R')\n",
        "list2"
      ],
      "execution_count": null,
      "outputs": [
        {
          "output_type": "execute_result",
          "data": {
            "text/plain": [
              "['파이썬', 'c++', 'java', 'R']"
            ]
          },
          "metadata": {
            "tags": []
          },
          "execution_count": 24
        }
      ]
    },
    {
      "cell_type": "code",
      "metadata": {
        "colab": {
          "base_uri": "https://localhost:8080/"
        },
        "id": "EhFuyeP0Tucw",
        "outputId": "b8e78165-1c28-44e2-9a74-4b620cb3881c"
      },
      "source": [
        "list2.insert(2,'c++')\n",
        "list2.insert(5,'C')\n",
        "list2"
      ],
      "execution_count": null,
      "outputs": [
        {
          "output_type": "execute_result",
          "data": {
            "text/plain": [
              "['파이썬', 'c++', 'c++', 'java', 'R']"
            ]
          },
          "metadata": {
            "tags": []
          },
          "execution_count": 25
        }
      ]
    },
    {
      "cell_type": "code",
      "metadata": {
        "colab": {
          "base_uri": "https://localhost:8080/"
        },
        "id": "bpleXii_Tugp",
        "outputId": "fad65955-2727-485f-aaf7-a50b47c0fb30"
      },
      "source": [
        "#수정: 덮어쓰기 -> 인덱스나 슬라이싱을 통해 수정한다.\n",
        "list2[0]='Python'\n",
        "list2"
      ],
      "execution_count": null,
      "outputs": [
        {
          "output_type": "execute_result",
          "data": {
            "text/plain": [
              "['Python', 'c++', 'c++', 'java', 'R', 'C']"
            ]
          },
          "metadata": {
            "tags": []
          },
          "execution_count": 28
        }
      ]
    },
    {
      "cell_type": "code",
      "metadata": {
        "colab": {
          "base_uri": "https://localhost:8080/"
        },
        "id": "4f1x_6s1Tuks",
        "outputId": "fdc2962b-5c49-4e55-acc9-5ed47e613c5d"
      },
      "source": [
        "#확장 : extend([])가 있는데 거의 안쓴다고 한다.\n",
        "list2.extend(['MATLAB','Julia'])\n",
        "list2"
      ],
      "execution_count": null,
      "outputs": [
        {
          "output_type": "execute_result",
          "data": {
            "text/plain": [
              "['Python', 'c++', 'c++', 'java', 'R', 'C', 'MATLAB', 'Julia']"
            ]
          },
          "metadata": {
            "tags": []
          },
          "execution_count": 29
        }
      ]
    },
    {
      "cell_type": "code",
      "metadata": {
        "colab": {
          "base_uri": "https://localhost:8080/"
        },
        "id": "J6iEFm-iTuo-",
        "outputId": "feada98e-11f3-4d5b-94ce-f87fb6b1eb89"
      },
      "source": [
        "#삭제: remove, del\n",
        "list2.remove('C')\n",
        "list2             # remove는 지우고자 하는 요소를 명시해야하고 가장 앞에 있는 요소가 삭제된다."
      ],
      "execution_count": null,
      "outputs": [
        {
          "output_type": "execute_result",
          "data": {
            "text/plain": [
              "['Python', 'c++', 'c++', 'java', 'R', 'MATLAB', 'Julia']"
            ]
          },
          "metadata": {
            "tags": []
          },
          "execution_count": 30
        }
      ]
    },
    {
      "cell_type": "code",
      "metadata": {
        "colab": {
          "base_uri": "https://localhost:8080/"
        },
        "id": "pPSeBQ5rTutn",
        "outputId": "8b98f0bc-5e4a-4c5b-cbbf-960a467cb2ea"
      },
      "source": [
        "del list2[6]  #del은 메모리에 할당되어있는걸 아예 삭제해준다.\n",
        "list2"
      ],
      "execution_count": null,
      "outputs": [
        {
          "output_type": "execute_result",
          "data": {
            "text/plain": [
              "['Python', 'c++', 'c++', 'java', 'R', 'MATLAB']"
            ]
          },
          "metadata": {
            "tags": []
          },
          "execution_count": 31
        }
      ]
    },
    {
      "cell_type": "code",
      "metadata": {
        "colab": {
          "base_uri": "https://localhost:8080/",
          "height": 35
        },
        "id": "hxALJrSYTuzQ",
        "outputId": "c8530cf2-7cfe-48a6-dfbc-717fe49d1159"
      },
      "source": [
        "# 꺼내오기:pop\n",
        "list2.pop()  # 보여주고 삭제한다."
      ],
      "execution_count": null,
      "outputs": [
        {
          "output_type": "execute_result",
          "data": {
            "application/vnd.google.colaboratory.intrinsic+json": {
              "type": "string"
            },
            "text/plain": [
              "'R'"
            ]
          },
          "metadata": {
            "tags": []
          },
          "execution_count": 34
        }
      ]
    },
    {
      "cell_type": "code",
      "metadata": {
        "colab": {
          "base_uri": "https://localhost:8080/"
        },
        "id": "hhduQBDYTu28",
        "outputId": "0863538b-54e9-4964-e692-2899c28b3c35"
      },
      "source": [
        "list2  # ()안 인덱스에 해당하는 요소를 반환시킨다. 인덱스를 생략하면 가장 마지막 요소를 꺼내온다."
      ],
      "execution_count": null,
      "outputs": [
        {
          "output_type": "execute_result",
          "data": {
            "text/plain": [
              "['Python', 'c++', 'c++', 'java']"
            ]
          },
          "metadata": {
            "tags": []
          },
          "execution_count": 35
        }
      ]
    },
    {
      "cell_type": "code",
      "metadata": {
        "id": "qMF_SRWeTu8p"
      },
      "source": [
        "# 정렬 : sort\n",
        "list1=[1,5,7,2,6]"
      ],
      "execution_count": null,
      "outputs": []
    },
    {
      "cell_type": "code",
      "metadata": {
        "colab": {
          "base_uri": "https://localhost:8080/"
        },
        "id": "3GhFr67XTvA_",
        "outputId": "c902aee2-bfc0-4169-f62d-5bd31d765fd2"
      },
      "source": [
        "list1.sort()  #리스트 자체를 정렬한다.\n",
        "list1"
      ],
      "execution_count": null,
      "outputs": [
        {
          "output_type": "execute_result",
          "data": {
            "text/plain": [
              "[1, 2, 5, 6, 7]"
            ]
          },
          "metadata": {
            "tags": []
          },
          "execution_count": 37
        }
      ]
    },
    {
      "cell_type": "code",
      "metadata": {
        "colab": {
          "base_uri": "https://localhost:8080/"
        },
        "id": "enpuBqo1TvFB",
        "outputId": "a819e12f-58ce-4731-9ccb-6a54479f8b90"
      },
      "source": [
        "list1.sort(reverse=True)  #reverse=True : 내림차순\n",
        "list1                     #reverse=False : 오름차순"
      ],
      "execution_count": null,
      "outputs": [
        {
          "output_type": "execute_result",
          "data": {
            "text/plain": [
              "[7, 6, 5, 2, 1]"
            ]
          },
          "metadata": {
            "tags": []
          },
          "execution_count": 42
        }
      ]
    },
    {
      "cell_type": "code",
      "metadata": {
        "colab": {
          "base_uri": "https://localhost:8080/"
        },
        "id": "C5nAdrIaTvLo",
        "outputId": "c547aca5-bab3-4942-a413-0bf3e356f051"
      },
      "source": [
        "# 뒤집기 : reverse\n",
        "list1.reverse()  # 그냥 리스트 자체를 뒤집는다.\n",
        "list1"
      ],
      "execution_count": null,
      "outputs": [
        {
          "output_type": "execute_result",
          "data": {
            "text/plain": [
              "[6, 2, 7, 5, 1]"
            ]
          },
          "metadata": {
            "tags": []
          },
          "execution_count": 46
        }
      ]
    },
    {
      "cell_type": "markdown",
      "metadata": {
        "id": "HRi0Quoaesz7"
      },
      "source": [
        "**리스트 참고**"
      ]
    },
    {
      "cell_type": "code",
      "metadata": {
        "id": "E2B0U6O1TvvT"
      },
      "source": [
        "a=[10,9,8,7,6]\n",
        "b=[6,7,8,9,10]  #이렇게 서로 다른 리스트 a,b가 있는데"
      ],
      "execution_count": null,
      "outputs": []
    },
    {
      "cell_type": "code",
      "metadata": {
        "id": "3l_tTMB9QW2O"
      },
      "source": [
        "b=a  #메모리하고 값을 다 복사한다."
      ],
      "execution_count": null,
      "outputs": []
    },
    {
      "cell_type": "code",
      "metadata": {
        "colab": {
          "base_uri": "https://localhost:8080/"
        },
        "id": "JCDFvdAOcMgx",
        "outputId": "6e477a4a-af6c-4548-949a-2514230e44f7"
      },
      "source": [
        "print(b)   #b가 a와 같아졌다."
      ],
      "execution_count": null,
      "outputs": [
        {
          "output_type": "stream",
          "text": [
            "[10, 9, 8, 7, 6]\n"
          ],
          "name": "stdout"
        }
      ]
    },
    {
      "cell_type": "code",
      "metadata": {
        "colab": {
          "base_uri": "https://localhost:8080/"
        },
        "id": "Yn-3uVqOcMk0",
        "outputId": "90eacfe8-efcd-4bc2-ffb0-934e2586a8de"
      },
      "source": [
        "a.sort()   #여기서 a를 오름차순으로 정렬 때려주고\n",
        "a"
      ],
      "execution_count": null,
      "outputs": [
        {
          "output_type": "execute_result",
          "data": {
            "text/plain": [
              "[6, 7, 8, 9, 10]"
            ]
          },
          "metadata": {
            "tags": []
          },
          "execution_count": 52
        }
      ]
    },
    {
      "cell_type": "code",
      "metadata": {
        "colab": {
          "base_uri": "https://localhost:8080/"
        },
        "id": "rKPGdH-WcMpB",
        "outputId": "de467fa3-1555-4a3e-81ce-826c454057d4"
      },
      "source": [
        "print(b)  #얘도 따라서 같이 정렬되는걸 알 수 있다."
      ],
      "execution_count": null,
      "outputs": [
        {
          "output_type": "stream",
          "text": [
            "[6, 7, 8, 9, 10]\n"
          ],
          "name": "stdout"
        }
      ]
    },
    {
      "cell_type": "code",
      "metadata": {
        "id": "Si00o16hcMtU"
      },
      "source": [
        "b=[1,2,3,4,5]  #b에 새로운걸 넣어주고"
      ],
      "execution_count": null,
      "outputs": []
    },
    {
      "cell_type": "code",
      "metadata": {
        "colab": {
          "base_uri": "https://localhost:8080/"
        },
        "id": "zaJ1sPH3cMxi",
        "outputId": "66aff9b0-351a-4a53-c938-1622e728ba65"
      },
      "source": [
        "print(a,b) #이렇게 각자 나옴."
      ],
      "execution_count": null,
      "outputs": [
        {
          "output_type": "stream",
          "text": [
            "[6, 7, 8, 9, 10] [1, 2, 3, 4, 5]\n"
          ],
          "name": "stdout"
        }
      ]
    },
    {
      "cell_type": "markdown",
      "metadata": {
        "id": "ogjBmOrde0b7"
      },
      "source": [
        "같은 값을 복사하고 싶으면"
      ]
    },
    {
      "cell_type": "code",
      "metadata": {
        "id": "rqTJmct8cM1l"
      },
      "source": [
        "a=[5,4,3,2,1]\n",
        "b=a[:] # 값만 복사 "
      ],
      "execution_count": null,
      "outputs": []
    },
    {
      "cell_type": "code",
      "metadata": {
        "colab": {
          "base_uri": "https://localhost:8080/"
        },
        "id": "hGOVVicNcM5j",
        "outputId": "b5d778e8-29be-4fff-fe01-1f9182ac86a5"
      },
      "source": [
        "a"
      ],
      "execution_count": null,
      "outputs": [
        {
          "output_type": "execute_result",
          "data": {
            "text/plain": [
              "[5, 4, 3, 2, 1]"
            ]
          },
          "metadata": {
            "tags": []
          },
          "execution_count": 57
        }
      ]
    },
    {
      "cell_type": "code",
      "metadata": {
        "colab": {
          "base_uri": "https://localhost:8080/"
        },
        "id": "RoM0zAMJcM-V",
        "outputId": "0183810e-8289-49be-87cc-35ef1bc0ecf6"
      },
      "source": [
        "b"
      ],
      "execution_count": null,
      "outputs": [
        {
          "output_type": "execute_result",
          "data": {
            "text/plain": [
              "[5, 4, 3, 2, 1]"
            ]
          },
          "metadata": {
            "tags": []
          },
          "execution_count": 58
        }
      ]
    },
    {
      "cell_type": "code",
      "metadata": {
        "id": "w-9_IqbWcNCb"
      },
      "source": [
        "a.sort()"
      ],
      "execution_count": null,
      "outputs": []
    },
    {
      "cell_type": "code",
      "metadata": {
        "colab": {
          "base_uri": "https://localhost:8080/"
        },
        "id": "8IVZQ4kgcNFk",
        "outputId": "28840379-e2bc-4b87-c082-e15a9655a4c7"
      },
      "source": [
        "a"
      ],
      "execution_count": null,
      "outputs": [
        {
          "output_type": "execute_result",
          "data": {
            "text/plain": [
              "[1, 2, 3, 4, 5]"
            ]
          },
          "metadata": {
            "tags": []
          },
          "execution_count": 60
        }
      ]
    },
    {
      "cell_type": "code",
      "metadata": {
        "colab": {
          "base_uri": "https://localhost:8080/"
        },
        "id": "7cJ8LUXHcNLf",
        "outputId": "136341f8-4190-464a-dd96-b45db535de4f"
      },
      "source": [
        "b"
      ],
      "execution_count": null,
      "outputs": [
        {
          "output_type": "execute_result",
          "data": {
            "text/plain": [
              "[5, 4, 3, 2, 1]"
            ]
          },
          "metadata": {
            "tags": []
          },
          "execution_count": 61
        }
      ]
    },
    {
      "cell_type": "markdown",
      "metadata": {
        "id": "hVlhrpoQfM_S"
      },
      "source": [
        "패킹: 한 변수에 여러개의 데이터를 넣는것\n",
        "\n",
        "언패킹: 한 변수의 데이터를 각각의 변수로 반환"
      ]
    },
    {
      "cell_type": "code",
      "metadata": {
        "colab": {
          "base_uri": "https://localhost:8080/"
        },
        "id": "N5JxOfz8cNPB",
        "outputId": "84ccc15f-8121-4b40-a0ef-9246ea1fd591"
      },
      "source": [
        "e=[1,2,3] #1,2,3이라는 변수를 e에 패킹\n",
        "e"
      ],
      "execution_count": null,
      "outputs": [
        {
          "output_type": "execute_result",
          "data": {
            "text/plain": [
              "[1, 2, 3]"
            ]
          },
          "metadata": {
            "tags": []
          },
          "execution_count": 62
        }
      ]
    },
    {
      "cell_type": "code",
      "metadata": {
        "colab": {
          "base_uri": "https://localhost:8080/"
        },
        "id": "j7zTlL0McNSL",
        "outputId": "212cd94b-2983-4583-9d15-38e6878ba8d7"
      },
      "source": [
        "f,g,h = e #e에 있는 값 1,2,3을 변수 a,b,c에 언패킹\n",
        "print(f,g,h)"
      ],
      "execution_count": null,
      "outputs": [
        {
          "output_type": "stream",
          "text": [
            "1 2 3\n"
          ],
          "name": "stdout"
        }
      ]
    },
    {
      "cell_type": "markdown",
      "metadata": {
        "id": "R87sHuM-h_an"
      },
      "source": [
        "**튜플(tuple)**\n",
        "\n",
        "\n",
        "\n",
        "*   한개의 요소만 사용 할 때에는 콤마(,)를 반드시 사용해야함\n",
        "*   괄호가 없어도 튜플로 선언할 수 있음.\n",
        "*   리스트와 달리 요소를 **삽입/삭제/수정** 할 수 없음.\n",
        "\n"
      ]
    },
    {
      "cell_type": "code",
      "metadata": {
        "id": "NoYcJ_O_gtCp"
      },
      "source": [
        "tuple_1 = ()\n",
        "tuple_2 = tuple()\n",
        "tuple_3 = (1,2)\n",
        "tuple_4 = (3,)\n",
        "tuple_5 = (4,5,(6,7))\n",
        "tuple_6 = 8,9,10"
      ],
      "execution_count": null,
      "outputs": []
    },
    {
      "cell_type": "code",
      "metadata": {
        "colab": {
          "base_uri": "https://localhost:8080/"
        },
        "id": "gEhVvMgqgtHr",
        "outputId": "26707136-9f20-4a14-ddac-32d8c91d4b01"
      },
      "source": [
        "# 인덱싱과 슬라이싱이 가능\n",
        "tuple_3=(1,2)  \n",
        "tuple_3[0]"
      ],
      "execution_count": null,
      "outputs": [
        {
          "output_type": "execute_result",
          "data": {
            "text/plain": [
              "1"
            ]
          },
          "metadata": {
            "tags": []
          },
          "execution_count": 13
        }
      ]
    },
    {
      "cell_type": "code",
      "metadata": {
        "id": "qTYeMv1ugtMu"
      },
      "source": [
        "a=(3)  #type(a)= int\n",
        "b=(3,) #type(b)= tuple"
      ],
      "execution_count": null,
      "outputs": []
    },
    {
      "cell_type": "markdown",
      "metadata": {
        "id": "0Lx41HrBjno4"
      },
      "source": [
        "**딕셔너리(dictionary)**\n",
        "\n",
        "*   { }을 이용하여 딕셔너리임을 선언\n",
        "*   key 와 value 값으로 이루어진 자료형\n",
        "*   순서가 있는 자료형이 아니며, key을 통해 value값에 접근이 가능\n",
        "*   key는 고유한 값으로 중복이 될 수 없음.\n",
        "*   value는 중복이 가능하다."
      ]
    },
    {
      "cell_type": "code",
      "metadata": {
        "id": "mOHS77xqgtQj"
      },
      "source": [
        "#요소 추가하기 : 새로운 key에 value를 할당한다.\n",
        "dict_1={'홍길동': 100, '홍계월': 200}"
      ],
      "execution_count": null,
      "outputs": []
    },
    {
      "cell_type": "code",
      "metadata": {
        "colab": {
          "base_uri": "https://localhost:8080/"
        },
        "id": "k8dv9gAlgtU5",
        "outputId": "d6fb515d-e433-4b34-8db1-b7621e923665"
      },
      "source": [
        "dict_1['슈퍼맨']=300\n",
        "dict_1      #맨 앞에 작성된다."
      ],
      "execution_count": null,
      "outputs": [
        {
          "output_type": "execute_result",
          "data": {
            "text/plain": [
              "{'슈퍼맨': 300, '홍계월': 200, '홍길동': 100}"
            ]
          },
          "metadata": {
            "tags": []
          },
          "execution_count": 15
        }
      ]
    },
    {
      "cell_type": "code",
      "metadata": {
        "colab": {
          "base_uri": "https://localhost:8080/"
        },
        "id": "W9QTJH_3gtZk",
        "outputId": "58d1a184-fe54-41ce-9b74-a03bc174900d"
      },
      "source": [
        "# 요소 수정하기 : 덮어쓰기\n",
        "dict_1['홍길동']=1\n",
        "dict_1"
      ],
      "execution_count": null,
      "outputs": [
        {
          "output_type": "execute_result",
          "data": {
            "text/plain": [
              "{'슈퍼맨': 300, '홍계월': 200, '홍길동': 1}"
            ]
          },
          "metadata": {
            "tags": []
          },
          "execution_count": 16
        }
      ]
    },
    {
      "cell_type": "code",
      "metadata": {
        "colab": {
          "base_uri": "https://localhost:8080/"
        },
        "id": "uI_jMJCJgtds",
        "outputId": "e060c7b7-e1ee-4781-f3e5-6f8f154f9ce8"
      },
      "source": [
        "# 요소 삭제하기 : del\n",
        "del dict_1['슈퍼맨']\n",
        "dict_1  # del : 파이썬 자체의 명령어로 메모리 자체에서 삭제 "
      ],
      "execution_count": null,
      "outputs": [
        {
          "output_type": "execute_result",
          "data": {
            "text/plain": [
              "{'홍계월': 200, '홍길동': 1}"
            ]
          },
          "metadata": {
            "tags": []
          },
          "execution_count": 17
        }
      ]
    },
    {
      "cell_type": "code",
      "metadata": {
        "colab": {
          "base_uri": "https://localhost:8080/"
        },
        "id": "CQv_zzpkgtid",
        "outputId": "3491988a-b920-4aa3-f1be-de5f62cf8059"
      },
      "source": [
        "# key와 value에 접근하기\n",
        "#key에 접근하기 : keys()\n",
        "#value에 접근하기 : values()\n",
        "\n",
        "dict_2 = {'홍길동': 100, '홍계월': 200, '슈퍼맨':150, '배트맨':250}\n",
        "print(dict_2.keys())\n",
        "print(type(dict_1.keys()))"
      ],
      "execution_count": null,
      "outputs": [
        {
          "output_type": "stream",
          "text": [
            "dict_keys(['홍길동', '홍계월', '슈퍼맨', '배트맨'])\n",
            "<class 'dict_keys'>\n"
          ],
          "name": "stdout"
        }
      ]
    },
    {
      "cell_type": "code",
      "metadata": {
        "colab": {
          "base_uri": "https://localhost:8080/"
        },
        "id": "PM39Gappgtmx",
        "outputId": "93841475-0c49-418f-f334-93875b81feae"
      },
      "source": [
        "print(dict_2.values())\n",
        "print(type(dict_2.values()))"
      ],
      "execution_count": null,
      "outputs": [
        {
          "output_type": "stream",
          "text": [
            "dict_values([100, 200, 150, 250])\n",
            "<class 'dict_values'>\n"
          ],
          "name": "stdout"
        }
      ]
    },
    {
      "cell_type": "code",
      "metadata": {
        "colab": {
          "base_uri": "https://localhost:8080/"
        },
        "id": "02Utae_UgtrA",
        "outputId": "fa61afdc-e458-4acf-e279-7573ce783dd2"
      },
      "source": [
        "# key 와 value에 함께 접근하기.\n",
        "print(dict_2.items())\n",
        "print(type(dict_2.items()))"
      ],
      "execution_count": null,
      "outputs": [
        {
          "output_type": "stream",
          "text": [
            "dict_items([('홍길동', 100), ('홍계월', 200), ('슈퍼맨', 150), ('배트맨', 250)])\n",
            "<class 'dict_items'>\n"
          ],
          "name": "stdout"
        }
      ]
    },
    {
      "cell_type": "markdown",
      "metadata": {
        "id": "nIOFgEF5mn2r"
      },
      "source": [
        "리스트 처럼 보이나 실제로는 dict의 개체이므로 리스트 메소드를 사용 할 수 없다는 점 주의하세요."
      ]
    },
    {
      "cell_type": "code",
      "metadata": {
        "colab": {
          "base_uri": "https://localhost:8080/",
          "height": 35
        },
        "id": "8C5Fu3iPgtwP",
        "outputId": "e9154220-0fd9-4410-d182-8dadadf7b119"
      },
      "source": [
        "#리스트 처럼 사용하고 싶다면 리스트로 형 변환 해주세요/ 튜플도 가능합니다.\n",
        "list(dict_1.keys())[0]"
      ],
      "execution_count": null,
      "outputs": [
        {
          "output_type": "execute_result",
          "data": {
            "application/vnd.google.colaboratory.intrinsic+json": {
              "type": "string"
            },
            "text/plain": [
              "'홍길동'"
            ]
          },
          "metadata": {
            "tags": []
          },
          "execution_count": 23
        }
      ]
    },
    {
      "cell_type": "markdown",
      "metadata": {
        "id": "JprG2ev0yMSG"
      },
      "source": [
        "**조건문** \n",
        "\n",
        "여기서부터 진짜 잘 이해&암기 하면서 가야해요."
      ]
    },
    {
      "cell_type": "code",
      "metadata": {
        "colab": {
          "base_uri": "https://localhost:8080/"
        },
        "id": "6ii40Me4gumw",
        "outputId": "30ec53f0-8838-4209-b36b-63b2ecbda434"
      },
      "source": [
        "#if/else문\n",
        "                          #콜론(:)과 들여쓰게이 주의할것.\n",
        "money= True\n",
        "\n",
        "if money :\n",
        "  print('여행을 간다.')\n",
        "else :\n",
        "  print('집에서 쉰다.')"
      ],
      "execution_count": null,
      "outputs": [
        {
          "output_type": "stream",
          "text": [
            "여행을 간다.\n"
          ],
          "name": "stdout"
        }
      ]
    },
    {
      "cell_type": "code",
      "metadata": {
        "colab": {
          "base_uri": "https://localhost:8080/"
        },
        "id": "-pzRbKKAcOYr",
        "outputId": "009b4448-c627-4323-de63-72e522ac5276"
      },
      "source": [
        "#if/elif/else     if도 elif 도 아닌 경우 else로 간다.\n",
        "\n",
        "money=20000\n",
        "\n",
        "if money < 5000:\n",
        "  print('라면을 먹는다.')\n",
        "elif 5000<money<25000:\n",
        "  print('치킨을 먹는다.')\n",
        "elif 25000<money<50000:\n",
        "  print('삼겹살을 먹는다.')\n",
        "else:\n",
        "  print('소고기를 먹는다.')"
      ],
      "execution_count": null,
      "outputs": [
        {
          "output_type": "stream",
          "text": [
            "치킨을 먹는다.\n"
          ],
          "name": "stdout"
        }
      ]
    },
    {
      "cell_type": "markdown",
      "metadata": {
        "id": "9fYmMufEz3hg"
      },
      "source": [
        "요소인지 파악하기 : in /notin"
      ]
    },
    {
      "cell_type": "code",
      "metadata": {
        "id": "45C9RTiHcObC"
      },
      "source": [
        "e=[1,3,5,7]"
      ],
      "execution_count": null,
      "outputs": []
    },
    {
      "cell_type": "code",
      "metadata": {
        "colab": {
          "base_uri": "https://localhost:8080/"
        },
        "id": "_UVm_P1YcO8N",
        "outputId": "bc5a48f8-2d4e-4c7d-f369-ba5900f85d7d"
      },
      "source": [
        "0 in e   # e 안에 0이 있나요?"
      ],
      "execution_count": null,
      "outputs": [
        {
          "output_type": "execute_result",
          "data": {
            "text/plain": [
              "False"
            ]
          },
          "metadata": {
            "tags": []
          },
          "execution_count": 66
        }
      ]
    },
    {
      "cell_type": "markdown",
      "metadata": {
        "id": "InK9TWsN0vS9"
      },
      "source": [
        "if 안에 if 문: 조건 안에 조건을 만들 수 있음"
      ]
    },
    {
      "cell_type": "code",
      "metadata": {
        "id": "sukMQa6k1pAH"
      },
      "source": [
        "money=20000\n",
        "card=True"
      ],
      "execution_count": null,
      "outputs": []
    },
    {
      "cell_type": "code",
      "metadata": {
        "colab": {
          "base_uri": "https://localhost:8080/"
        },
        "id": "Y2y2RAkv0pcO",
        "outputId": "6f9d597c-0af9-4db1-fe5c-02a798753322"
      },
      "source": [
        "if card: #안쓰면 true\n",
        "  if money < 30000:\n",
        "    print(\"삼겹살을 먹는다\")\n",
        "  else:\n",
        "    print(\"소고기를 먹는다\")\n",
        "else: #카드가 false인 경우\n",
        "  if money <= 1000:\n",
        "    pass  # if에 걸리면 그냥 통과한다.\n",
        "  else:\n",
        "    print('라면을 먹는다')"
      ],
      "execution_count": null,
      "outputs": [
        {
          "output_type": "stream",
          "text": [
            "삼겹살을 먹는다\n"
          ],
          "name": "stdout"
        }
      ]
    },
    {
      "cell_type": "markdown",
      "metadata": {
        "id": "TeER9hET10BB"
      },
      "source": [
        "조건문 중에서는 이걸 제일 많이 쓰나봐요\n",
        "\n",
        "**삼항연산자(Ternary Operators)**"
      ]
    },
    {
      "cell_type": "code",
      "metadata": {
        "colab": {
          "base_uri": "https://localhost:8080/"
        },
        "id": "pHpFnpB40pvg",
        "outputId": "3049ad0f-40fe-447a-f42b-4913352e4873"
      },
      "source": [
        "# [True_value] if [condition] else [False_value]\n",
        "value = 20\n",
        "is_even = True if value %2==0 else False\n",
        "print(is_even)"
      ],
      "execution_count": null,
      "outputs": [
        {
          "output_type": "stream",
          "text": [
            "True\n"
          ],
          "name": "stdout"
        }
      ]
    },
    {
      "cell_type": "markdown",
      "metadata": {
        "id": "PbywNlq82h8Q"
      },
      "source": [
        "**포맷팅 (Formatting)**\n",
        "\n",
        "\n",
        "\n",
        "*   %d = int(정수)\n",
        "*   %f = float(실수)\n",
        "*   %s = string(문자)\n",
        "\n"
      ]
    },
    {
      "cell_type": "code",
      "metadata": {
        "colab": {
          "base_uri": "https://localhost:8080/"
        },
        "id": "1MkLnmpt0pz7",
        "outputId": "d8acd392-6199-4b31-9e99-14666cb5df74"
      },
      "source": [
        "num=1\n",
        "print('문자열 포맷팅 하기 예시 %d' %num)"
      ],
      "execution_count": null,
      "outputs": [
        {
          "output_type": "stream",
          "text": [
            "문자열 포맷팅 하기 예시 1\n"
          ],
          "name": "stdout"
        }
      ]
    },
    {
      "cell_type": "code",
      "metadata": {
        "colab": {
          "base_uri": "https://localhost:8080/"
        },
        "id": "rwA4_qsJ0p36",
        "outputId": "0dd4d449-aed4-41e7-da7f-ecc3e0bb7c48"
      },
      "source": [
        "ch='이름'\n",
        "print('내 이름은 %s 이야' %ch)"
      ],
      "execution_count": null,
      "outputs": [
        {
          "output_type": "stream",
          "text": [
            "내 이름은 이름 이야\n"
          ],
          "name": "stdout"
        }
      ]
    },
    {
      "cell_type": "code",
      "metadata": {
        "colab": {
          "base_uri": "https://localhost:8080/"
        },
        "id": "X4rhB5Tk0p-E",
        "outputId": "97739ccc-4044-4831-e942-a4b87846d124"
      },
      "source": [
        "fl=2.566132\n",
        "print('반올림하기 : %0.1f' %fl)  #%0.1f 에서 0.1은 소수점 첫째자리까지만 나오게 해줘 이다. %0.n -> 소수점 n번째 자리까지만"
      ],
      "execution_count": null,
      "outputs": [
        {
          "output_type": "stream",
          "text": [
            "반올림하기 : 2.6\n"
          ],
          "name": "stdout"
        }
      ]
    },
    {
      "cell_type": "code",
      "metadata": {
        "colab": {
          "base_uri": "https://localhost:8080/"
        },
        "id": "xxaYbhRZ0qGJ",
        "outputId": "90c6acab-786f-4fc7-fb59-653ace200ccf"
      },
      "source": [
        "# 괄호로 묶어주면 두개 이상도 포맷팅 가능\n",
        "a=3\n",
        "b=5\n",
        "print('%d와 %d를 더하면 %d' %(a,b,a+b))"
      ],
      "execution_count": null,
      "outputs": [
        {
          "output_type": "stream",
          "text": [
            "3와 5를 더하면 8\n"
          ],
          "name": "stdout"
        }
      ]
    },
    {
      "cell_type": "markdown",
      "metadata": {
        "id": "ZRfP6TVp4Ttb"
      },
      "source": [
        "'{  }'.format(포맷팅 할 변수)\n"
      ]
    },
    {
      "cell_type": "code",
      "metadata": {
        "colab": {
          "base_uri": "https://localhost:8080/"
        },
        "id": "NfbySq0z0qJw",
        "outputId": "42c01ecb-1871-43c1-9d22-ee26b0cc21f5"
      },
      "source": [
        "print('문자열 포맷팅 하기 예시 {}'.format(2))"
      ],
      "execution_count": null,
      "outputs": [
        {
          "output_type": "stream",
          "text": [
            "문자열 포맷팅 하기 예시 2\n"
          ],
          "name": "stdout"
        }
      ]
    },
    {
      "cell_type": "code",
      "metadata": {
        "colab": {
          "base_uri": "https://localhost:8080/"
        },
        "id": "bx0tYlk20qNW",
        "outputId": "0fbd90df-cf9c-4a34-8c33-d1595b20cc6b"
      },
      "source": [
        "print('내 이름은 {} 이야'.format(ch))"
      ],
      "execution_count": null,
      "outputs": [
        {
          "output_type": "stream",
          "text": [
            "내 이름은 이름 이야\n"
          ],
          "name": "stdout"
        }
      ]
    },
    {
      "cell_type": "code",
      "metadata": {
        "id": "yVrnJ-bT0qRI"
      },
      "source": [
        "# 괄호로 묶어주면 두 개 이상도 포맷팅 할 수 있음.\n",
        "\n",
        "a='박'\n",
        "b='지성'"
      ],
      "execution_count": null,
      "outputs": []
    },
    {
      "cell_type": "code",
      "metadata": {
        "colab": {
          "base_uri": "https://localhost:8080/"
        },
        "id": "3NeBCpKx0qV2",
        "outputId": "015a7e2a-703e-4f64-9808-43d92d5b8b49"
      },
      "source": [
        "print('성은 {}, 이름은 {}'.format(a,b))"
      ],
      "execution_count": null,
      "outputs": [
        {
          "output_type": "stream",
          "text": [
            "성은 박, 이름은 지성\n"
          ],
          "name": "stdout"
        }
      ]
    },
    {
      "cell_type": "code",
      "metadata": {
        "colab": {
          "base_uri": "https://localhost:8080/"
        },
        "id": "nOHWOjzg0qZr",
        "outputId": "9e27dd80-4d3f-4208-bca4-836c398a1a48"
      },
      "source": [
        "#인덱스를 통해 순서를 지정 할 수도 있음\n",
        "\n",
        "print('성은{0}, 이름은{1}'.format(a,b))"
      ],
      "execution_count": null,
      "outputs": [
        {
          "output_type": "stream",
          "text": [
            "성은박, 이름은지성\n"
          ],
          "name": "stdout"
        }
      ]
    },
    {
      "cell_type": "code",
      "metadata": {
        "colab": {
          "base_uri": "https://localhost:8080/"
        },
        "id": "7ek3SwS20qdh",
        "outputId": "3e22f2e7-7aa8-4498-9fc4-0fcab68ad0da"
      },
      "source": [
        "#이름을 통해서 포맷팅 할 수도 있음\n",
        "\n",
        "print('나는 오늘 {음료}를 {개수} 잔이나 마셨다.'.format(음료='커피',개수=3))"
      ],
      "execution_count": null,
      "outputs": [
        {
          "output_type": "stream",
          "text": [
            "나는 오늘 커피를 3 잔이나 마셨다.\n"
          ],
          "name": "stdout"
        }
      ]
    },
    {
      "cell_type": "markdown",
      "metadata": {
        "id": "b83_wWrq6EeH"
      },
      "source": [
        "f-string (f 문자열 포맷팅)\n",
        "\n",
        "요즘 제일 많이 사용한대요.\n",
        "\n",
        "**f'{}'**"
      ]
    },
    {
      "cell_type": "code",
      "metadata": {
        "colab": {
          "base_uri": "https://localhost:8080/",
          "height": 35
        },
        "id": "54em3kr60qhl",
        "outputId": "2d5f5cf4-5e80-4b17-911a-4a1b2d9f3d92"
      },
      "source": [
        "year = 2021\n",
        "\n",
        "f'올해는 {year}'"
      ],
      "execution_count": null,
      "outputs": [
        {
          "output_type": "execute_result",
          "data": {
            "application/vnd.google.colaboratory.intrinsic+json": {
              "type": "string"
            },
            "text/plain": [
              "'올해는 2021'"
            ]
          },
          "metadata": {
            "tags": []
          },
          "execution_count": 81
        }
      ]
    },
    {
      "cell_type": "code",
      "metadata": {
        "colab": {
          "base_uri": "https://localhost:8080/",
          "height": 35
        },
        "id": "NBbTJW9L0qlw",
        "outputId": "6ad346b6-eb1c-44b5-f11c-00e3e3173766"
      },
      "source": [
        "drink = '커피'\n",
        "nums = 3\n",
        "\n",
        "f'나는 오늘 {drink}를 {nums+1} 잔이나 마셨다.'"
      ],
      "execution_count": null,
      "outputs": [
        {
          "output_type": "execute_result",
          "data": {
            "application/vnd.google.colaboratory.intrinsic+json": {
              "type": "string"
            },
            "text/plain": [
              "'나는 오늘 커피를 4 잔이나 마셨다.'"
            ]
          },
          "metadata": {
            "tags": []
          },
          "execution_count": 82
        }
      ]
    },
    {
      "cell_type": "markdown",
      "metadata": {
        "id": "_q0-TPSziw9p"
      },
      "source": [
        "#반복문"
      ]
    },
    {
      "cell_type": "markdown",
      "metadata": {
        "id": "YYy1_8rQi3QJ"
      },
      "source": [
        "**while**\n",
        "\n",
        "조건문이 참인 동안 반복해서 문장을 수행한다."
      ]
    },
    {
      "cell_type": "code",
      "metadata": {
        "id": "D-Wo23FhgvEm",
        "colab": {
          "base_uri": "https://localhost:8080/"
        },
        "outputId": "d235f055-cad5-4fd4-9316-af882ffa86c3"
      },
      "source": [
        "i =1\n",
        "\n",
        "while i<=10:   # i가 10 이하 일때\n",
        "  if i%2==0:   # i가 짝수이면\n",
        "    print(i)   # 출력해주세요\n",
        "  i+=1         # i는 1씩 더해주시고요.         i+=1 은 어디에 맞춰서 작성해야하는가요?"
      ],
      "execution_count": null,
      "outputs": [
        {
          "output_type": "stream",
          "text": [
            "2\n",
            "4\n",
            "6\n",
            "8\n",
            "10\n"
          ],
          "name": "stdout"
        }
      ]
    },
    {
      "cell_type": "markdown",
      "metadata": {
        "id": "OSNXSiuTlv9o"
      },
      "source": [
        "반복문에서 빠져나오려면 break를 이용하세요."
      ]
    },
    {
      "cell_type": "markdown",
      "metadata": {
        "id": "C79r0-lzl4Jz"
      },
      "source": [
        "반복문의 첫부분으로 돌아가고 싶다면 continue"
      ]
    },
    {
      "cell_type": "code",
      "metadata": {
        "id": "_COK-ta_gvIf",
        "colab": {
          "base_uri": "https://localhost:8080/"
        },
        "outputId": "17a110ea-4688-478c-fa47-161a8d880e9c"
      },
      "source": [
        "i = 0\n",
        "\n",
        "while i < 11:     #i가 11미만일때까지 반복할꺼에요.\n",
        "  i+=1            # i는 1씩 증가하고요.\n",
        "  if i ==6:       # 만약 i가 6이 되면요\n",
        "    continue      # 반복문의 첫부분으로 돌아가세요.\n",
        "  if i % 2 == 0 : # 만약 i 가 짝수이면요\n",
        "    print(i)      # i를 출력해주세요."
      ],
      "execution_count": null,
      "outputs": [
        {
          "output_type": "stream",
          "text": [
            "2\n",
            "4\n",
            "8\n",
            "10\n"
          ],
          "name": "stdout"
        }
      ]
    },
    {
      "cell_type": "markdown",
      "metadata": {
        "id": "BQc0KW7anxqc"
      },
      "source": [
        "**for**   \n",
        "\n",
        "해당 범위까지만 돌리고 싶을때"
      ]
    },
    {
      "cell_type": "code",
      "metadata": {
        "id": "tMDk4-uNgvOF",
        "colab": {
          "base_uri": "https://localhost:8080/"
        },
        "outputId": "691eedd1-273b-43ac-936e-4d498042a5c6"
      },
      "source": [
        "for x in range(0,5):  #변수의 범위를 지정하기 (숫자,자료형)\n",
        "  print(x)"
      ],
      "execution_count": null,
      "outputs": [
        {
          "output_type": "stream",
          "text": [
            "0\n",
            "1\n",
            "2\n",
            "3\n",
            "4\n"
          ],
          "name": "stdout"
        }
      ]
    },
    {
      "cell_type": "markdown",
      "metadata": {
        "id": "EpZ3OG7EoN56"
      },
      "source": [
        "범위 지정하기 (range())\n",
        "\n",
        "* 숫자로 범위주기\n",
        "\n",
        " range(시작, 끝, 간격)  \n",
        " 0부터 시작하여 1씩 증가한다면 시작과 간격은 생략가능\n",
        "\n",
        "*  자료형으로 범위주기\n",
        "\n",
        "\n",
        "\n"
      ]
    },
    {
      "cell_type": "code",
      "metadata": {
        "id": "PC8zGaQPgvQz",
        "colab": {
          "base_uri": "https://localhost:8080/"
        },
        "outputId": "e1f8dd7f-44cf-4858-ad74-4b9e170af651"
      },
      "source": [
        "#숫자로 범위주기\n",
        "for count in range(5,-1,-1):  # 끝이 -1 은 거꾸로 해서 끝이 0이 되도록  \n",
        "  print(count)                # 간격이 -1인 이유는 1씩 줄어들도록 하기 위함."
      ],
      "execution_count": null,
      "outputs": [
        {
          "output_type": "stream",
          "text": [
            "5\n",
            "4\n",
            "3\n",
            "2\n",
            "1\n",
            "0\n"
          ],
          "name": "stdout"
        }
      ]
    },
    {
      "cell_type": "code",
      "metadata": {
        "colab": {
          "base_uri": "https://localhost:8080/"
        },
        "id": "oaYcrsSX8kPW",
        "outputId": "51d08c13-59ba-40ec-bb48-3291e94f73b1"
      },
      "source": [
        "for count in range(5): \n",
        "  print(count)   "
      ],
      "execution_count": null,
      "outputs": [
        {
          "output_type": "stream",
          "text": [
            "0\n",
            "1\n",
            "2\n",
            "3\n",
            "4\n"
          ],
          "name": "stdout"
        }
      ]
    },
    {
      "cell_type": "code",
      "metadata": {
        "id": "Hk7ZiVPtgvUs",
        "colab": {
          "base_uri": "https://localhost:8080/"
        },
        "outputId": "3bb426f0-cd27-44ee-eaf8-5e0324621b81"
      },
      "source": [
        "#자료형으로 범위주기\n",
        "\n",
        "word = 'hello'\n",
        "\n",
        "for w in word:\n",
        "  print(w)"
      ],
      "execution_count": null,
      "outputs": [
        {
          "output_type": "stream",
          "text": [
            "h\n",
            "e\n",
            "l\n",
            "l\n",
            "o\n"
          ],
          "name": "stdout"
        }
      ]
    },
    {
      "cell_type": "code",
      "metadata": {
        "id": "5TxDN9dXgvav",
        "colab": {
          "base_uri": "https://localhost:8080/"
        },
        "outputId": "098e54dc-1f86-441c-d727-f3886712b59d"
      },
      "source": [
        "for a,b in [(2,1),(2,2),(2,3),(2,4)]:\n",
        "  print(a*b)"
      ],
      "execution_count": null,
      "outputs": [
        {
          "output_type": "stream",
          "text": [
            "2\n",
            "4\n",
            "6\n",
            "8\n"
          ],
          "name": "stdout"
        }
      ]
    },
    {
      "cell_type": "markdown",
      "metadata": {
        "id": "meE66tdYrqJb"
      },
      "source": [
        "**이중 반복문**"
      ]
    },
    {
      "cell_type": "code",
      "metadata": {
        "id": "LMRIfkMX0rrI",
        "colab": {
          "base_uri": "https://localhost:8080/"
        },
        "outputId": "c64cea1e-3e71-4286-e085-492a31badf38"
      },
      "source": [
        "#구구단 2단과 3단을 출력하기\n",
        "\n",
        "for i in range(2,4):  #i라는 변수에 2부터 4까지(3)를 넣어줄꺼에요.\n",
        "  print('===', i,'단===')  #2,3이 들어가면 이렇게 출력해주세요.\n",
        "  for j in range(1,10): # j라는 변수에 1부터 10(9)까지 넣어줄꺼에요\n",
        "    print(i*j)  # i*j로 출력해주세요."
      ],
      "execution_count": null,
      "outputs": [
        {
          "output_type": "stream",
          "text": [
            "=== 2 단===\n",
            "2\n",
            "4\n",
            "6\n",
            "8\n",
            "10\n",
            "12\n",
            "14\n",
            "16\n",
            "18\n",
            "=== 3 단===\n",
            "3\n",
            "6\n",
            "9\n",
            "12\n",
            "15\n",
            "18\n",
            "21\n",
            "24\n",
            "27\n"
          ],
          "name": "stdout"
        }
      ]
    },
    {
      "cell_type": "code",
      "metadata": {
        "id": "X-7gbq2zsroi"
      },
      "source": [
        ""
      ],
      "execution_count": null,
      "outputs": []
    },
    {
      "cell_type": "code",
      "metadata": {
        "id": "H-v4M5_K0r3S"
      },
      "source": [
        ""
      ],
      "execution_count": null,
      "outputs": []
    },
    {
      "cell_type": "code",
      "metadata": {
        "id": "PdpUzTGqrf7l"
      },
      "source": [
        ""
      ],
      "execution_count": null,
      "outputs": []
    },
    {
      "cell_type": "code",
      "metadata": {
        "id": "ZhKGvYmtrgAG"
      },
      "source": [
        ""
      ],
      "execution_count": null,
      "outputs": []
    },
    {
      "cell_type": "code",
      "metadata": {
        "id": "xOFdEwi0rgFF"
      },
      "source": [
        ""
      ],
      "execution_count": null,
      "outputs": []
    },
    {
      "cell_type": "code",
      "metadata": {
        "id": "GodSM4gJrgJY"
      },
      "source": [
        ""
      ],
      "execution_count": null,
      "outputs": []
    },
    {
      "cell_type": "code",
      "metadata": {
        "id": "H0QrHd6ArgMy"
      },
      "source": [
        ""
      ],
      "execution_count": null,
      "outputs": []
    },
    {
      "cell_type": "code",
      "metadata": {
        "id": "0Ogex_RfrgQw"
      },
      "source": [
        ""
      ],
      "execution_count": null,
      "outputs": []
    },
    {
      "cell_type": "code",
      "metadata": {
        "id": "OOJWxrpprgVr"
      },
      "source": [
        ""
      ],
      "execution_count": null,
      "outputs": []
    },
    {
      "cell_type": "code",
      "metadata": {
        "id": "u_fnYWx2rga7"
      },
      "source": [
        ""
      ],
      "execution_count": null,
      "outputs": []
    },
    {
      "cell_type": "code",
      "metadata": {
        "id": "S4FtNjCqrgfX"
      },
      "source": [
        ""
      ],
      "execution_count": null,
      "outputs": []
    },
    {
      "cell_type": "code",
      "metadata": {
        "id": "Geoof91Irgiy"
      },
      "source": [
        ""
      ],
      "execution_count": null,
      "outputs": []
    },
    {
      "cell_type": "code",
      "metadata": {
        "id": "u3dcEy4orhIt"
      },
      "source": [
        ""
      ],
      "execution_count": null,
      "outputs": []
    },
    {
      "cell_type": "code",
      "metadata": {
        "id": "5OLRXwVmrhT6"
      },
      "source": [
        ""
      ],
      "execution_count": null,
      "outputs": []
    },
    {
      "cell_type": "code",
      "metadata": {
        "id": "GapEi4zprhZA"
      },
      "source": [
        ""
      ],
      "execution_count": null,
      "outputs": []
    },
    {
      "cell_type": "code",
      "metadata": {
        "id": "m4U-hALVrhdj"
      },
      "source": [
        ""
      ],
      "execution_count": null,
      "outputs": []
    },
    {
      "cell_type": "code",
      "metadata": {
        "id": "TpbDKm0-rhjK"
      },
      "source": [
        ""
      ],
      "execution_count": null,
      "outputs": []
    },
    {
      "cell_type": "code",
      "metadata": {
        "id": "l8V649_Xrhm2"
      },
      "source": [
        ""
      ],
      "execution_count": null,
      "outputs": []
    },
    {
      "cell_type": "code",
      "metadata": {
        "id": "-NYcmJTyrhqf"
      },
      "source": [
        ""
      ],
      "execution_count": null,
      "outputs": []
    },
    {
      "cell_type": "code",
      "metadata": {
        "id": "E3QNwqxirhur"
      },
      "source": [
        ""
      ],
      "execution_count": null,
      "outputs": []
    },
    {
      "cell_type": "code",
      "metadata": {
        "id": "f_AtNnK4rhyt"
      },
      "source": [
        ""
      ],
      "execution_count": null,
      "outputs": []
    },
    {
      "cell_type": "code",
      "metadata": {
        "id": "YZ7epq2erh2T"
      },
      "source": [
        ""
      ],
      "execution_count": null,
      "outputs": []
    },
    {
      "cell_type": "code",
      "metadata": {
        "id": "VtlFeinmrh6M"
      },
      "source": [
        ""
      ],
      "execution_count": null,
      "outputs": []
    },
    {
      "cell_type": "code",
      "metadata": {
        "colab": {
          "base_uri": "https://localhost:8080/"
        },
        "id": "md3stBhakj6i",
        "outputId": "0b27f3dc-ffc7-4fe2-b48f-af989f67bc85"
      },
      "source": [
        "#제어문\n",
        "\n",
        "#변수 x의 값이 90보다 크거나 같으면 'very good'을 출력하고 80보다 크거나 같고 90보다 작으면 'good'을 출력하고 80보다 작으면 'bad를 출력하라.\n",
        "\n",
        "x=85\n",
        "\n",
        "if x>90:\n",
        "  print('very good')\n",
        "elif x>=80 and x<90:  # (80<=x<90)도 가능\n",
        "  print('good')\n",
        "else :\n",
        "  print('bad')"
      ],
      "execution_count": null,
      "outputs": [
        {
          "output_type": "stream",
          "text": [
            "good\n"
          ],
          "name": "stdout"
        }
      ]
    },
    {
      "cell_type": "code",
      "metadata": {
        "colab": {
          "base_uri": "https://localhost:8080/"
        },
        "id": "WBLK4pZElZh9",
        "outputId": "3a997a45-5d9b-4b3d-fd2c-4991d5cb1267"
      },
      "source": [
        "#위 조건에 변수 x가 'x>=90을 만족하는 가운데 x가 100이면 perfect 를 출력하고 그렇지 않으면 very good 을 출력\n",
        "\n",
        "x=100\n",
        "\n",
        "if x>=90:\n",
        "  if x==100:\n",
        "    print('perfect')\n",
        "  else:\n",
        "    print('very good')\n",
        "elif x>=80 and x<90:  # (80<=x<90)도 가능\n",
        "  print('good')\n",
        "else :\n",
        "  print('bad')"
      ],
      "execution_count": null,
      "outputs": [
        {
          "output_type": "stream",
          "text": [
            "perfect\n"
          ],
          "name": "stdout"
        }
      ]
    },
    {
      "cell_type": "code",
      "metadata": {
        "id": "7GLt1_tFmd7M"
      },
      "source": [
        ""
      ],
      "execution_count": null,
      "outputs": []
    }
  ]
}