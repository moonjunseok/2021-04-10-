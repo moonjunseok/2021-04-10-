{
  "nbformat": 4,
  "nbformat_minor": 0,
  "metadata": {
    "colab": {
      "name": "파이썬 시험 문제 연습",
      "provenance": [],
      "collapsed_sections": [],
      "authorship_tag": "ABX9TyMUiqbna2HwlTRu46ghkp+s",
      "include_colab_link": true
    },
    "kernelspec": {
      "name": "python3",
      "display_name": "Python 3"
    },
    "language_info": {
      "name": "python"
    }
  },
  "cells": [
    {
      "cell_type": "markdown",
      "metadata": {
        "id": "view-in-github",
        "colab_type": "text"
      },
      "source": [
        "<a href=\"https://colab.research.google.com/github/moonjunseok/2021-04-10-/blob/main/%ED%8C%8C%EC%9D%B4%EC%8D%AC_%EC%8B%9C%ED%97%98_%EB%AC%B8%EC%A0%9C_%EC%97%B0%EC%8A%B5.ipynb\" target=\"_parent\"><img src=\"https://colab.research.google.com/assets/colab-badge.svg\" alt=\"Open In Colab\"/></a>"
      ]
    },
    {
      "cell_type": "markdown",
      "metadata": {
        "id": "4VEyqFYI6ykr"
      },
      "source": [
        "add_all(*inputs)\n",
        "\n",
        "*inputs1:[1,2,3,4,5]\n",
        "\n",
        "output:15\n",
        "\n",
        "*inputs2:(1,2,3,4,5)\n",
        "\n",
        "output:15"
      ]
    },
    {
      "cell_type": "code",
      "metadata": {
        "id": "DWC6xExe6u3j",
        "colab": {
          "base_uri": "https://localhost:8080/"
        },
        "outputId": "ae549d6f-2073-4816-9f69-c305f14f1f1a"
      },
      "source": [
        "def add_all(*input):\n",
        "  s=0\n",
        "  for i in input:\n",
        "    for j in i:\n",
        "      s+=j\n",
        "  return s\n",
        "print(add_all([1,2,3,4,5]))\n",
        "print(add_all((1,2,3,4,5)))"
      ],
      "execution_count": 2,
      "outputs": [
        {
          "output_type": "stream",
          "text": [
            "15\n",
            "15\n"
          ],
          "name": "stdout"
        }
      ]
    },
    {
      "cell_type": "markdown",
      "metadata": {
        "id": "lPJZ-gEg65uh"
      },
      "source": [
        "문제 1)\n",
        "\n",
        "고객의 개인정보보호를 위하여 이름을 비 식별화를 하려고 한다. 고객의 이름을 비 식별화 하여서 출력해보세요.\n",
        "\n",
        "예시) 홍길동 -> 홍*동"
      ]
    },
    {
      "cell_type": "code",
      "metadata": {
        "id": "X49byRvw69TB"
      },
      "source": [
        "names=['홍길동','홍계월','김철수','이영희','박첨지']"
      ],
      "execution_count": null,
      "outputs": []
    },
    {
      "cell_type": "code",
      "metadata": {
        "colab": {
          "base_uri": "https://localhost:8080/"
        },
        "id": "AkOzOqO77BnT",
        "outputId": "8b082d45-f734-42ce-d62e-efd54a366175"
      },
      "source": [
        "new=[]\n",
        "i=0\n",
        "\n",
        "for a in names:\n",
        "  new.append(names[i].replace(a[1],'*'))\n",
        "  i+=1\n",
        "print(new)\n"
      ],
      "execution_count": null,
      "outputs": [
        {
          "output_type": "stream",
          "text": [
            "['홍*동', '홍*월', '김*수', '이*희', '박*지']\n"
          ],
          "name": "stdout"
        }
      ]
    },
    {
      "cell_type": "markdown",
      "metadata": {
        "id": "X1TmtkHo85Vr"
      },
      "source": [
        "문제 5)\n",
        "\n",
        "복리이자율7%로 1000만원 저금시 2000만원이 되기까지 몇년이 걸리는가?"
      ]
    },
    {
      "cell_type": "code",
      "metadata": {
        "colab": {
          "base_uri": "https://localhost:8080/"
        },
        "id": "smVtXD-y7qBM",
        "outputId": "214bbf4c-c3fe-4a01-fc89-def224159474"
      },
      "source": [
        "money=1000\n",
        "year=0\n",
        "\n",
        "while money<= 2000:\n",
        "  add_money=money*0.07\n",
        "  money+=add_money\n",
        "  year+=1\n",
        "print(year)"
      ],
      "execution_count": null,
      "outputs": [
        {
          "output_type": "stream",
          "text": [
            "11\n"
          ],
          "name": "stdout"
        }
      ]
    },
    {
      "cell_type": "markdown",
      "metadata": {
        "id": "0S-661Nj_0OC"
      },
      "source": [
        "문제 6)\n",
        "\n",
        " 다음 문장에서 모음('aeiou')을 제거하시오\n",
        "\n",
        "문장 : \"Life is too short, you need python!\" (Hint : List comprehension or for 문을 사용하세요.)"
      ]
    },
    {
      "cell_type": "code",
      "metadata": {
        "colab": {
          "base_uri": "https://localhost:8080/"
        },
        "id": "fH6Ww2gm9wlr",
        "outputId": "e7f44628-7d5e-44db-9d36-fe9d5c8f9090"
      },
      "source": [
        "a=\"Life is too short, you need python!\"\n",
        "b='aeiou'\n",
        "\n",
        "result=[x for x in a if x not in b]\n",
        "print(''.join(result))"
      ],
      "execution_count": null,
      "outputs": [
        {
          "output_type": "stream",
          "text": [
            "Lf s t shrt, y nd pythn!\n"
          ],
          "name": "stdout"
        }
      ]
    },
    {
      "cell_type": "markdown",
      "metadata": {
        "id": "YssCCnvfG2QP"
      },
      "source": [
        "문제 7) \n",
        "\n",
        "리스트 중에서 홀수에만 2를 곱하여 저장하는 코드 작성."
      ]
    },
    {
      "cell_type": "code",
      "metadata": {
        "colab": {
          "base_uri": "https://localhost:8080/"
        },
        "id": "E1sCLV9wAh4I",
        "outputId": "2378d708-24ce-4f58-b96d-18a7e7d2bf8e"
      },
      "source": [
        "list_1=[1,2,3,4,5,6,7,8,9]\n",
        "a=[]\n",
        "\n",
        "for i in list_1: \n",
        "  if i%2==1:\n",
        "    a.append(i*2)\n",
        "print(a)"
      ],
      "execution_count": null,
      "outputs": [
        {
          "output_type": "stream",
          "text": [
            "[2, 6, 10, 14, 18]\n"
          ],
          "name": "stdout"
        }
      ]
    },
    {
      "cell_type": "markdown",
      "metadata": {
        "id": "3CocXsgdK7_l"
      },
      "source": [
        "문제 8) \n",
        "\n",
        "LIst Comprehension을 이용해서 list1이 1부터 100사이의 8의 배수를 가지도록 만들어 보세요"
      ]
    },
    {
      "cell_type": "code",
      "metadata": {
        "colab": {
          "base_uri": "https://localhost:8080/"
        },
        "id": "4BdTnVFZHcLn",
        "outputId": "0412ebf2-6160-4329-9a83-1a35ed247aba"
      },
      "source": [
        "list_1=[x for x in range(1,101) if x%8==0]\n",
        "print(list_1)"
      ],
      "execution_count": null,
      "outputs": [
        {
          "output_type": "stream",
          "text": [
            "[8, 16, 24, 32, 40, 48, 56, 64, 72, 80, 88, 96]\n"
          ],
          "name": "stdout"
        }
      ]
    },
    {
      "cell_type": "markdown",
      "metadata": {
        "id": "HTAesLwwePxt"
      },
      "source": [
        "문제 12) \n",
        "\n",
        "1부터 입력받은 숫자 n 사이에 있는 소수의 개수를 반환하는 함수, solution을 만들어 보세요. 소수는 1과 자기 자신으로만 나누어지는 수를 의미합니다. (1은 소수가 아닙니다.)\n",
        "\n",
        "[제한 조건]\n",
        "\n",
        "n은 2이상 1000000이하의 자연수입니다.\n",
        "\n",
        "n result\n",
        "\n",
        "10 4\n",
        "\n",
        "5 3\n",
        "\n",
        "입출력 예 설명\n",
        "\n",
        "입출력 예 #1\n",
        "\n",
        "1부터 10 사이의 소수는 [2,3,5,7] 4개가 존재하므로 4를 반환\n",
        "\n",
        "입출력 예 #2\n",
        "\n",
        "1부터 5 사이의 소수는 [2,3,5] 3개가 존재하므로 3를 반환"
      ]
    },
    {
      "cell_type": "code",
      "metadata": {
        "id": "twdlm2ESeS2h"
      },
      "source": [
        "def solution(n12):\n",
        "  prime = []\n",
        "  count = 0\n",
        "  if n12 < 2 and n12 > 1000000:\n",
        "    print('2이상 1000000이하의 자연수만 입력하세요.')\n",
        "  elif n12 >= 2 and n12 <= 1000000:\n",
        "    for f in range(2,n12+1):\n",
        "      chk = True\n",
        "      for j in range(2,f):\n",
        "        if f%j == 0:\n",
        "          chk = False\n",
        "          break\n",
        "      if chk:\n",
        "        count += 1\n",
        "        prime.append(f)\n",
        "    print(f'1부터 {n12} 사이의 소수는 {prime} {count}개가 존재하므로 {count}를 반환')\n",
        "solution(10)"
      ],
      "execution_count": null,
      "outputs": []
    },
    {
      "cell_type": "markdown",
      "metadata": {
        "id": "rmcV8RUxO4TM"
      },
      "source": [
        "**18)**\n",
        "\n",
        "숫자 형태의 문자열을 콤마가 포함된 금액 표기식 문자열로 바꾸어주는 프로그램을 작성하시오. ※ 단, 프로그래밍 언어에서 지원하는 금액변환 라이브러리는 사용하지 말것\n",
        "\n",
        "예)\n",
        "\n",
        "숫자 금액 1000 -> 1,000\n",
        "\n",
        "20000000 -> 20,000,000\n",
        "\n",
        "3245.24 -> -3,245.24"
      ]
    },
    {
      "cell_type": "code",
      "metadata": {
        "id": "9CRszl2_VVC5"
      },
      "source": [
        "cost = input(str())\n",
        "trans_code = \"\" #문자형\n",
        "# 소수점 있는지 없는지 여부\n",
        "cost_int = \"\"  # 정수 부분\n",
        "cost_float = \"\"  # 정수 부분\n",
        "if cost.find(\".\") != -1:  #'.' 이 있을 경우\n",
        "    # 소수점이 있는경우\n",
        "    cost_float = cost[cost.find(\".\"):]\n",
        "    cost_int = cost[:cost.find(\".\")]\n",
        "else:\n",
        "    # 소수점이 없는경우\n",
        "    cost_int = cost\n",
        "# 수소점 3자리수 마다 ,넣기위한 변수\n",
        "cum_count = 1\n",
        "for i in range(len(cost_int) - 1, -1, -1):\n",
        "    trans_code = cost_int[i] + trans_code\n",
        "    if cum_count % 3 == 0 and i != 0:\n",
        "        trans_code = ',' + trans_code\n",
        "    cum_count += 1\n",
        "trans_code += cost_float\n",
        "\n",
        "print(cost_float)"
      ],
      "execution_count": null,
      "outputs": []
    },
    {
      "cell_type": "markdown",
      "metadata": {
        "id": "yJ2E3_MbcxOE"
      },
      "source": [
        "19)\n",
        "\n",
        "약수를 모두 찾는 수학 문제를 풀다가 지친 X는 컴퓨터의 도움을 받아 문제를 풀어 보기로 하였다. 하지만 계산기를 이용하자니 계산기로 하고 싶지만 찾기도 어려우며, 쉽게 찾아낼 수도 없었다. 풀이에 지친 그는 결국 약수들이 가지고 있는 특징을 찾아 결국 몇시간에 걸쳐 복잡한 수라도 약수를 찾아줄 수 있고 개수도 알려주는 프로그램을 짜게 된다.\n",
        "\n",
        "다음은 약수를 얻기 위한 입력과 출력 예제들이다.\n",
        "\n",
        "입력 1\n",
        "\n",
        "24 출력 1\n",
        "\n",
        "{ 1, 2, 3, 4, 6, 8, 12, 24} 약수의 개수는 8개 입니다. 입력 2\n",
        "\n",
        "36 출력 2\n",
        "\n",
        "{ 1, 2, 3, 4, 6, 9, 12, 18, 36 } 약수의 개수는 9개 입니다. 입력 3\n",
        "\n",
        "2468013579 출력 3\n",
        "\n",
        "{ 1, 3, 9, 61, 183, 549, 4495471, 13486413, 40459239, 274223731, 822671193, 2468013579 } 약수의 개수는 12개 입니다. 사용한 소스코드를 풀이에 넣어 입력과 출력이 나왔음을 보이고, 소스코드를 디버깅하여 123456789를 입력해 출력된 결과를 '{ a, b, ... } / 약수의 개수는 ~개 입니다' 형식으로 하시오."
      ]
    },
    {
      "cell_type": "code",
      "metadata": {
        "id": "rkfeqQSeczoy"
      },
      "source": [
        "n=int(input())\n",
        "a=[]\n",
        "\n",
        "def yaksu(n):\n",
        "  for i in range(1,n+1):\n",
        "    if n%i==0:\n",
        "      a.append(i)\n",
        "  print(f'{set(a)} 약수의 갯수는 {len(a)} 개 입니다.')\n",
        "yaksu(n)"
      ],
      "execution_count": null,
      "outputs": []
    },
    {
      "cell_type": "markdown",
      "metadata": {
        "id": "_EfyW0uic_91"
      },
      "source": [
        "문제 20)\n",
        "\n",
        "2^15 = 32768 의 각 자리수를 더하면 3 + 2 + 7 + 6 + 8 = 26 입니다. 2^1000의 각 자리수를 모두 더하면 얼마입니까?"
      ]
    },
    {
      "cell_type": "code",
      "metadata": {
        "id": "Iq946ROOdCqm"
      },
      "source": [
        "a=str(2**1000)\n",
        "sum=0\n",
        "for i in range(len(a)):\n",
        "  sum=sum+int(a[i])\n",
        "print(sum)"
      ],
      "execution_count": null,
      "outputs": []
    },
    {
      "cell_type": "markdown",
      "metadata": {
        "id": "lalR-KiTderB"
      },
      "source": [
        "문제 22)\n",
        "\n",
        "2진법이란, 어떤 자연수를 0과 1로만 나타내는 것이다.\n",
        "\n",
        "예를 들어 73은 64(2^6)+8(2^3)+1(2^0)이기 때문에 1001001으로 표현한다.\n",
        "\n",
        "어떤 숫자를 입력받았을 때 그 숫자를 2진법으로 출력하는 프로그램을 작성하시오."
      ]
    },
    {
      "cell_type": "code",
      "metadata": {
        "colab": {
          "base_uri": "https://localhost:8080/"
        },
        "id": "BmFyM8aSde_x",
        "outputId": "064f08e6-a1cc-4d28-988b-33acb8a1641f"
      },
      "source": [
        "n=int(input())\n",
        "lee=[]\n",
        "def two(n):\n",
        "  i=1\n",
        "  while True:\n",
        "    q=int((n/2))\n",
        "    r= int((n%2))\n",
        "    lee.insert(0,r)\n",
        "    print(f'{i} : ({q},{r})')\n",
        "    i+=1\n",
        "    if q!=0:\n",
        "      n=q\n",
        "    else:\n",
        "      break\n",
        "  lee_str=list(map(lambda x: str(x),lee))\n",
        "  print(''.join(lee_str))\n",
        "two(n)"
      ],
      "execution_count": 1,
      "outputs": [
        {
          "output_type": "stream",
          "text": [
            "73\n",
            "1 : (36,1)\n",
            "2 : (18,0)\n",
            "3 : (9,0)\n",
            "4 : (4,1)\n",
            "5 : (2,0)\n",
            "6 : (1,0)\n",
            "7 : (0,1)\n",
            "1001001\n"
          ],
          "name": "stdout"
        }
      ]
    },
    {
      "cell_type": "code",
      "metadata": {
        "id": "6amfAlYEdlUu"
      },
      "source": [
        ""
      ],
      "execution_count": null,
      "outputs": []
    }
  ]
}